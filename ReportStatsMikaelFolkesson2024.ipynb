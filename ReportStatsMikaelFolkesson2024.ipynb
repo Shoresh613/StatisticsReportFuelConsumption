{
 "cells": [
  {
   "cell_type": "markdown",
   "metadata": {},
   "source": [
    "# Report for Statistics Course 2024\n",
    "#### Mikael Folkesson, AI-23"
   ]
  },
  {
   "cell_type": "markdown",
   "metadata": {},
   "source": [
    "## Introduction\n",
    "I chose to explore the auto-mpg dataset consisting of 398 cars produced between 1970-1982, and collected by the *American Statistical Association* in 1983. Given that the dataset is American, it might well be biased and not representative of all European and Japanese cars available on the market in Europe and Japan at the time. We will assume that it's fairly representative, but keep the possible bias in mind. \n",
    "\n",
    "I will pursue two research questions, the first a hypothesis test, and the second a linear regression analysis including prediction:\n",
    "1. **Can we, with 99% certainty, say that there was a difference in fuel comsumption between American, European, and Japanese cars** in the years 1970-1982.\n",
    "2. **Can we predict a car's fuel consumption based on its weight and horse powers?**"
   ]
  },
  {
   "cell_type": "markdown",
   "metadata": {},
   "source": [
    "## Initial data exploration"
   ]
  },
  {
   "cell_type": "code",
   "execution_count": 1,
   "metadata": {},
   "outputs": [],
   "source": [
    "import numpy as np\n",
    "import pandas as pd\n",
    "    \n",
    "# Import Car Data\n",
    "filepath = 'Data/auto-mpg.csv'\n",
    "cars = pd.read_csv(filepath)"
   ]
  },
  {
   "cell_type": "code",
   "execution_count": 20,
   "metadata": {},
   "outputs": [
    {
     "name": "stdout",
     "output_type": "stream",
     "text": [
      "<class 'pandas.core.frame.DataFrame'>\n",
      "RangeIndex: 398 entries, 0 to 397\n",
      "Data columns (total 9 columns):\n",
      " #   Column        Non-Null Count  Dtype  \n",
      "---  ------        --------------  -----  \n",
      " 0   mpg           398 non-null    float64\n",
      " 1   cylinders     398 non-null    int64  \n",
      " 2   displacement  398 non-null    float64\n",
      " 3   horsepower    392 non-null    float64\n",
      " 4   weight        398 non-null    int64  \n",
      " 5   acceleration  398 non-null    float64\n",
      " 6   model_year    398 non-null    int64  \n",
      " 7   origin        398 non-null    object \n",
      " 8   name          398 non-null    object \n",
      "dtypes: float64(4), int64(3), object(2)\n",
      "memory usage: 28.1+ KB\n",
      "None\n",
      "              mpg   cylinders  displacement  horsepower       weight  \\\n",
      "count  398.000000  398.000000    398.000000  392.000000   398.000000   \n",
      "mean    23.514573    5.454774    193.425879  104.469388  2970.424623   \n",
      "std      7.815984    1.701004    104.269838   38.491160   846.841774   \n",
      "min      9.000000    3.000000     68.000000   46.000000  1613.000000   \n",
      "25%     17.500000    4.000000    104.250000   75.000000  2223.750000   \n",
      "50%     23.000000    4.000000    148.500000   93.500000  2803.500000   \n",
      "75%     29.000000    8.000000    262.000000  126.000000  3608.000000   \n",
      "max     46.600000    8.000000    455.000000  230.000000  5140.000000   \n",
      "\n",
      "       acceleration  model_year  \n",
      "count    398.000000  398.000000  \n",
      "mean      15.568090   76.010050  \n",
      "std        2.757689    3.697627  \n",
      "min        8.000000   70.000000  \n",
      "25%       13.825000   73.000000  \n",
      "50%       15.500000   76.000000  \n",
      "75%       17.175000   79.000000  \n",
      "max       24.800000   82.000000  \n"
     ]
    }
   ],
   "source": [
    "# Initial overview of the data\n",
    "print(cars.info())\n",
    "print(cars.describe())"
   ]
  },
  {
   "cell_type": "markdown",
   "metadata": {},
   "source": [
    "The dataset contains 398 cars and has the following columns, whose contents are trivial given their names:\n",
    "- **mpg**: Miles per gallon, a measure of fuel efficiency.\n",
    "- **cylinders**: The number of cylinders in the engine.\n",
    "- **displacement**: Engine displacement.\n",
    "- **horsepower**: Engine power.\n",
    "- **weight**: Weight of the car.\n",
    "- **acceleration**: Acceleration.\n",
    "- **model_year**: The year of the model.\n",
    "- **origin**: The origin of the car (i.e., USA, Europe, or Japan).\n",
    "- **name**: The name of the car model.\n",
    "\n",
    "We see that there are only 6 missing values in the horsepower column, and as we initially don't intend to use that column there's currently no need to drop those rows."
   ]
  },
  {
   "cell_type": "markdown",
   "metadata": {},
   "source": [
    "## Research Question 1 (hypothesis test):\n",
    "### Can we, with 95% confidence, say that there was a difference in fuel comsumption between American, European, and Japanese cars in the years 1970-1982?"
   ]
  },
  {
   "cell_type": "code",
   "execution_count": 21,
   "metadata": {},
   "outputs": [
    {
     "data": {
      "text/html": [
       "<div>\n",
       "<style scoped>\n",
       "    .dataframe tbody tr th:only-of-type {\n",
       "        vertical-align: middle;\n",
       "    }\n",
       "\n",
       "    .dataframe tbody tr th {\n",
       "        vertical-align: top;\n",
       "    }\n",
       "\n",
       "    .dataframe thead th {\n",
       "        text-align: right;\n",
       "    }\n",
       "</style>\n",
       "<table border=\"1\" class=\"dataframe\">\n",
       "  <thead>\n",
       "    <tr style=\"text-align: right;\">\n",
       "      <th></th>\n",
       "      <th>mpg</th>\n",
       "      <th>cylinders</th>\n",
       "      <th>displacement</th>\n",
       "      <th>horsepower</th>\n",
       "      <th>weight</th>\n",
       "      <th>acceleration</th>\n",
       "      <th>model_year</th>\n",
       "      <th>origin</th>\n",
       "      <th>name</th>\n",
       "      <th>l/10km</th>\n",
       "    </tr>\n",
       "  </thead>\n",
       "  <tbody>\n",
       "    <tr>\n",
       "      <th>0</th>\n",
       "      <td>18.0</td>\n",
       "      <td>8</td>\n",
       "      <td>307.0</td>\n",
       "      <td>130.0</td>\n",
       "      <td>3504</td>\n",
       "      <td>12.0</td>\n",
       "      <td>70</td>\n",
       "      <td>usa</td>\n",
       "      <td>chevrolet chevelle malibu</td>\n",
       "      <td>1.306750</td>\n",
       "    </tr>\n",
       "    <tr>\n",
       "      <th>1</th>\n",
       "      <td>15.0</td>\n",
       "      <td>8</td>\n",
       "      <td>350.0</td>\n",
       "      <td>165.0</td>\n",
       "      <td>3693</td>\n",
       "      <td>11.5</td>\n",
       "      <td>70</td>\n",
       "      <td>usa</td>\n",
       "      <td>buick skylark 320</td>\n",
       "      <td>1.568100</td>\n",
       "    </tr>\n",
       "    <tr>\n",
       "      <th>2</th>\n",
       "      <td>18.0</td>\n",
       "      <td>8</td>\n",
       "      <td>318.0</td>\n",
       "      <td>150.0</td>\n",
       "      <td>3436</td>\n",
       "      <td>11.0</td>\n",
       "      <td>70</td>\n",
       "      <td>usa</td>\n",
       "      <td>plymouth satellite</td>\n",
       "      <td>1.306750</td>\n",
       "    </tr>\n",
       "    <tr>\n",
       "      <th>3</th>\n",
       "      <td>16.0</td>\n",
       "      <td>8</td>\n",
       "      <td>304.0</td>\n",
       "      <td>150.0</td>\n",
       "      <td>3433</td>\n",
       "      <td>12.0</td>\n",
       "      <td>70</td>\n",
       "      <td>usa</td>\n",
       "      <td>amc rebel sst</td>\n",
       "      <td>1.470094</td>\n",
       "    </tr>\n",
       "    <tr>\n",
       "      <th>4</th>\n",
       "      <td>17.0</td>\n",
       "      <td>8</td>\n",
       "      <td>302.0</td>\n",
       "      <td>140.0</td>\n",
       "      <td>3449</td>\n",
       "      <td>10.5</td>\n",
       "      <td>70</td>\n",
       "      <td>usa</td>\n",
       "      <td>ford torino</td>\n",
       "      <td>1.383618</td>\n",
       "    </tr>\n",
       "  </tbody>\n",
       "</table>\n",
       "</div>"
      ],
      "text/plain": [
       "    mpg  cylinders  displacement  horsepower  weight  acceleration  \\\n",
       "0  18.0          8         307.0       130.0    3504          12.0   \n",
       "1  15.0          8         350.0       165.0    3693          11.5   \n",
       "2  18.0          8         318.0       150.0    3436          11.0   \n",
       "3  16.0          8         304.0       150.0    3433          12.0   \n",
       "4  17.0          8         302.0       140.0    3449          10.5   \n",
       "\n",
       "   model_year origin                       name    l/10km  \n",
       "0          70    usa  chevrolet chevelle malibu  1.306750  \n",
       "1          70    usa          buick skylark 320  1.568100  \n",
       "2          70    usa         plymouth satellite  1.306750  \n",
       "3          70    usa              amc rebel sst  1.470094  \n",
       "4          70    usa                ford torino  1.383618  "
      ]
     },
     "execution_count": 21,
     "metadata": {},
     "output_type": "execute_result"
    }
   ],
   "source": [
    "# Let's begin by converting fuel consumption from mpg to l/10km (common in Sweden)\n",
    "cars['l/10km'] = 23.5215/cars['mpg']\n",
    "cars.head()"
   ]
  },
  {
   "cell_type": "code",
   "execution_count": 22,
   "metadata": {},
   "outputs": [
    {
     "name": "stdout",
     "output_type": "stream",
     "text": [
      "origin\n",
      "usa       249\n",
      "japan      79\n",
      "europe     70\n",
      "Name: count, dtype: int64\n"
     ]
    }
   ],
   "source": [
    "# Check number of cars per origin\n",
    "print(cars['origin'].value_counts())"
   ]
  },
  {
   "cell_type": "markdown",
   "metadata": {},
   "source": [
    "As there is a sufficient amount of cars of each category of origin, we can continue with this research question."
   ]
  },
  {
   "cell_type": "code",
   "execution_count": 23,
   "metadata": {},
   "outputs": [
    {
     "name": "stdout",
     "output_type": "stream",
     "text": [
      "              USA     Europe      Japan\n",
      "count  249.000000  70.000000  79.000000\n",
      "mean     1.285942   0.891168   0.806317\n",
      "std      0.384333   0.211338   0.176842\n",
      "min      0.603115   0.530959   0.504753\n",
      "25%      0.980062   0.767429   0.690794\n",
      "50%      1.271432   0.887920   0.744351\n",
      "75%      1.568100   0.980062   0.915358\n",
      "max      2.613500   1.451944   1.306750\n"
     ]
    }
   ],
   "source": [
    "# Segmenting the data based on the origin\n",
    "american_cars = cars[cars['origin'] == 'usa']\n",
    "european_cars = cars[cars['origin'] == 'europe']\n",
    "japanese_cars = cars[cars['origin'] == 'japan']\n",
    "\n",
    "# Calculating descriptive statistics for each segment\n",
    "american_stats = american_cars['l/10km'].describe()\n",
    "european_stats = european_cars['l/10km'].describe()\n",
    "japanese_stats = japanese_cars['l/10km'].describe()\n",
    "\n",
    "#Combine the statistics into a dataframe\n",
    "statistics = pd.DataFrame({'USA': american_stats, 'Europe': european_stats, 'Japan': japanese_stats})\n",
    "print(statistics)"
   ]
  },
  {
   "cell_type": "markdown",
   "metadata": {},
   "source": [
    "The average fuel consumption is 1.3, 0.9 and 0.8 liters/10km respectively. Let's visualize the findings to get an intial feeling of the distribution:"
   ]
  },
  {
   "cell_type": "code",
   "execution_count": 24,
   "metadata": {},
   "outputs": [
    {
     "data": {
      "image/png": "[encoded data removed]",
      "text/plain": [
       "<Figure size 1200x600 with 1 Axes>"
      ]
     },
     "metadata": {},
     "output_type": "display_data"
    }
   ],
   "source": [
    "import matplotlib.pyplot as plt\n",
    "import seaborn as sns\n",
    "\n",
    "# Setting up the visualization style\n",
    "sns.set(style=\"whitegrid\")\n",
    "\n",
    "# Plotting the distribution of fuel consumption for each origin\n",
    "plt.figure(figsize=(12, 6))\n",
    "sns.histplot(american_cars['l/10km'], color=\"blue\", label='American Cars', kde=True)\n",
    "sns.histplot(japanese_cars['l/10km'], color=\"red\", label='Japanese Cars', kde=True)\n",
    "sns.histplot(european_cars['l/10km'], color=\"green\", label='European Cars', kde=True)\n",
    "\n",
    "plt.title('Distribution of Fuel Consumption (l/10km) for American vs Japanese vs European Cars')\n",
    "plt.xlabel('Liters/10km')\n",
    "plt.ylabel('Frequency')\n",
    "plt.legend()\n",
    "\n",
    "plt.show()"
   ]
  },
  {
   "cell_type": "markdown",
   "metadata": {},
   "source": [
    "From this visual we see that especially the Japanese cars were geared towards better fuel effeciency with the peak around 0.6-0.7 l/10km, followed by the European cars with a peak around 0.7-0.8. The bulk of the American cars are more spread out, ranging between something like 0.8 and 1.6.\n",
    "\n",
    "Let's narrow it down a bit more using a boxplot."
   ]
  },
  {
   "cell_type": "code",
   "execution_count": 25,
   "metadata": {},
   "outputs": [
    {
     "data": {
      "application/vnd.plotly.v1+json": {
       "config": {
        "plotlyServerURL": "https://plot.ly"
       },
       "data": [
        {
         "alignmentgroup": "True",
         "hovertemplate": "Region=%{x}<br>Liters per 10 km=%{y}<extra></extra>",
         "legendgroup": "usa",
         "marker": {
          "color": "#636efa"
         },
         "name": "usa",
         "notched": false,
         "offsetgroup": "usa",
         "orientation": "v",
         "showlegend": true,
         "type": "box",
         "x": [
          "usa",
          "usa",
          "usa",
          "usa",
          "usa",
          "usa",
          "usa",
          "usa",
          "usa",
          "usa",
          "usa",
          "usa",
          "usa",
          "usa",
          "usa",
          "usa",
          "usa",
          "usa",
          "usa",
          "usa",
          "usa",
          "usa",
          "usa",
          "usa",
          "usa",
          "usa",
          "usa",
          "usa",
          "usa",
          "usa",
          "usa",
          "usa",
          "usa",
          "usa",
          "usa",
          "usa",
          "usa",
          "usa",
          "usa",
          "usa",
          "usa",
          "usa",
          "usa",
          "usa",
          "usa",
          "usa",
          "usa",
          "usa",
          "usa",
          "usa",
          "usa",
          "usa",
          "usa",
          "usa",
          "usa",
          "usa",
          "usa",
          "usa",
          "usa",
          "usa",
          "usa",
          "usa",
          "usa",
          "usa",
          "usa",
          "usa",
          "usa",
          "usa",
          "usa",
          "usa",
          "usa",
          "usa",
          "usa",
          "usa",
          "usa",
          "usa",
          "usa",
          "usa",
          "usa",
          "usa",
          "usa",
          "usa",
          "usa",
          "usa",
          "usa",
          "usa",
          "usa",
          "usa",
          "usa",
          "usa",
          "usa",
          "usa",
          "usa",
          "usa",
          "usa",
          "usa",
          "usa",
          "usa",
          "usa",
          "usa",
          "usa",
          "usa",
          "usa",
          "usa",
          "usa",
          "usa",
          "usa",
          "usa",
          "usa",
          "usa",
          "usa",
          "usa",
          "usa",
          "usa",
          "usa",
          "usa",
          "usa",
          "usa",
          "usa",
          "usa",
          "usa",
          "usa",
          "usa",
          "usa",
          "usa",
          "usa",
          "usa",
          "usa",
          "usa",
          "usa",
          "usa",
          "usa",
          "usa",
          "usa",
          "usa",
          "usa",
          "usa",
          "usa",
          "usa",
          "usa",
          "usa",
          "usa",
          "usa",
          "usa",
          "usa",
          "usa",
          "usa",
          "usa",
          "usa",
          "usa",
          "usa",
          "usa",
          "usa",
          "usa",
          "usa",
          "usa",
          "usa",
          "usa",
          "usa",
          "usa",
          "usa",
          "usa",
          "usa",
          "usa",
          "usa",
          "usa",
          "usa",
          "usa",
          "usa",
          "usa",
          "usa",
          "usa",
          "usa",
          "usa",
          "usa",
          "usa",
          "usa",
          "usa",
          "usa",
          "usa",
          "usa",
          "usa",
          "usa",
          "usa",
          "usa",
          "usa",
          "usa",
          "usa",
          "usa",
          "usa",
          "usa",
          "usa",
          "usa",
          "usa",
          "usa",
          "usa",
          "usa",
          "usa",
          "usa",
          "usa",
          "usa",
          "usa",
          "usa",
          "usa",
          "usa",
          "usa",
          "usa",
          "usa",
          "usa",
          "usa",
          "usa",
          "usa",
          "usa",
          "usa",
          "usa",
          "usa",
          "usa",
          "usa",
          "usa",
          "usa",
          "usa",
          "usa",
          "usa",
          "usa",
          "usa",
          "usa",
          "usa",
          "usa",
          "usa",
          "usa",
          "usa",
          "usa",
          "usa",
          "usa",
          "usa",
          "usa",
          "usa",
          "usa",
          "usa",
          "usa",
          "usa",
          "usa",
          "usa",
          "usa",
          "usa",
          "usa",
          "usa",
          "usa",
          "usa"
         ],
         "x0": " ",
         "xaxis": "x",
         "y": [
          1.30675,
          1.5681,
          1.30675,
          1.47009375,
          1.3836176470588235,
          1.5681,
          1.6801071428571428,
          1.6801071428571428,
          1.6801071428571428,
          1.5681,
          1.5681,
          1.6801071428571428,
          1.5681,
          1.6801071428571428,
          1.069159090909091,
          1.30675,
          1.1200714285714286,
          1.1200714285714286,
          2.35215,
          2.35215,
          2.138318181818182,
          2.6135,
          0.8400535714285714,
          0.94086,
          1.2379736842105262,
          1.47009375,
          1.3836176470588235,
          1.2379736842105262,
          1.30675,
          1.6801071428571428,
          1.6801071428571428,
          1.6801071428571428,
          1.6801071428571428,
          1.960125,
          1.8093461538461537,
          1.8093461538461537,
          1.30675,
          1.069159090909091,
          1.2379736842105262,
          1.30675,
          1.0226739130434783,
          0.9046730769230769,
          0.94086,
          1.176075,
          1.1200714285714286,
          1.8093461538461537,
          1.6801071428571428,
          1.5681,
          1.6801071428571428,
          1.3836176470588235,
          2.138318181818182,
          1.8093461538461537,
          1.960125,
          1.8093461538461537,
          1.5681,
          1.8093461538461537,
          1.8093461538461537,
          1.6801071428571428,
          1.069159090909091,
          0.8400535714285714,
          1.8093461538461537,
          1.6801071428571428,
          1.8093461538461537,
          1.6801071428571428,
          1.5681,
          1.960125,
          1.8093461538461537,
          1.8093461538461537,
          1.6801071428571428,
          1.8093461538461537,
          1.960125,
          1.8093461538461537,
          1.30675,
          1.47009375,
          1.30675,
          1.30675,
          1.0226739130434783,
          2.138318181818182,
          1.960125,
          1.8093461538461537,
          1.960125,
          1.30675,
          1.1200714285714286,
          1.2379736842105262,
          1.1200714285714286,
          1.5681,
          1.47009375,
          1.5681,
          2.138318181818182,
          1.176075,
          1.1200714285714286,
          1.2379736842105262,
          1.5681,
          0.9046730769230769,
          0.94086,
          1.47009375,
          1.47009375,
          1.30675,
          1.47009375,
          1.8093461538461537,
          1.6801071428571428,
          1.6801071428571428,
          1.6801071428571428,
          0.8400535714285714,
          1.2379736842105262,
          1.30675,
          1.5681,
          1.5681,
          1.47009375,
          1.5681,
          1.47009375,
          1.6801071428571428,
          1.3836176470588235,
          1.47009375,
          1.5681,
          1.30675,
          1.1200714285714286,
          1.176075,
          1.8093461538461537,
          1.0226739130434783,
          1.176075,
          1.0226739130434783,
          1.30675,
          1.2379736842105262,
          0.94086,
          0.9046730769230769,
          1.3440857142857143,
          1.47009375,
          1.517516129032258,
          1.6221724137931035,
          1.069159090909091,
          1.069159090909091,
          0.9800625,
          1.0453999999999999,
          0.8110862068965518,
          0.9600612244897959,
          1.176075,
          1.30675,
          1.2714324324324324,
          1.3440857142857143,
          0.8876037735849056,
          1.8093461538461537,
          1.4255454545454544,
          1.8093461538461537,
          1.8093461538461537,
          1.8093461538461537,
          0.78405,
          0.9224117647058824,
          1.3440857142857143,
          1.3836176470588235,
          1.517516129032258,
          1.5681,
          1.3440857142857143,
          1.147390243902439,
          1.2379736842105262,
          1.2714324324324324,
          1.47009375,
          1.517516129032258,
          1.517516129032258,
          1.47009375,
          0.9600612244897959,
          0.9224117647058824,
          0.7711967213114754,
          0.702134328358209,
          0.6515650969529085,
          1.1819849246231156,
          1.2124484536082476,
          1.164430693069307,
          1.225078125,
          1.147390243902439,
          1.164430693069307,
          0.9371115537848604,
          1.147390243902439,
          1.2124484536082476,
          1.1418203883495144,
          1.130841346153846,
          1.2645967741935482,
          1.2995303867403314,
          1.225078125,
          1.3288983050847458,
          1.2995303867403314,
          1.3440857142857143,
          0.78405,
          0.7612135922330098,
          1.0138577586206896,
          0.988298319327731,
          1.0940232558139535,
          1.1879545454545455,
          1.0547757847533632,
          1.164430693069307,
          1.1418203883495144,
          1.3836176470588235,
          1.3364488636363636,
          1.4255454545454544,
          1.2923901098901098,
          1.3918047337278108,
          1.517516129032258,
          1.225078125,
          1.2714324324324324,
          0.6588655462184874,
          0.8584489051094891,
          1.0226739130434783,
          0.9841631799163181,
          0.6877631578947367,
          0.6817826086956522,
          0.8282218309859155,
          0.8167187499999999,
          0.8776679104477612,
          0.702134328358209,
          0.7327570093457944,
          0.8400535714285714,
          0.8909659090909091,
          0.9679629629629629,
          1.2314921465968585,
          0.8430645161290323,
          0.9966737288135592,
          0.8647610294117647,
          0.884266917293233,
          0.9116860465116279,
          1.0009148936170214,
          0.78405,
          0.6031153846153846,
          0.6778530259365994,
          0.6837645348837209,
          0.7866722408026756,
          1.0500669642857143,
          0.884266917293233,
          1.164430693069307,
          1.3364488636363636,
          0.8400535714285714,
          0.8711666666666666,
          0.6918088235294118,
          0.758758064516129,
          0.8110862068965518,
          0.8711666666666666,
          0.9800625,
          1.0226739130434783,
          0.6189868421052631,
          0.653375,
          0.94086,
          0.6189868421052631,
          0.9046730769230769,
          1.069159090909091,
          0.653375,
          0.8711666666666666,
          0.8711666666666666,
          0.735046875,
          0.8400535714285714,
          0.758758064516129
         ],
         "y0": " ",
         "yaxis": "y"
        },
        {
         "alignmentgroup": "True",
         "hovertemplate": "Region=%{x}<br>Liters per 10 km=%{y}<extra></extra>",
         "legendgroup": "japan",
         "marker": {
          "color": "#EF553B"
         },
         "name": "japan",
         "notched": false,
         "offsetgroup": "japan",
         "orientation": "v",
         "showlegend": true,
         "type": "box",
         "x": [
          "japan",
          "japan",
          "japan",
          "japan",
          "japan",
          "japan",
          "japan",
          "japan",
          "japan",
          "japan",
          "japan",
          "japan",
          "japan",
          "japan",
          "japan",
          "japan",
          "japan",
          "japan",
          "japan",
          "japan",
          "japan",
          "japan",
          "japan",
          "japan",
          "japan",
          "japan",
          "japan",
          "japan",
          "japan",
          "japan",
          "japan",
          "japan",
          "japan",
          "japan",
          "japan",
          "japan",
          "japan",
          "japan",
          "japan",
          "japan",
          "japan",
          "japan",
          "japan",
          "japan",
          "japan",
          "japan",
          "japan",
          "japan",
          "japan",
          "japan",
          "japan",
          "japan",
          "japan",
          "japan",
          "japan",
          "japan",
          "japan",
          "japan",
          "japan",
          "japan",
          "japan",
          "japan",
          "japan",
          "japan",
          "japan",
          "japan",
          "japan",
          "japan",
          "japan",
          "japan",
          "japan",
          "japan",
          "japan",
          "japan",
          "japan",
          "japan",
          "japan",
          "japan",
          "japan"
         ],
         "x0": " ",
         "xaxis": "x",
         "y": [
          0.9800625,
          0.8711666666666666,
          0.8711666666666666,
          0.94086,
          0.758758064516129,
          0.6720428571428572,
          0.9800625,
          1.2379736842105262,
          0.8400535714285714,
          1.0226739130434783,
          0.8711666666666666,
          1.176075,
          1.069159090909091,
          1.30675,
          1.176075,
          0.758758064516129,
          0.735046875,
          0.758758064516129,
          0.735046875,
          0.9800625,
          0.9046730769230769,
          0.8110862068965518,
          0.9800625,
          0.9800625,
          0.7127727272727272,
          0.7127727272727272,
          0.735046875,
          0.8400535714285714,
          1.2379736842105262,
          0.7467142857142857,
          0.702134328358209,
          0.9046730769230769,
          0.78405,
          1.069159090909091,
          1.0940232558139535,
          0.7171189024390244,
          0.596992385786802,
          0.6515650969529085,
          0.8553272727272727,
          0.8647610294117647,
          1.1147630331753553,
          0.9841631799163181,
          0.7973389830508475,
          0.6897800586510263,
          0.7396698113207547,
          0.6173622047244094,
          0.6322983870967741,
          0.7893120805369127,
          0.7514856230031949,
          0.6357162162162162,
          0.7304813664596272,
          0.5047532188841202,
          0.5765073529411765,
          0.5273878923766816,
          0.6959023668639054,
          0.7193119266055045,
          0.9924683544303797,
          0.7259722222222222,
          0.6015728900255755,
          0.6701282051282051,
          0.7282198142414861,
          0.6357162162162162,
          0.6239124668435013,
          0.6897800586510263,
          0.697967359050445,
          0.7259722222222222,
          0.7149392097264438,
          0.7443512658227848,
          0.9260433070866142,
          0.9719628099173554,
          0.6357162162162162,
          0.758758064516129,
          0.653375,
          0.653375,
          0.6918088235294118,
          0.6189868421052631,
          0.735046875,
          0.6189868421052631,
          0.735046875
         ],
         "y0": " ",
         "yaxis": "y"
        },
        {
         "alignmentgroup": "True",
         "hovertemplate": "Region=%{x}<br>Liters per 10 km=%{y}<extra></extra>",
         "legendgroup": "europe",
         "marker": {
          "color": "#00cc96"
         },
         "name": "europe",
         "notched": false,
         "offsetgroup": "europe",
         "orientation": "v",
         "showlegend": true,
         "type": "box",
         "x": [
          "europe",
          "europe",
          "europe",
          "europe",
          "europe",
          "europe",
          "europe",
          "europe",
          "europe",
          "europe",
          "europe",
          "europe",
          "europe",
          "europe",
          "europe",
          "europe",
          "europe",
          "europe",
          "europe",
          "europe",
          "europe",
          "europe",
          "europe",
          "europe",
          "europe",
          "europe",
          "europe",
          "europe",
          "europe",
          "europe",
          "europe",
          "europe",
          "europe",
          "europe",
          "europe",
          "europe",
          "europe",
          "europe",
          "europe",
          "europe",
          "europe",
          "europe",
          "europe",
          "europe",
          "europe",
          "europe",
          "europe",
          "europe",
          "europe",
          "europe",
          "europe",
          "europe",
          "europe",
          "europe",
          "europe",
          "europe",
          "europe",
          "europe",
          "europe",
          "europe",
          "europe",
          "europe",
          "europe",
          "europe",
          "europe",
          "europe",
          "europe",
          "europe",
          "europe",
          "europe"
         ],
         "x0": " ",
         "xaxis": "x",
         "y": [
          0.9046730769230769,
          0.94086,
          0.9800625,
          0.94086,
          0.9046730769230769,
          0.8400535714285714,
          0.78405,
          0.78405,
          0.8711666666666666,
          1.0226739130434783,
          1.30675,
          1.069159090909091,
          1.1200714285714286,
          0.9046730769230769,
          0.9046730769230769,
          0.9046730769230769,
          0.8110862068965518,
          0.9800625,
          1.176075,
          1.2379736842105262,
          0.9800625,
          0.8110862068965518,
          0.9046730769230769,
          0.9046730769230769,
          0.9800625,
          0.9046730769230769,
          0.758758064516129,
          0.94086,
          0.8110862068965518,
          1.0226739130434783,
          1.0226739130434783,
          1.069159090909091,
          0.94086,
          0.8400535714285714,
          0.94086,
          0.8711666666666666,
          0.8110862068965518,
          0.7973389830508475,
          1.176075,
          1.2379736842105262,
          1.4255454545454544,
          0.653375,
          0.8110862068965518,
          0.7711967213114754,
          1.0940232558139535,
          0.5457424593967517,
          1.158694581280788,
          1.3836176470588235,
          1.0889583333333333,
          1.4519444444444445,
          0.7467142857142857,
          0.7373510971786834,
          0.9260433070866142,
          0.8647610294117647,
          0.630603217158177,
          0.5667831325301205,
          0.6857580174927114,
          0.530959367945824,
          0.5419700460829493,
          0.6461950549450549,
          0.78405,
          0.5750977995110025,
          0.7893120805369127,
          0.6720428571428572,
          0.7127727272727272,
          0.6817826086956522,
          0.8370640569395017,
          0.7661726384364821,
          0.653375,
          0.5345795454545454
         ],
         "y0": " ",
         "yaxis": "y"
        }
       ],
       "layout": {
        "boxmode": "overlay",
        "legend": {
         "title": {
          "text": "Region"
         },
         "tracegroupgap": 0
        },
        "template": {
         "data": {
          "bar": [
           {
            "error_x": {
             "color": "#2a3f5f"
            },
            "error_y": {
             "color": "#2a3f5f"
            },
            "marker": {
             "line": {
              "color": "#E5ECF6",
              "width": 0.5
             },
             "pattern": {
              "fillmode": "overlay",
              "size": 10,
              "solidity": 0.2
             }
            },
            "type": "bar"
           }
          ],
          "barpolar": [
           {
            "marker": {
             "line": {
              "color": "#E5ECF6",
              "width": 0.5
             },
             "pattern": {
              "fillmode": "overlay",
              "size": 10,
              "solidity": 0.2
             }
            },
            "type": "barpolar"
           }
          ],
          "carpet": [
           {
            "aaxis": {
             "endlinecolor": "#2a3f5f",
             "gridcolor": "white",
             "linecolor": "white",
             "minorgridcolor": "white",
             "startlinecolor": "#2a3f5f"
            },
            "baxis": {
             "endlinecolor": "#2a3f5f",
             "gridcolor": "white",
             "linecolor": "white",
             "minorgridcolor": "white",
             "startlinecolor": "#2a3f5f"
            },
            "type": "carpet"
           }
          ],
          "choropleth": [
           {
            "colorbar": {
             "outlinewidth": 0,
             "ticks": ""
            },
            "type": "choropleth"
           }
          ],
          "contour": [
           {
            "colorbar": {
             "outlinewidth": 0,
             "ticks": ""
            },
            "colorscale": [
             [
              0,
              "#0d0887"
             ],
             [
              0.1111111111111111,
              "#46039f"
             ],
             [
              0.2222222222222222,
              "#7201a8"
             ],
             [
              0.3333333333333333,
              "#9c179e"
             ],
             [
              0.4444444444444444,
              "#bd3786"
             ],
             [
              0.5555555555555556,
              "#d8576b"
             ],
             [
              0.6666666666666666,
              "#ed7953"
             ],
             [
              0.7777777777777778,
              "#fb9f3a"
             ],
             [
              0.8888888888888888,
              "#fdca26"
             ],
             [
              1,
              "#f0f921"
             ]
            ],
            "type": "contour"
           }
          ],
          "contourcarpet": [
           {
            "colorbar": {
             "outlinewidth": 0,
             "ticks": ""
            },
            "type": "contourcarpet"
           }
          ],
          "heatmap": [
           {
            "colorbar": {
             "outlinewidth": 0,
             "ticks": ""
            },
            "colorscale": [
             [
              0,
              "#0d0887"
             ],
             [
              0.1111111111111111,
              "#46039f"
             ],
             [
              0.2222222222222222,
              "#7201a8"
             ],
             [
              0.3333333333333333,
              "#9c179e"
             ],
             [
              0.4444444444444444,
              "#bd3786"
             ],
             [
              0.5555555555555556,
              "#d8576b"
             ],
             [
              0.6666666666666666,
              "#ed7953"
             ],
             [
              0.7777777777777778,
              "#fb9f3a"
             ],
             [
              0.8888888888888888,
              "#fdca26"
             ],
             [
              1,
              "#f0f921"
             ]
            ],
            "type": "heatmap"
           }
          ],
          "heatmapgl": [
           {
            "colorbar": {
             "outlinewidth": 0,
             "ticks": ""
            },
            "colorscale": [
             [
              0,
              "#0d0887"
             ],
             [
              0.1111111111111111,
              "#46039f"
             ],
             [
              0.2222222222222222,
              "#7201a8"
             ],
             [
              0.3333333333333333,
              "#9c179e"
             ],
             [
              0.4444444444444444,
              "#bd3786"
             ],
             [
              0.5555555555555556,
              "#d8576b"
             ],
             [
              0.6666666666666666,
              "#ed7953"
             ],
             [
              0.7777777777777778,
              "#fb9f3a"
             ],
             [
              0.8888888888888888,
              "#fdca26"
             ],
             [
              1,
              "#f0f921"
             ]
            ],
            "type": "heatmapgl"
           }
          ],
          "histogram": [
           {
            "marker": {
             "pattern": {
              "fillmode": "overlay",
              "size": 10,
              "solidity": 0.2
             }
            },
            "type": "histogram"
           }
          ],
          "histogram2d": [
           {
            "colorbar": {
             "outlinewidth": 0,
             "ticks": ""
            },
            "colorscale": [
             [
              0,
              "#0d0887"
             ],
             [
              0.1111111111111111,
              "#46039f"
             ],
             [
              0.2222222222222222,
              "#7201a8"
             ],
             [
              0.3333333333333333,
              "#9c179e"
             ],
             [
              0.4444444444444444,
              "#bd3786"
             ],
             [
              0.5555555555555556,
              "#d8576b"
             ],
             [
              0.6666666666666666,
              "#ed7953"
             ],
             [
              0.7777777777777778,
              "#fb9f3a"
             ],
             [
              0.8888888888888888,
              "#fdca26"
             ],
             [
              1,
              "#f0f921"
             ]
            ],
            "type": "histogram2d"
           }
          ],
          "histogram2dcontour": [
           {
            "colorbar": {
             "outlinewidth": 0,
             "ticks": ""
            },
            "colorscale": [
             [
              0,
              "#0d0887"
             ],
             [
              0.1111111111111111,
              "#46039f"
             ],
             [
              0.2222222222222222,
              "#7201a8"
             ],
             [
              0.3333333333333333,
              "#9c179e"
             ],
             [
              0.4444444444444444,
              "#bd3786"
             ],
             [
              0.5555555555555556,
              "#d8576b"
             ],
             [
              0.6666666666666666,
              "#ed7953"
             ],
             [
              0.7777777777777778,
              "#fb9f3a"
             ],
             [
              0.8888888888888888,
              "#fdca26"
             ],
             [
              1,
              "#f0f921"
             ]
            ],
            "type": "histogram2dcontour"
           }
          ],
          "mesh3d": [
           {
            "colorbar": {
             "outlinewidth": 0,
             "ticks": ""
            },
            "type": "mesh3d"
           }
          ],
          "parcoords": [
           {
            "line": {
             "colorbar": {
              "outlinewidth": 0,
              "ticks": ""
             }
            },
            "type": "parcoords"
           }
          ],
          "pie": [
           {
            "automargin": true,
            "type": "pie"
           }
          ],
          "scatter": [
           {
            "fillpattern": {
             "fillmode": "overlay",
             "size": 10,
             "solidity": 0.2
            },
            "type": "scatter"
           }
          ],
          "scatter3d": [
           {
            "line": {
             "colorbar": {
              "outlinewidth": 0,
              "ticks": ""
             }
            },
            "marker": {
             "colorbar": {
              "outlinewidth": 0,
              "ticks": ""
             }
            },
            "type": "scatter3d"
           }
          ],
          "scattercarpet": [
           {
            "marker": {
             "colorbar": {
              "outlinewidth": 0,
              "ticks": ""
             }
            },
            "type": "scattercarpet"
           }
          ],
          "scattergeo": [
           {
            "marker": {
             "colorbar": {
              "outlinewidth": 0,
              "ticks": ""
             }
            },
            "type": "scattergeo"
           }
          ],
          "scattergl": [
           {
            "marker": {
             "colorbar": {
              "outlinewidth": 0,
              "ticks": ""
             }
            },
            "type": "scattergl"
           }
          ],
          "scattermapbox": [
           {
            "marker": {
             "colorbar": {
              "outlinewidth": 0,
              "ticks": ""
             }
            },
            "type": "scattermapbox"
           }
          ],
          "scatterpolar": [
           {
            "marker": {
             "colorbar": {
              "outlinewidth": 0,
              "ticks": ""
             }
            },
            "type": "scatterpolar"
           }
          ],
          "scatterpolargl": [
           {
            "marker": {
             "colorbar": {
              "outlinewidth": 0,
              "ticks": ""
             }
            },
            "type": "scatterpolargl"
           }
          ],
          "scatterternary": [
           {
            "marker": {
             "colorbar": {
              "outlinewidth": 0,
              "ticks": ""
             }
            },
            "type": "scatterternary"
           }
          ],
          "surface": [
           {
            "colorbar": {
             "outlinewidth": 0,
             "ticks": ""
            },
            "colorscale": [
             [
              0,
              "#0d0887"
             ],
             [
              0.1111111111111111,
              "#46039f"
             ],
             [
              0.2222222222222222,
              "#7201a8"
             ],
             [
              0.3333333333333333,
              "#9c179e"
             ],
             [
              0.4444444444444444,
              "#bd3786"
             ],
             [
              0.5555555555555556,
              "#d8576b"
             ],
             [
              0.6666666666666666,
              "#ed7953"
             ],
             [
              0.7777777777777778,
              "#fb9f3a"
             ],
             [
              0.8888888888888888,
              "#fdca26"
             ],
             [
              1,
              "#f0f921"
             ]
            ],
            "type": "surface"
           }
          ],
          "table": [
           {
            "cells": {
             "fill": {
              "color": "#EBF0F8"
             },
             "line": {
              "color": "white"
             }
            },
            "header": {
             "fill": {
              "color": "#C8D4E3"
             },
             "line": {
              "color": "white"
             }
            },
            "type": "table"
           }
          ]
         },
         "layout": {
          "annotationdefaults": {
           "arrowcolor": "#2a3f5f",
           "arrowhead": 0,
           "arrowwidth": 1
          },
          "autotypenumbers": "strict",
          "coloraxis": {
           "colorbar": {
            "outlinewidth": 0,
            "ticks": ""
           }
          },
          "colorscale": {
           "diverging": [
            [
             0,
             "#8e0152"
            ],
            [
             0.1,
             "#c51b7d"
            ],
            [
             0.2,
             "#de77ae"
            ],
            [
             0.3,
             "#f1b6da"
            ],
            [
             0.4,
             "#fde0ef"
            ],
            [
             0.5,
             "#f7f7f7"
            ],
            [
             0.6,
             "#e6f5d0"
            ],
            [
             0.7,
             "#b8e186"
            ],
            [
             0.8,
             "#7fbc41"
            ],
            [
             0.9,
             "#4d9221"
            ],
            [
             1,
             "#276419"
            ]
           ],
           "sequential": [
            [
             0,
             "#0d0887"
            ],
            [
             0.1111111111111111,
             "#46039f"
            ],
            [
             0.2222222222222222,
             "#7201a8"
            ],
            [
             0.3333333333333333,
             "#9c179e"
            ],
            [
             0.4444444444444444,
             "#bd3786"
            ],
            [
             0.5555555555555556,
             "#d8576b"
            ],
            [
             0.6666666666666666,
             "#ed7953"
            ],
            [
             0.7777777777777778,
             "#fb9f3a"
            ],
            [
             0.8888888888888888,
             "#fdca26"
            ],
            [
             1,
             "#f0f921"
            ]
           ],
           "sequentialminus": [
            [
             0,
             "#0d0887"
            ],
            [
             0.1111111111111111,
             "#46039f"
            ],
            [
             0.2222222222222222,
             "#7201a8"
            ],
            [
             0.3333333333333333,
             "#9c179e"
            ],
            [
             0.4444444444444444,
             "#bd3786"
            ],
            [
             0.5555555555555556,
             "#d8576b"
            ],
            [
             0.6666666666666666,
             "#ed7953"
            ],
            [
             0.7777777777777778,
             "#fb9f3a"
            ],
            [
             0.8888888888888888,
             "#fdca26"
            ],
            [
             1,
             "#f0f921"
            ]
           ]
          },
          "colorway": [
           "#636efa",
           "#EF553B",
           "#00cc96",
           "#ab63fa",
           "#FFA15A",
           "#19d3f3",
           "#FF6692",
           "#B6E880",
           "#FF97FF",
           "#FECB52"
          ],
          "font": {
           "color": "#2a3f5f"
          },
          "geo": {
           "bgcolor": "white",
           "lakecolor": "white",
           "landcolor": "#E5ECF6",
           "showlakes": true,
           "showland": true,
           "subunitcolor": "white"
          },
          "hoverlabel": {
           "align": "left"
          },
          "hovermode": "closest",
          "mapbox": {
           "style": "light"
          },
          "paper_bgcolor": "white",
          "plot_bgcolor": "#E5ECF6",
          "polar": {
           "angularaxis": {
            "gridcolor": "white",
            "linecolor": "white",
            "ticks": ""
           },
           "bgcolor": "#E5ECF6",
           "radialaxis": {
            "gridcolor": "white",
            "linecolor": "white",
            "ticks": ""
           }
          },
          "scene": {
           "xaxis": {
            "backgroundcolor": "#E5ECF6",
            "gridcolor": "white",
            "gridwidth": 2,
            "linecolor": "white",
            "showbackground": true,
            "ticks": "",
            "zerolinecolor": "white"
           },
           "yaxis": {
            "backgroundcolor": "#E5ECF6",
            "gridcolor": "white",
            "gridwidth": 2,
            "linecolor": "white",
            "showbackground": true,
            "ticks": "",
            "zerolinecolor": "white"
           },
           "zaxis": {
            "backgroundcolor": "#E5ECF6",
            "gridcolor": "white",
            "gridwidth": 2,
            "linecolor": "white",
            "showbackground": true,
            "ticks": "",
            "zerolinecolor": "white"
           }
          },
          "shapedefaults": {
           "line": {
            "color": "#2a3f5f"
           }
          },
          "ternary": {
           "aaxis": {
            "gridcolor": "white",
            "linecolor": "white",
            "ticks": ""
           },
           "baxis": {
            "gridcolor": "white",
            "linecolor": "white",
            "ticks": ""
           },
           "bgcolor": "#E5ECF6",
           "caxis": {
            "gridcolor": "white",
            "linecolor": "white",
            "ticks": ""
           }
          },
          "title": {
           "x": 0.05
          },
          "xaxis": {
           "automargin": true,
           "gridcolor": "white",
           "linecolor": "white",
           "ticks": "",
           "title": {
            "standoff": 15
           },
           "zerolinecolor": "white",
           "zerolinewidth": 2
          },
          "yaxis": {
           "automargin": true,
           "gridcolor": "white",
           "linecolor": "white",
           "ticks": "",
           "title": {
            "standoff": 15
           },
           "zerolinecolor": "white",
           "zerolinewidth": 2
          }
         }
        },
        "title": {
         "text": "Comparison of fuel consumption: American vs European Cars"
        },
        "xaxis": {
         "anchor": "y",
         "categoryarray": [
          "usa",
          "japan",
          "europe"
         ],
         "categoryorder": "array",
         "domain": [
          0,
          1
         ],
         "title": {
          "text": "Region"
         }
        },
        "yaxis": {
         "anchor": "x",
         "domain": [
          0,
          1
         ],
         "title": {
          "text": "Liters per 10 km"
         }
        }
       }
      }
     },
     "metadata": {},
     "output_type": "display_data"
    }
   ],
   "source": [
    "import plotly.express as px\n",
    "\n",
    "# Boxplot of fuel consumption for each origin\n",
    "fig = px.box(cars, x='origin', y='l/10km', color='origin',\n",
    "             labels={'origin': 'Region', 'l/10km': 'Liters per 10 km'},\n",
    "             title='Comparison of fuel consumption: American vs European Cars')\n",
    "fig.show()"
   ]
  },
  {
   "cell_type": "markdown",
   "metadata": {},
   "source": [
    "Above, our conclusions from the previous visual are supported by Japan generally having  a bit less fuel consumption than Europe, and the bulk of them (the IQR representing 50% of the data) all being separate from that of the bulk of America.\n",
    "\n",
    "### Hypothesis tests\n",
    "The next step is to conduct a hyptothesis test to determine if the observed difference in fuel consumption between cars of the different origins is statistically significant. Since the standard deviation for the population is unknown, we will use a t-test, and the significance level will be set at 1% (α=0.01), because we want to be as certain as possible and avoid type I errors for some reason.\n",
    "\n",
    "We will compare them in this order:\n",
    "- American vs. European Cars\n",
    "- American vs. Japanese Cars\n",
    "- European vs. Japanese Cars\n",
    "\n",
    "Let's begin comparinging the American cars to the European Cars."
   ]
  },
  {
   "cell_type": "markdown",
   "metadata": {},
   "source": [
    "#### American vs. European Cars\n",
    "The hypotheses:<br><br>\n",
    "    $H_0: \\mu_{\\text{American}} \\leq \\mu_{\\text{European}}$<br>\n",
    "    $H_A: \\mu_{\\text{American}} \\gt \\mu_{\\text{European}}$"
   ]
  },
  {
   "cell_type": "code",
   "execution_count": 26,
   "metadata": {},
   "outputs": [
    {
     "data": {
      "image/png": "[encoded data removed]",
      "text/plain": [
       "<Figure size 1200x600 with 1 Axes>"
      ]
     },
     "metadata": {},
     "output_type": "display_data"
    }
   ],
   "source": [
    "# Visual Analysis just to focus our attention on the American and European cars\n",
    "plt.figure(figsize=(12, 6))\n",
    "sns.histplot(american_cars['l/10km'], color=\"blue\", label='American Cars', kde=True)\n",
    "sns.histplot(european_cars['l/10km'], color=\"green\", label='European Cars', kde=True)\n",
    "plt.title('Fuel Consumption Distribution: American vs European Cars')\n",
    "plt.xlabel('Liters per 10 km')\n",
    "plt.ylabel('Frequency')\n",
    "plt.legend()\n",
    "plt.show()"
   ]
  },
  {
   "cell_type": "markdown",
   "metadata": {},
   "source": [
    "Next, let's find out the T-statistic and the P-value. These are two ways of knowing whether to refute the null hypothesis (H₀) or not. The T-statistic will be compared to the critical T-value. These both indicate the number of standard deviations from the mean. The P-value will be compared to the chosen significance level α=0.01. \n",
    "\n",
    "The formula for calculating the t-value follows. We don't really need to know it here when using the library, instead we let the computer do the work. But it's so pretty and scientific looking:\n",
    "<h3>\n",
    "\n",
    "$t = \\frac{\\overline{X} - \\mu_0}{s \\,/\\sqrt{n}}$\n",
    "</h3>"
   ]
  },
  {
   "cell_type": "code",
   "execution_count": 27,
   "metadata": {},
   "outputs": [
    {
     "name": "stdout",
     "output_type": "stream",
     "text": [
      "T-Statistic: 11.250491510741794\n",
      "P-Value: 3.164277204838178e-23\n"
     ]
    }
   ],
   "source": [
    "import scipy.stats as stats \n",
    "# Hypothesis Testing - T-Test\n",
    "t_stat, p_value = stats.ttest_ind(american_cars['l/10km'], european_cars['l/10km'], equal_var=False)\n",
    "\n",
    "print(f\"T-Statistic: {t_stat}\")\n",
    "print(f\"P-Value: {p_value}\")"
   ]
  },
  {
   "cell_type": "markdown",
   "metadata": {},
   "source": [
    "- **T-Statistic:** $11.250$\n",
    "- **P-value:** $3.16 \\times 10^{-23}$"
   ]
  },
  {
   "cell_type": "code",
   "execution_count": 28,
   "metadata": {},
   "outputs": [
    {
     "name": "stdout",
     "output_type": "stream",
     "text": [
      "Critical T-value: 2.3382\n"
     ]
    }
   ],
   "source": [
    "# Now let's find the critical t-value\n",
    "alpha = 0.01\n",
    "df = len(american_cars) + len(european_cars) - 2\n",
    "t_crit = stats.t.ppf(1-alpha, df)\n",
    "print(f\"Critical T-value: {t_crit:.4f}\")"
   ]
  },
  {
   "cell_type": "markdown",
   "metadata": {},
   "source": [
    "#### Conclusion (American vs European) \n",
    "The extremely low p-value $3.16 \\times 10^{-23}$, which is but a fraction of the significance level α=0.01, and the fact that the t-statistic 11.25 vastly exceeds the critical t-value 2.34, indicates that the difference in mean fuel consumption between American and European cars is quite statistically significant. We have enough evidence to dismiss H₀ and with at least 99% confidence say that European cars, on average, had higher fuel efficiency than American cars, based on the dataset."
   ]
  },
  {
   "cell_type": "markdown",
   "metadata": {},
   "source": [
    "### American vs. Japanese Cars"
   ]
  },
  {
   "cell_type": "markdown",
   "metadata": {},
   "source": [
    "Now, let's do the same when comparing American to Japanese cars.\n",
    "\n",
    "The hypotheses:<br><br>\n",
    "    $H_0: \\mu_{\\text{American}} \\leq \\mu_{\\text{Japanese}}$<br>\n",
    "    $H_A: \\mu_{\\text{American}} \\gt \\mu_{\\text{Japanese}}$"
   ]
  },
  {
   "cell_type": "code",
   "execution_count": 29,
   "metadata": {},
   "outputs": [
    {
     "data": {
      "image/png": "[encoded data removed]",
      "text/plain": [
       "<Figure size 1200x600 with 1 Axes>"
      ]
     },
     "metadata": {},
     "output_type": "display_data"
    },
    {
     "name": "stdout",
     "output_type": "stream",
     "text": [
      "T-Statistic: 15.250545236614984\n",
      "P-Value: 8.083126255446127e-39\n"
     ]
    }
   ],
   "source": [
    "# Visual Analysis\n",
    "plt.figure(figsize=(12, 6))\n",
    "sns.histplot(american_cars['l/10km'], color=\"blue\", label='American Cars', kde=True)\n",
    "sns.histplot(japanese_cars['l/10km'], color=\"red\", label='Japanese Cars', kde=True)\n",
    "plt.title('Fuel Consumption Distribution: American vs Japanese Cars')\n",
    "plt.xlabel('Liters per 10 km')\n",
    "plt.ylabel('Frequency')\n",
    "plt.legend()\n",
    "plt.show()\n",
    "\n",
    "# Hypothesis Testing - T-Test\n",
    "t_stat, p_value = stats.ttest_ind(american_cars['l/10km'], japanese_cars['l/10km'], equal_var=False)\n",
    "\n",
    "print(f\"T-Statistic: {t_stat}\")\n",
    "print(f\"P-Value: {p_value}\")"
   ]
  },
  {
   "cell_type": "markdown",
   "metadata": {},
   "source": [
    "- **T-Statistic:** $15.251$\n",
    "- **P-value:** $8.08 \\times 10^{-39}$"
   ]
  },
  {
   "cell_type": "code",
   "execution_count": 30,
   "metadata": {},
   "outputs": [
    {
     "name": "stdout",
     "output_type": "stream",
     "text": [
      "Critical T-value: 2.3378\n"
     ]
    }
   ],
   "source": [
    "# Checking the critical t-value\n",
    "alpha = 0.01\n",
    "df = len(american_cars) + len(japanese_cars) - 2\n",
    "t_crit = stats.t.ppf(1-alpha, df)\n",
    "print(f\"Critical T-value: {t_crit:.4f}\")"
   ]
  },
  {
   "cell_type": "markdown",
   "metadata": {},
   "source": [
    "#### Conclusion (American vs Japanese) \n",
    "The even more extremely low p-value, and the fact that the t-statistic again vastly exceeds the critical t-value, indicates that the difference in mean fuel consumption between American and Japanese cars is statistically significant. We can easily say with a 99% confidence that Japanese cars, on average, based on the dataset, have higher fuel efficiency than American cars."
   ]
  },
  {
   "cell_type": "markdown",
   "metadata": {},
   "source": [
    "### European vs. Japanese Cars"
   ]
  },
  {
   "cell_type": "markdown",
   "metadata": {},
   "source": [
    "And the final test for this research question: European cars compared to Japanese, the outcome of which seems to be much more uncertain.\n",
    "\n",
    "The hypotheses:<br><br>\n",
    "    $H_0: \\mu_{\\text{European}} \\leq \\mu_{\\text{Japanese}}$<br>\n",
    "    $H_A: \\mu_{\\text{European}} \\gt \\mu_{\\text{Japanese}}$"
   ]
  },
  {
   "cell_type": "code",
   "execution_count": 31,
   "metadata": {},
   "outputs": [
    {
     "data": {
      "image/png": "[encoded data removed]",
      "text/plain": [
       "<Figure size 1200x600 with 1 Axes>"
      ]
     },
     "metadata": {},
     "output_type": "display_data"
    },
    {
     "name": "stdout",
     "output_type": "stream",
     "text": [
      "T-Statistic: 2.6388254256392267\n",
      "P-Value: 0.009296377057011857\n"
     ]
    }
   ],
   "source": [
    "# Visual Analysis\n",
    "plt.figure(figsize=(12, 6))\n",
    "sns.histplot(european_cars['l/10km'], color=\"green\", label='European Cars', kde=True)\n",
    "sns.histplot(japanese_cars['l/10km'], color=\"red\", label='Japanese Cars', kde=True)\n",
    "plt.title('Fuel Consumption Distribution: European vs Japanese Cars')\n",
    "plt.xlabel('Liters per 10 km')\n",
    "plt.ylabel('Frequency')\n",
    "plt.legend()\n",
    "plt.show()\n",
    "\n",
    "# Hypothesis Testing - T-Test\n",
    "t_stat, p_value = stats.ttest_ind(european_cars['l/10km'], japanese_cars['l/10km'], equal_var=False)\n",
    "\n",
    "print(f\"T-Statistic: {t_stat}\")\n",
    "print(f\"P-Value: {p_value}\")"
   ]
  },
  {
   "cell_type": "markdown",
   "metadata": {},
   "source": [
    "- **T-Statistic:** $2.6388$\n",
    "- **P-value:** $0.0093$"
   ]
  },
  {
   "cell_type": "code",
   "execution_count": 32,
   "metadata": {},
   "outputs": [
    {
     "name": "stdout",
     "output_type": "stream",
     "text": [
      "Critical T-value: 2.3520\n"
     ]
    }
   ],
   "source": [
    "# Checking the critical t-value\n",
    "alpha = 0.01\n",
    "df = len(european_cars) + len(japanese_cars) - 2\n",
    "t_crit = stats.t.ppf(1-alpha, df)\n",
    "print(f\"Critical T-value: {t_crit:.4f}\")\n"
   ]
  },
  {
   "cell_type": "markdown",
   "metadata": {},
   "source": [
    "#### Conclusion (European vs Japanese) \n",
    "With a p-value slightly less than the significance level ($0.0093 \\lt 0.01$), corroborated by the t-statistic being a bit larger than the critical t-value ($2.6388 \\gt 2.352$), means that it is unlikely that the findings are a result of chance, therefore we reject the null hypothesis also in this case. \n",
    "This means that we have enough evidence to, with 99% confidence, conclude that Japanese cars, on average and based on the dataset, had a higher fuel efficiency than European cars in the 1970's."
   ]
  },
  {
   "cell_type": "markdown",
   "metadata": {},
   "source": [
    "### General Conclusion of First Research Question\n",
    "We have enough statistical evidence to conclude, with 99% confidence, that American made cars in the 1970's on average consumed a lot more fuel than their European and Japanese counterparts sold in America, based on the provided dataset. The difference really was huge.\n",
    "\n",
    "There is also enough evidence to, with a 99% confidence (α=0.01), conclude the same in the comparison between European and Japanese made cars. But the race was much closer.\n",
    "\n",
    "#### Possible Contributing Factors\n",
    "- It is reasonable to infer *a priori* that higher fuel taxes in Europe and Japan made fuel efficiency a more critical selling point for vehicles.\n",
    "- Europe and Japan have less oil than America, and are more dependent on imports. As there was a coordinated tightening of the oil supply from OPEC in the 1970's, that likely hit Europe and Japan harder.\n",
    "- European and Japanese markets, with higher fuel costs and narrower streets, demanded smaller, more efficient cars.\n",
    "- A higher GDP/capita and higher living standards in America gave the consumers a buffer, making them less inclined to look for more fuel efficient cars."
   ]
  },
  {
   "cell_type": "markdown",
   "metadata": {},
   "source": [
    "\n",
    "## Research Question 2 (Linear Regression and Prediction):\n",
    "### Can we predict a car's fuel consumption based on its weight and horse power?\n",
    "To determine this, we will perform a regression analysis. We will consider an R² value > 0.8 to be sufficient (capital R as we will be using more than one independent variable).\n",
    "\n",
    "As there are 6 missing values regarding horse power, which is a relatively small number, it would probably not affect the general findings much by simply dropping those rows."
   ]
  },
  {
   "cell_type": "code",
   "execution_count": 33,
   "metadata": {},
   "outputs": [],
   "source": [
    "cars = cars.dropna() # drop missing values"
   ]
  },
  {
   "cell_type": "markdown",
   "metadata": {},
   "source": [
    "Now, let's find out what factors correlate most with fuel consumption:"
   ]
  },
  {
   "cell_type": "code",
   "execution_count": 34,
   "metadata": {},
   "outputs": [
    {
     "data": {
      "text/html": [
       "<div>\n",
       "<style scoped>\n",
       "    .dataframe tbody tr th:only-of-type {\n",
       "        vertical-align: middle;\n",
       "    }\n",
       "\n",
       "    .dataframe tbody tr th {\n",
       "        vertical-align: top;\n",
       "    }\n",
       "\n",
       "    .dataframe thead th {\n",
       "        text-align: right;\n",
       "    }\n",
       "</style>\n",
       "<table border=\"1\" class=\"dataframe\">\n",
       "  <thead>\n",
       "    <tr style=\"text-align: right;\">\n",
       "      <th></th>\n",
       "      <th>cylinders</th>\n",
       "      <th>displacement</th>\n",
       "      <th>horsepower</th>\n",
       "      <th>weight</th>\n",
       "      <th>acceleration</th>\n",
       "      <th>model_year</th>\n",
       "      <th>l/10km</th>\n",
       "    </tr>\n",
       "  </thead>\n",
       "  <tbody>\n",
       "    <tr>\n",
       "      <th>cylinders</th>\n",
       "      <td>1.000000</td>\n",
       "      <td>0.950823</td>\n",
       "      <td>0.842983</td>\n",
       "      <td>0.897527</td>\n",
       "      <td>-0.504683</td>\n",
       "      <td>-0.345647</td>\n",
       "      <td>0.839385</td>\n",
       "    </tr>\n",
       "    <tr>\n",
       "      <th>displacement</th>\n",
       "      <td>0.950823</td>\n",
       "      <td>1.000000</td>\n",
       "      <td>0.897257</td>\n",
       "      <td>0.932994</td>\n",
       "      <td>-0.543800</td>\n",
       "      <td>-0.369855</td>\n",
       "      <td>0.866050</td>\n",
       "    </tr>\n",
       "    <tr>\n",
       "      <th>horsepower</th>\n",
       "      <td>0.842983</td>\n",
       "      <td>0.897257</td>\n",
       "      <td>1.000000</td>\n",
       "      <td>0.864538</td>\n",
       "      <td>-0.689196</td>\n",
       "      <td>-0.416361</td>\n",
       "      <td>0.854809</td>\n",
       "    </tr>\n",
       "    <tr>\n",
       "      <th>weight</th>\n",
       "      <td>0.897527</td>\n",
       "      <td>0.932994</td>\n",
       "      <td>0.864538</td>\n",
       "      <td>1.000000</td>\n",
       "      <td>-0.416839</td>\n",
       "      <td>-0.309120</td>\n",
       "      <td>0.885056</td>\n",
       "    </tr>\n",
       "    <tr>\n",
       "      <th>acceleration</th>\n",
       "      <td>-0.504683</td>\n",
       "      <td>-0.543800</td>\n",
       "      <td>-0.689196</td>\n",
       "      <td>-0.416839</td>\n",
       "      <td>1.000000</td>\n",
       "      <td>0.290316</td>\n",
       "      <td>-0.456338</td>\n",
       "    </tr>\n",
       "    <tr>\n",
       "      <th>model_year</th>\n",
       "      <td>-0.345647</td>\n",
       "      <td>-0.369855</td>\n",
       "      <td>-0.416361</td>\n",
       "      <td>-0.309120</td>\n",
       "      <td>0.290316</td>\n",
       "      <td>1.000000</td>\n",
       "      <td>-0.558255</td>\n",
       "    </tr>\n",
       "    <tr>\n",
       "      <th>l/10km</th>\n",
       "      <td>0.839385</td>\n",
       "      <td>0.866050</td>\n",
       "      <td>0.854809</td>\n",
       "      <td>0.885056</td>\n",
       "      <td>-0.456338</td>\n",
       "      <td>-0.558255</td>\n",
       "      <td>1.000000</td>\n",
       "    </tr>\n",
       "  </tbody>\n",
       "</table>\n",
       "</div>"
      ],
      "text/plain": [
       "              cylinders  displacement  horsepower    weight  acceleration  \\\n",
       "cylinders      1.000000      0.950823    0.842983  0.897527     -0.504683   \n",
       "displacement   0.950823      1.000000    0.897257  0.932994     -0.543800   \n",
       "horsepower     0.842983      0.897257    1.000000  0.864538     -0.689196   \n",
       "weight         0.897527      0.932994    0.864538  1.000000     -0.416839   \n",
       "acceleration  -0.504683     -0.543800   -0.689196 -0.416839      1.000000   \n",
       "model_year    -0.345647     -0.369855   -0.416361 -0.309120      0.290316   \n",
       "l/10km         0.839385      0.866050    0.854809  0.885056     -0.456338   \n",
       "\n",
       "              model_year    l/10km  \n",
       "cylinders      -0.345647  0.839385  \n",
       "displacement   -0.369855  0.866050  \n",
       "horsepower     -0.416361  0.854809  \n",
       "weight         -0.309120  0.885056  \n",
       "acceleration    0.290316 -0.456338  \n",
       "model_year      1.000000 -0.558255  \n",
       "l/10km         -0.558255  1.000000  "
      ]
     },
     "execution_count": 34,
     "metadata": {},
     "output_type": "execute_result"
    }
   ],
   "source": [
    "corr = cars[['cylinders','displacement','horsepower','weight','acceleration','model_year','l/10km']].corr()\n",
    "corr"
   ]
  },
  {
   "cell_type": "code",
   "execution_count": 40,
   "metadata": {},
   "outputs": [
    {
     "data": {
      "text/plain": [
       "<Axes: >"
      ]
     },
     "execution_count": 40,
     "metadata": {},
     "output_type": "execute_result"
    },
    {
     "data": {
      "image/png": "[encoded data removed]",
      "text/plain": [
       "<Figure size 640x480 with 2 Axes>"
      ]
     },
     "metadata": {},
     "output_type": "display_data"
    }
   ],
   "source": [
    "# Visual inspection of the correlation matrix\n",
    "mask = np.triu(np.ones_like(corr, dtype=bool))\n",
    "\n",
    "# Checking the correlation matrix squared to get the r-squared values\n",
    "sns.heatmap(corr**2, vmin=0, mask=mask, annot=True ,cmap='coolwarm') "
   ]
  },
  {
   "cell_type": "markdown",
   "metadata": {},
   "source": [
    "Using the squared number corresponding to the r², we see that the top three factors correlating to fuel consumption are weight, displacement, and horsepower.\n",
    "We could use all three of these factors for our prediction. But as the research question has already been set, we will proceed without displacement, which is also highly correlated to the weight. This makes it feel more ok to skip including that factor."
   ]
  },
  {
   "cell_type": "markdown",
   "metadata": {},
   "source": [
    "Now, let's inspect the correlation between the chosen factors visually."
   ]
  },
  {
   "cell_type": "code",
   "execution_count": 41,
   "metadata": {},
   "outputs": [
    {
     "data": {
      "application/vnd.plotly.v1+json": {
       "config": {
        "plotlyServerURL": "https://plot.ly"
       },
       "data": [
        {
         "hovertemplate": "weight=%{x}<br>l/10km=%{y}<extra></extra>",
         "legendgroup": "",
         "marker": {
          "color": "#636efa",
          "opacity": 0.8,
          "size": 8,
          "symbol": "circle"
         },
         "mode": "markers",
         "name": "",
         "orientation": "v",
         "showlegend": false,
         "type": "scatter",
         "x": [
          3504,
          3693,
          3436,
          3433,
          3449,
          4341,
          4354,
          4312,
          4425,
          3850,
          3563,
          3609,
          3761,
          3086,
          2372,
          2833,
          2774,
          2587,
          2130,
          1835,
          2672,
          2430,
          2375,
          2234,
          2648,
          4615,
          4376,
          4382,
          4732,
          2130,
          2264,
          2228,
          2634,
          3439,
          3329,
          3302,
          3288,
          4209,
          4464,
          4154,
          4096,
          4955,
          4746,
          5140,
          2962,
          2408,
          3282,
          3139,
          2220,
          2123,
          2074,
          2065,
          1773,
          1613,
          1834,
          1955,
          2278,
          2126,
          2254,
          2408,
          2226,
          4274,
          4385,
          4135,
          4129,
          3672,
          4633,
          4502,
          4456,
          4422,
          2330,
          3892,
          4098,
          4294,
          4077,
          2933,
          2511,
          2979,
          2189,
          2395,
          2288,
          2506,
          2164,
          2100,
          4100,
          3672,
          3988,
          4042,
          3777,
          4952,
          4464,
          4363,
          4237,
          4735,
          4951,
          3821,
          3121,
          3278,
          2945,
          3021,
          2904,
          1950,
          4997,
          4906,
          4654,
          4499,
          2789,
          2279,
          2401,
          2379,
          2124,
          2310,
          2472,
          2265,
          4082,
          4278,
          1867,
          2158,
          2582,
          2868,
          3399,
          2660,
          2807,
          3664,
          3102,
          2901,
          3336,
          1950,
          2451,
          1836,
          2542,
          3781,
          3632,
          3613,
          4141,
          4699,
          4457,
          4638,
          4257,
          2219,
          1963,
          2300,
          1649,
          2003,
          2125,
          2108,
          2246,
          2489,
          2391,
          2000,
          3264,
          3459,
          3432,
          3158,
          4668,
          4440,
          4498,
          4657,
          3907,
          3897,
          3730,
          3785,
          3039,
          3221,
          3169,
          2171,
          2639,
          2914,
          2592,
          2702,
          2223,
          2545,
          2984,
          1937,
          3211,
          2694,
          2957,
          2945,
          2671,
          1795,
          2464,
          2220,
          2572,
          2255,
          2202,
          4215,
          4190,
          3962,
          4215,
          3233,
          3353,
          3012,
          3085,
          2035,
          2164,
          1937,
          1795,
          3651,
          3574,
          3645,
          3193,
          1825,
          1990,
          2155,
          2565,
          3150,
          3940,
          3270,
          2930,
          3820,
          4380,
          4055,
          3870,
          3755,
          2045,
          2155,
          1825,
          2300,
          1945,
          3880,
          4060,
          4140,
          4295,
          3520,
          3425,
          3630,
          3525,
          4220,
          4165,
          4325,
          4335,
          1940,
          2740,
          2265,
          2755,
          2051,
          2075,
          1985,
          2190,
          2815,
          2600,
          2720,
          1985,
          1800,
          1985,
          2070,
          1800,
          3365,
          3735,
          3570,
          3535,
          3155,
          2965,
          2720,
          3430,
          3210,
          3380,
          3070,
          3620,
          3410,
          3425,
          3445,
          3205,
          4080,
          2155,
          2560,
          2300,
          2230,
          2515,
          2745,
          2855,
          2405,
          2830,
          3140,
          2795,
          3410,
          1990,
          2135,
          3245,
          2990,
          2890,
          3265,
          3360,
          3840,
          3725,
          3955,
          3830,
          4360,
          4054,
          3605,
          3940,
          1925,
          1975,
          1915,
          2670,
          3530,
          3900,
          3190,
          3420,
          2200,
          2150,
          2020,
          2130,
          2670,
          2595,
          2700,
          2556,
          2144,
          1968,
          2120,
          2019,
          2678,
          2870,
          3003,
          3381,
          2188,
          2711,
          2542,
          2434,
          2265,
          2110,
          2800,
          2110,
          2085,
          2335,
          2950,
          3250,
          1850,
          2145,
          1845,
          2910,
          2420,
          2500,
          2290,
          2490,
          2635,
          2620,
          2725,
          2385,
          1755,
          1875,
          1760,
          2065,
          1975,
          2050,
          1985,
          2215,
          2045,
          2380,
          2190,
          2210,
          2350,
          2615,
          2635,
          3230,
          3160,
          2900,
          2930,
          3415,
          3725,
          3060,
          3465,
          2605,
          2640,
          2395,
          2575,
          2525,
          2735,
          2865,
          1980,
          2025,
          1970,
          2125,
          2125,
          2160,
          2205,
          2245,
          1965,
          1965,
          1995,
          2945,
          3015,
          2585,
          2835,
          2665,
          2370,
          2950,
          2790,
          2130,
          2295,
          2625,
          2720
         ],
         "xaxis": "x",
         "y": [
          1.30675,
          1.5681,
          1.30675,
          1.47009375,
          1.3836176470588235,
          1.5681,
          1.6801071428571428,
          1.6801071428571428,
          1.6801071428571428,
          1.5681,
          1.5681,
          1.6801071428571428,
          1.5681,
          1.6801071428571428,
          0.9800625,
          1.069159090909091,
          1.30675,
          1.1200714285714286,
          0.8711666666666666,
          0.9046730769230769,
          0.94086,
          0.9800625,
          0.94086,
          0.9046730769230769,
          1.1200714285714286,
          2.35215,
          2.35215,
          2.138318181818182,
          2.6135,
          0.8711666666666666,
          0.8400535714285714,
          0.94086,
          1.2379736842105262,
          1.47009375,
          1.3836176470588235,
          1.2379736842105262,
          1.30675,
          1.6801071428571428,
          1.6801071428571428,
          1.6801071428571428,
          1.6801071428571428,
          1.960125,
          1.8093461538461537,
          1.8093461538461537,
          1.30675,
          1.069159090909091,
          1.2379736842105262,
          1.30675,
          1.0226739130434783,
          0.8400535714285714,
          0.78405,
          0.78405,
          0.758758064516129,
          0.6720428571428572,
          0.8711666666666666,
          0.9046730769230769,
          0.9800625,
          0.94086,
          1.0226739130434783,
          1.176075,
          1.1200714285714286,
          1.8093461538461537,
          1.6801071428571428,
          1.5681,
          1.6801071428571428,
          1.3836176470588235,
          2.138318181818182,
          1.8093461538461537,
          1.960125,
          1.8093461538461537,
          1.2379736842105262,
          1.5681,
          1.8093461538461537,
          1.8093461538461537,
          1.6801071428571428,
          1.30675,
          1.069159090909091,
          1.1200714285714286,
          0.9046730769230769,
          1.069159090909091,
          0.8400535714285714,
          1.0226739130434783,
          0.8400535714285714,
          0.8711666666666666,
          1.8093461538461537,
          1.6801071428571428,
          1.8093461538461537,
          1.6801071428571428,
          1.5681,
          1.960125,
          1.8093461538461537,
          1.8093461538461537,
          1.6801071428571428,
          1.8093461538461537,
          1.960125,
          1.8093461538461537,
          1.30675,
          1.47009375,
          1.30675,
          1.30675,
          1.0226739130434783,
          0.9046730769230769,
          2.138318181818182,
          1.960125,
          1.8093461538461537,
          1.960125,
          1.30675,
          1.176075,
          1.1200714285714286,
          1.069159090909091,
          1.30675,
          1.2379736842105262,
          1.1200714285714286,
          0.9046730769230769,
          1.5681,
          1.47009375,
          0.8110862068965518,
          0.9800625,
          1.176075,
          1.2379736842105262,
          1.5681,
          0.9800625,
          1.176075,
          2.138318181818182,
          1.176075,
          1.2379736842105262,
          1.5681,
          0.758758064516129,
          0.9046730769230769,
          0.735046875,
          0.94086,
          1.47009375,
          1.47009375,
          1.30675,
          1.47009375,
          1.8093461538461537,
          1.6801071428571428,
          1.6801071428571428,
          1.6801071428571428,
          0.8110862068965518,
          0.9046730769230769,
          0.9046730769230769,
          0.758758064516129,
          0.735046875,
          0.8400535714285714,
          0.9800625,
          0.9046730769230769,
          0.9800625,
          0.9046730769230769,
          0.758758064516129,
          1.2379736842105262,
          1.30675,
          1.5681,
          1.5681,
          1.47009375,
          1.5681,
          1.47009375,
          1.6801071428571428,
          1.3836176470588235,
          1.47009375,
          1.5681,
          1.30675,
          1.1200714285714286,
          1.176075,
          1.8093461538461537,
          0.8110862068965518,
          1.0226739130434783,
          1.176075,
          1.0226739130434783,
          0.9800625,
          0.94086,
          0.9800625,
          1.30675,
          0.8110862068965518,
          1.2379736842105262,
          1.0226739130434783,
          1.0226739130434783,
          1.069159090909091,
          0.94086,
          0.7127727272727272,
          0.8400535714285714,
          0.94086,
          0.94086,
          0.9046730769230769,
          0.8711666666666666,
          1.3440857142857143,
          1.47009375,
          1.517516129032258,
          1.6221724137931035,
          1.069159090909091,
          1.069159090909091,
          0.9800625,
          1.0453999999999999,
          0.8110862068965518,
          0.9600612244897959,
          0.8110862068965518,
          0.7127727272727272,
          1.176075,
          1.30675,
          1.2714324324324324,
          1.3440857142857143,
          0.7973389830508475,
          0.735046875,
          0.8400535714285714,
          0.8876037735849056,
          1.176075,
          1.8093461538461537,
          1.2379736842105262,
          1.2379736842105262,
          1.4255454545454544,
          1.4255454545454544,
          1.8093461538461537,
          1.8093461538461537,
          1.8093461538461537,
          0.7467142857142857,
          0.78405,
          0.653375,
          0.9224117647058824,
          0.702134328358209,
          1.3440857142857143,
          1.3836176470588235,
          1.517516129032258,
          1.5681,
          1.3440857142857143,
          1.147390243902439,
          1.2379736842105262,
          1.2714324324324324,
          1.47009375,
          1.517516129032258,
          1.517516129032258,
          1.47009375,
          0.8110862068965518,
          0.9600612244897959,
          0.9046730769230769,
          0.9224117647058824,
          0.7711967213114754,
          0.702134328358209,
          0.78405,
          0.7711967213114754,
          1.069159090909091,
          1.0940232558139535,
          1.0940232558139535,
          0.5457424593967517,
          0.6515650969529085,
          0.7171189024390244,
          0.596992385786802,
          0.6515650969529085,
          1.1819849246231156,
          1.2124484536082476,
          1.164430693069307,
          1.225078125,
          1.147390243902439,
          1.164430693069307,
          0.9371115537848604,
          1.147390243902439,
          1.2124484536082476,
          1.1418203883495144,
          1.130841346153846,
          1.2645967741935482,
          1.2995303867403314,
          1.225078125,
          1.3288983050847458,
          1.2995303867403314,
          1.3440857142857143,
          0.78405,
          0.8553272727272727,
          0.8647610294117647,
          0.7612135922330098,
          1.1147630331753553,
          1.0138577586206896,
          0.988298319327731,
          0.9841631799163181,
          1.158694581280788,
          1.3836176470588235,
          1.0889583333333333,
          1.4519444444444445,
          0.7467142857142857,
          0.7973389830508475,
          1.0940232558139535,
          1.1879545454545455,
          1.0547757847533632,
          1.164430693069307,
          1.1418203883495144,
          1.3836176470588235,
          1.3364488636363636,
          1.4255454545454544,
          1.2923901098901098,
          1.3918047337278108,
          1.517516129032258,
          1.225078125,
          1.2714324324324324,
          0.7373510971786834,
          0.6897800586510263,
          0.6588655462184874,
          0.8584489051094891,
          0.9260433070866142,
          1.0226739130434783,
          0.8647610294117647,
          0.9841631799163181,
          0.6877631578947367,
          0.6817826086956522,
          0.7396698113207547,
          0.630603217158177,
          0.8282218309859155,
          0.8167187499999999,
          0.8776679104477612,
          0.702134328358209,
          0.5667831325301205,
          0.6173622047244094,
          0.7327570093457944,
          0.6322983870967741,
          0.8400535714285714,
          0.8909659090909091,
          0.9679629629629629,
          1.2314921465968585,
          0.6857580174927114,
          0.7893120805369127,
          0.7514856230031949,
          0.6357162162162162,
          0.7304813664596272,
          0.5047532188841202,
          0.8430645161290323,
          0.5765073529411765,
          0.530959367945824,
          0.5419700460829493,
          0.6461950549450549,
          0.78405,
          0.5273878923766816,
          0.6959023668639054,
          0.7893120805369127,
          0.7193119266055045,
          0.9924683544303797,
          0.6720428571428572,
          0.7259722222222222,
          0.8647610294117647,
          0.884266917293233,
          0.9116860465116279,
          1.0009148936170214,
          0.78405,
          0.6015728900255755,
          0.6031153846153846,
          0.6701282051282051,
          0.7282198142414861,
          0.6357162162162162,
          0.6239124668435013,
          0.6897800586510263,
          0.6778530259365994,
          0.6837645348837209,
          0.7866722408026756,
          0.7127727272727272,
          0.697967359050445,
          0.7259722222222222,
          0.7149392097264438,
          0.7443512658227848,
          0.8370640569395017,
          0.7661726384364821,
          0.9260433070866142,
          0.9719628099173554,
          1.0500669642857143,
          0.884266917293233,
          1.164430693069307,
          1.3364488636363636,
          0.8400535714285714,
          0.8711666666666666,
          0.6918088235294118,
          0.758758064516129,
          0.8110862068965518,
          0.8711666666666666,
          0.9800625,
          0.653375,
          0.6357162162162162,
          0.758758064516129,
          0.6189868421052631,
          0.653375,
          0.653375,
          0.653375,
          0.6918088235294118,
          0.6189868421052631,
          0.735046875,
          0.6189868421052631,
          0.94086,
          0.6189868421052631,
          0.9046730769230769,
          1.069159090909091,
          0.735046875,
          0.653375,
          0.8711666666666666,
          0.8711666666666666,
          0.5345795454545454,
          0.735046875,
          0.8400535714285714,
          0.758758064516129
         ],
         "yaxis": "y"
        },
        {
         "hovertemplate": "<b>OLS trendline</b><br>l/10km = 0.000407813 * weight + -0.0894417<br>R<sup>2</sup>=0.783324<br><br>weight=%{x}<br>l/10km=%{y} <b>(trend)</b><extra></extra>",
         "legendgroup": "",
         "marker": {
          "color": "#636efa",
          "opacity": 0.8,
          "size": 8,
          "symbol": "circle"
         },
         "mode": "lines",
         "name": "",
         "showlegend": false,
         "type": "scatter",
         "x": [
          1613,
          1649,
          1755,
          1760,
          1773,
          1795,
          1795,
          1800,
          1800,
          1825,
          1825,
          1834,
          1835,
          1836,
          1845,
          1850,
          1867,
          1875,
          1915,
          1925,
          1937,
          1937,
          1940,
          1945,
          1950,
          1950,
          1955,
          1963,
          1965,
          1965,
          1968,
          1970,
          1975,
          1975,
          1980,
          1985,
          1985,
          1985,
          1985,
          1990,
          1990,
          1995,
          2000,
          2003,
          2019,
          2020,
          2025,
          2035,
          2045,
          2045,
          2050,
          2051,
          2065,
          2065,
          2070,
          2074,
          2075,
          2085,
          2100,
          2108,
          2110,
          2110,
          2120,
          2123,
          2124,
          2125,
          2125,
          2125,
          2126,
          2130,
          2130,
          2130,
          2130,
          2135,
          2144,
          2145,
          2150,
          2155,
          2155,
          2155,
          2158,
          2160,
          2164,
          2164,
          2171,
          2188,
          2189,
          2190,
          2190,
          2200,
          2202,
          2205,
          2210,
          2215,
          2219,
          2220,
          2220,
          2223,
          2226,
          2228,
          2230,
          2234,
          2245,
          2246,
          2254,
          2255,
          2264,
          2265,
          2265,
          2265,
          2278,
          2279,
          2288,
          2290,
          2295,
          2300,
          2300,
          2300,
          2310,
          2330,
          2335,
          2350,
          2370,
          2372,
          2375,
          2379,
          2380,
          2385,
          2391,
          2395,
          2395,
          2401,
          2405,
          2408,
          2408,
          2420,
          2430,
          2434,
          2451,
          2464,
          2472,
          2489,
          2490,
          2500,
          2506,
          2511,
          2515,
          2525,
          2542,
          2542,
          2545,
          2556,
          2560,
          2565,
          2572,
          2575,
          2582,
          2585,
          2587,
          2592,
          2595,
          2600,
          2605,
          2615,
          2620,
          2625,
          2634,
          2635,
          2635,
          2639,
          2640,
          2648,
          2660,
          2665,
          2670,
          2670,
          2671,
          2672,
          2678,
          2694,
          2700,
          2702,
          2711,
          2720,
          2720,
          2720,
          2725,
          2735,
          2740,
          2745,
          2755,
          2774,
          2789,
          2790,
          2795,
          2800,
          2807,
          2815,
          2830,
          2833,
          2835,
          2855,
          2865,
          2868,
          2870,
          2890,
          2900,
          2901,
          2904,
          2910,
          2914,
          2930,
          2930,
          2933,
          2945,
          2945,
          2945,
          2950,
          2950,
          2957,
          2962,
          2965,
          2979,
          2984,
          2990,
          3003,
          3012,
          3015,
          3021,
          3039,
          3060,
          3070,
          3085,
          3086,
          3102,
          3121,
          3139,
          3140,
          3150,
          3155,
          3158,
          3160,
          3169,
          3190,
          3193,
          3205,
          3210,
          3211,
          3221,
          3230,
          3233,
          3245,
          3250,
          3264,
          3265,
          3270,
          3278,
          3282,
          3288,
          3302,
          3329,
          3336,
          3353,
          3360,
          3365,
          3380,
          3381,
          3399,
          3410,
          3410,
          3415,
          3420,
          3425,
          3425,
          3430,
          3432,
          3433,
          3436,
          3439,
          3445,
          3449,
          3459,
          3465,
          3504,
          3520,
          3525,
          3530,
          3535,
          3563,
          3570,
          3574,
          3605,
          3609,
          3613,
          3620,
          3630,
          3632,
          3645,
          3651,
          3664,
          3672,
          3672,
          3693,
          3725,
          3725,
          3730,
          3735,
          3755,
          3761,
          3777,
          3781,
          3785,
          3820,
          3821,
          3830,
          3840,
          3850,
          3870,
          3880,
          3892,
          3897,
          3900,
          3907,
          3940,
          3940,
          3955,
          3962,
          3988,
          4042,
          4054,
          4055,
          4060,
          4077,
          4080,
          4082,
          4096,
          4098,
          4100,
          4129,
          4135,
          4140,
          4141,
          4154,
          4165,
          4190,
          4209,
          4215,
          4215,
          4220,
          4237,
          4257,
          4274,
          4278,
          4294,
          4295,
          4312,
          4325,
          4335,
          4341,
          4354,
          4360,
          4363,
          4376,
          4380,
          4382,
          4385,
          4422,
          4425,
          4440,
          4456,
          4457,
          4464,
          4464,
          4498,
          4499,
          4502,
          4615,
          4633,
          4638,
          4654,
          4657,
          4668,
          4699,
          4732,
          4735,
          4746,
          4906,
          4951,
          4952,
          4955,
          4997,
          5140
         ],
         "xaxis": "x",
         "y": [
          0.5683603537692954,
          0.5830416142318069,
          0.6262697700380904,
          0.6283088339912171,
          0.6336104002693461,
          0.642582281663103,
          0.642582281663103,
          0.6446213456162297,
          0.6446213456162297,
          0.6548166653818626,
          0.6548166653818626,
          0.6584869804974904,
          0.6588947932881157,
          0.659302606078741,
          0.6629729211943689,
          0.6650119851474956,
          0.6719448025881258,
          0.6752073049131284,
          0.6915198165381411,
          0.6955979444443943,
          0.700491697931898,
          0.700491697931898,
          0.7017151363037741,
          0.7037542002569006,
          0.7057932642100273,
          0.7057932642100273,
          0.7078323281631538,
          0.7110948304881564,
          0.711910456069407,
          0.711910456069407,
          0.7131338944412828,
          0.7139495200225336,
          0.7159885839756601,
          0.7159885839756601,
          0.7180276479287868,
          0.7200667118819133,
          0.7200667118819133,
          0.7200667118819133,
          0.7200667118819133,
          0.72210577583504,
          0.72210577583504,
          0.7241448397881665,
          0.7261839037412929,
          0.727407342113169,
          0.733932346763174,
          0.7343401595537993,
          0.736379223506926,
          0.7404573514131791,
          0.7445354793194323,
          0.7445354793194323,
          0.7465745432725588,
          0.7469823560631843,
          0.7526917351319387,
          0.7526917351319387,
          0.7547307990850651,
          0.7563620502475665,
          0.7567698630381918,
          0.760847990944445,
          0.7669651828038246,
          0.7702276851288272,
          0.7710433107100778,
          0.7710433107100778,
          0.775121438616331,
          0.7763448769882071,
          0.7767526897788324,
          0.7771605025694577,
          0.7771605025694577,
          0.7771605025694577,
          0.777568315360083,
          0.7791995665225842,
          0.7791995665225842,
          0.7791995665225842,
          0.7791995665225842,
          0.7812386304757108,
          0.7849089455913387,
          0.785316758381964,
          0.7873558223350905,
          0.7893948862882172,
          0.7893948862882172,
          0.7893948862882172,
          0.7906183246600931,
          0.7914339502413437,
          0.7930652014038451,
          0.7930652014038451,
          0.7959198909382221,
          0.8028527083788526,
          0.8032605211694779,
          0.8036683339601032,
          0.8036683339601032,
          0.8077464618663563,
          0.8085620874476072,
          0.809785525819483,
          0.8118245897726095,
          0.8138636537257362,
          0.8154949048882374,
          0.8159027176788627,
          0.8159027176788627,
          0.8171261560507388,
          0.8183495944226147,
          0.8191652200038653,
          0.8199808455851159,
          0.8216120967476173,
          0.8260980374444957,
          0.826505850235121,
          0.8297683525601236,
          0.8301761653507489,
          0.8338464804663768,
          0.8342542932570021,
          0.8342542932570021,
          0.8342542932570021,
          0.8395558595351311,
          0.8399636723257564,
          0.8436339874413843,
          0.8444496130226349,
          0.8464886769757616,
          0.848527740928888,
          0.848527740928888,
          0.848527740928888,
          0.8526058688351412,
          0.8607621246476476,
          0.8628011886007743,
          0.8689183804601539,
          0.8770746362726602,
          0.8778902618539108,
          0.8791137002257869,
          0.8807449513882881,
          0.8811527641789134,
          0.8831918281320401,
          0.8856387048757919,
          0.8872699560382933,
          0.8872699560382933,
          0.889716832782045,
          0.8913480839445465,
          0.8925715223164223,
          0.8925715223164223,
          0.8974652758039261,
          0.9015434037101793,
          0.9031746548726807,
          0.9101074723133109,
          0.91540903859144,
          0.9186715409164425,
          0.925604358357073,
          0.9260121711476983,
          0.9300902990539515,
          0.9325371757977032,
          0.9345762397508299,
          0.9362074909133311,
          0.9402856188195843,
          0.9472184362602147,
          0.9472184362602147,
          0.9484418746320906,
          0.9529278153289691,
          0.9545590664914705,
          0.956598130444597,
          0.9594528199789742,
          0.9606762583508501,
          0.9635309478852274,
          0.9647543862571033,
          0.9655700118383539,
          0.9676090757914806,
          0.9688325141633565,
          0.9708715781164832,
          0.9729106420696096,
          0.9769887699758628,
          0.9790278339289895,
          0.981066897882116,
          0.9847372129977439,
          0.9851450257883692,
          0.9851450257883692,
          0.9867762769508706,
          0.9871840897414959,
          0.9904465920664982,
          0.9953403455540022,
          0.9973794095071287,
          0.9994184734602554,
          0.9994184734602554,
          0.9998262862508807,
          1.000234099041506,
          1.0026809757852577,
          1.0092059804352629,
          1.0116528571790149,
          1.0124684827602655,
          1.0161387978758933,
          1.0198091129915212,
          1.0198091129915212,
          1.0198091129915212,
          1.0218481769446477,
          1.0259263048509009,
          1.0279653688040276,
          1.030004432757154,
          1.0340825606634072,
          1.0418310036852882,
          1.047948195544668,
          1.0483560083352934,
          1.0503950722884199,
          1.0524341362415466,
          1.0552888257759236,
          1.0585513281009262,
          1.064668519960306,
          1.065891958332182,
          1.0667075839134326,
          1.074863839725939,
          1.078941967632192,
          1.080165406004068,
          1.0809810315853186,
          1.089137287397825,
          1.093215415304078,
          1.0936232280947036,
          1.0948466664665795,
          1.0972935432103312,
          1.0989247943728326,
          1.1054497990228376,
          1.1054497990228376,
          1.1066732373947137,
          1.1115669908822174,
          1.1115669908822174,
          1.1115669908822174,
          1.113606054835344,
          1.113606054835344,
          1.1164607443697212,
          1.118499808322848,
          1.1197232466947238,
          1.1254326257634781,
          1.1274716897166048,
          1.1299185664603566,
          1.1352201327384859,
          1.1388904478541138,
          1.1401138862259896,
          1.1425607629697414,
          1.1499013932009972,
          1.1584654618041288,
          1.162543589710382,
          1.1686607815697618,
          1.1690685943603871,
          1.175593599010392,
          1.1833420420322731,
          1.1906826722635289,
          1.1910904850541542,
          1.1951686129604073,
          1.197207676913534,
          1.19843111528541,
          1.1992467408666605,
          1.2029170559822884,
          1.21148112458542,
          1.212704562957296,
          1.2175983164447999,
          1.2196373803979264,
          1.2200451931885516,
          1.2241233210948048,
          1.2277936362104327,
          1.2290170745823086,
          1.2339108280698126,
          1.235949892022939,
          1.2416592710916936,
          1.242067083882319,
          1.2441061478354454,
          1.247368650160448,
          1.2489999013229491,
          1.2514467780667011,
          1.2571561571354555,
          1.268167102482339,
          1.2710217920167164,
          1.2779546094573466,
          1.280809298991724,
          1.2828483629448506,
          1.2889655548042303,
          1.2893733675948555,
          1.2967139978261113,
          1.3011999385229898,
          1.3011999385229898,
          1.3032390024761162,
          1.305278066429243,
          1.3073171303823694,
          1.3073171303823694,
          1.309356194335496,
          1.3101718199167467,
          1.310579632707372,
          1.311803071079248,
          1.313026509451124,
          1.3154733861948757,
          1.3171046373573772,
          1.3211827652636303,
          1.323629642007382,
          1.3395343408417695,
          1.3460593454917746,
          1.3480984094449011,
          1.3501374733980278,
          1.3521765373511543,
          1.3635952954886632,
          1.3664499850230405,
          1.3680812361855417,
          1.3807234326949265,
          1.3823546838574279,
          1.383985935019929,
          1.3868406245543063,
          1.3909187524605595,
          1.39173437804181,
          1.3970359443199392,
          1.3994828210636912,
          1.4047843873418202,
          1.4080468896668228,
          1.4080468896668228,
          1.4166109582699544,
          1.4296609675699645,
          1.4296609675699645,
          1.4317000315230912,
          1.4337390954762177,
          1.441895351288724,
          1.444342228032476,
          1.450867232682481,
          1.4524984838449824,
          1.4541297350074835,
          1.4684031826793698,
          1.468810995469995,
          1.472481310585623,
          1.476559438491876,
          1.4806375663981293,
          1.4887938222106356,
          1.4928719501168888,
          1.4977657036043925,
          1.499804767557519,
          1.5010282059293951,
          1.5038828954637722,
          1.5173407175544078,
          1.5173407175544078,
          1.5234579094137874,
          1.5263125989481647,
          1.5369157315044228,
          1.55893762219819,
          1.5638313756856939,
          1.5642391884763192,
          1.5662782524294456,
          1.573211069870076,
          1.574434508241952,
          1.5752501338232028,
          1.5809595128919571,
          1.5817751384732077,
          1.5825907640544583,
          1.5944173349825925,
          1.5968642117263445,
          1.598903275679471,
          1.5993110884700963,
          1.6046126547482256,
          1.609098595445104,
          1.6192939152107368,
          1.627042358232618,
          1.6294892349763699,
          1.6294892349763699,
          1.6315282989294964,
          1.6384611163701268,
          1.6466173721826332,
          1.6535501896232636,
          1.6551814407857648,
          1.66170644543577,
          1.6621142582263952,
          1.6690470756670255,
          1.6743486419451548,
          1.678426769851408,
          1.6808736465951597,
          1.686175212873289,
          1.6886220896170407,
          1.6898455279889166,
          1.695147094267046,
          1.696778345429547,
          1.6975939710107977,
          1.6988174093826738,
          1.7139064826358104,
          1.7151299210076865,
          1.721247112867066,
          1.7277721175170713,
          1.7281799303076966,
          1.7310346198420736,
          1.7310346198420736,
          1.7449002547233345,
          1.7453080675139598,
          1.7465315058858357,
          1.7926143512264965,
          1.7999549814577522,
          1.801994045410879,
          1.8085190500608839,
          1.80974248843276,
          1.8142284291296384,
          1.8268706256390232,
          1.8403284477296586,
          1.8415518861015345,
          1.846037826798413,
          1.9112878732984637,
          1.929639448876603,
          1.9300472616672282,
          1.9312707000391043,
          1.9483988372453676,
          2.0067160663047883
         ],
         "yaxis": "y"
        }
       ],
       "layout": {
        "font": {
         "color": "black",
         "family": "Arial",
         "size": 14
        },
        "height": 600,
        "legend": {
         "tracegroupgap": 0
        },
        "template": {
         "data": {
          "bar": [
           {
            "error_x": {
             "color": "#2a3f5f"
            },
            "error_y": {
             "color": "#2a3f5f"
            },
            "marker": {
             "line": {
              "color": "#E5ECF6",
              "width": 0.5
             },
             "pattern": {
              "fillmode": "overlay",
              "size": 10,
              "solidity": 0.2
             }
            },
            "type": "bar"
           }
          ],
          "barpolar": [
           {
            "marker": {
             "line": {
              "color": "#E5ECF6",
              "width": 0.5
             },
             "pattern": {
              "fillmode": "overlay",
              "size": 10,
              "solidity": 0.2
             }
            },
            "type": "barpolar"
           }
          ],
          "carpet": [
           {
            "aaxis": {
             "endlinecolor": "#2a3f5f",
             "gridcolor": "white",
             "linecolor": "white",
             "minorgridcolor": "white",
             "startlinecolor": "#2a3f5f"
            },
            "baxis": {
             "endlinecolor": "#2a3f5f",
             "gridcolor": "white",
             "linecolor": "white",
             "minorgridcolor": "white",
             "startlinecolor": "#2a3f5f"
            },
            "type": "carpet"
           }
          ],
          "choropleth": [
           {
            "colorbar": {
             "outlinewidth": 0,
             "ticks": ""
            },
            "type": "choropleth"
           }
          ],
          "contour": [
           {
            "colorbar": {
             "outlinewidth": 0,
             "ticks": ""
            },
            "colorscale": [
             [
              0,
              "#0d0887"
             ],
             [
              0.1111111111111111,
              "#46039f"
             ],
             [
              0.2222222222222222,
              "#7201a8"
             ],
             [
              0.3333333333333333,
              "#9c179e"
             ],
             [
              0.4444444444444444,
              "#bd3786"
             ],
             [
              0.5555555555555556,
              "#d8576b"
             ],
             [
              0.6666666666666666,
              "#ed7953"
             ],
             [
              0.7777777777777778,
              "#fb9f3a"
             ],
             [
              0.8888888888888888,
              "#fdca26"
             ],
             [
              1,
              "#f0f921"
             ]
            ],
            "type": "contour"
           }
          ],
          "contourcarpet": [
           {
            "colorbar": {
             "outlinewidth": 0,
             "ticks": ""
            },
            "type": "contourcarpet"
           }
          ],
          "heatmap": [
           {
            "colorbar": {
             "outlinewidth": 0,
             "ticks": ""
            },
            "colorscale": [
             [
              0,
              "#0d0887"
             ],
             [
              0.1111111111111111,
              "#46039f"
             ],
             [
              0.2222222222222222,
              "#7201a8"
             ],
             [
              0.3333333333333333,
              "#9c179e"
             ],
             [
              0.4444444444444444,
              "#bd3786"
             ],
             [
              0.5555555555555556,
              "#d8576b"
             ],
             [
              0.6666666666666666,
              "#ed7953"
             ],
             [
              0.7777777777777778,
              "#fb9f3a"
             ],
             [
              0.8888888888888888,
              "#fdca26"
             ],
             [
              1,
              "#f0f921"
             ]
            ],
            "type": "heatmap"
           }
          ],
          "heatmapgl": [
           {
            "colorbar": {
             "outlinewidth": 0,
             "ticks": ""
            },
            "colorscale": [
             [
              0,
              "#0d0887"
             ],
             [
              0.1111111111111111,
              "#46039f"
             ],
             [
              0.2222222222222222,
              "#7201a8"
             ],
             [
              0.3333333333333333,
              "#9c179e"
             ],
             [
              0.4444444444444444,
              "#bd3786"
             ],
             [
              0.5555555555555556,
              "#d8576b"
             ],
             [
              0.6666666666666666,
              "#ed7953"
             ],
             [
              0.7777777777777778,
              "#fb9f3a"
             ],
             [
              0.8888888888888888,
              "#fdca26"
             ],
             [
              1,
              "#f0f921"
             ]
            ],
            "type": "heatmapgl"
           }
          ],
          "histogram": [
           {
            "marker": {
             "pattern": {
              "fillmode": "overlay",
              "size": 10,
              "solidity": 0.2
             }
            },
            "type": "histogram"
           }
          ],
          "histogram2d": [
           {
            "colorbar": {
             "outlinewidth": 0,
             "ticks": ""
            },
            "colorscale": [
             [
              0,
              "#0d0887"
             ],
             [
              0.1111111111111111,
              "#46039f"
             ],
             [
              0.2222222222222222,
              "#7201a8"
             ],
             [
              0.3333333333333333,
              "#9c179e"
             ],
             [
              0.4444444444444444,
              "#bd3786"
             ],
             [
              0.5555555555555556,
              "#d8576b"
             ],
             [
              0.6666666666666666,
              "#ed7953"
             ],
             [
              0.7777777777777778,
              "#fb9f3a"
             ],
             [
              0.8888888888888888,
              "#fdca26"
             ],
             [
              1,
              "#f0f921"
             ]
            ],
            "type": "histogram2d"
           }
          ],
          "histogram2dcontour": [
           {
            "colorbar": {
             "outlinewidth": 0,
             "ticks": ""
            },
            "colorscale": [
             [
              0,
              "#0d0887"
             ],
             [
              0.1111111111111111,
              "#46039f"
             ],
             [
              0.2222222222222222,
              "#7201a8"
             ],
             [
              0.3333333333333333,
              "#9c179e"
             ],
             [
              0.4444444444444444,
              "#bd3786"
             ],
             [
              0.5555555555555556,
              "#d8576b"
             ],
             [
              0.6666666666666666,
              "#ed7953"
             ],
             [
              0.7777777777777778,
              "#fb9f3a"
             ],
             [
              0.8888888888888888,
              "#fdca26"
             ],
             [
              1,
              "#f0f921"
             ]
            ],
            "type": "histogram2dcontour"
           }
          ],
          "mesh3d": [
           {
            "colorbar": {
             "outlinewidth": 0,
             "ticks": ""
            },
            "type": "mesh3d"
           }
          ],
          "parcoords": [
           {
            "line": {
             "colorbar": {
              "outlinewidth": 0,
              "ticks": ""
             }
            },
            "type": "parcoords"
           }
          ],
          "pie": [
           {
            "automargin": true,
            "type": "pie"
           }
          ],
          "scatter": [
           {
            "fillpattern": {
             "fillmode": "overlay",
             "size": 10,
             "solidity": 0.2
            },
            "type": "scatter"
           }
          ],
          "scatter3d": [
           {
            "line": {
             "colorbar": {
              "outlinewidth": 0,
              "ticks": ""
             }
            },
            "marker": {
             "colorbar": {
              "outlinewidth": 0,
              "ticks": ""
             }
            },
            "type": "scatter3d"
           }
          ],
          "scattercarpet": [
           {
            "marker": {
             "colorbar": {
              "outlinewidth": 0,
              "ticks": ""
             }
            },
            "type": "scattercarpet"
           }
          ],
          "scattergeo": [
           {
            "marker": {
             "colorbar": {
              "outlinewidth": 0,
              "ticks": ""
             }
            },
            "type": "scattergeo"
           }
          ],
          "scattergl": [
           {
            "marker": {
             "colorbar": {
              "outlinewidth": 0,
              "ticks": ""
             }
            },
            "type": "scattergl"
           }
          ],
          "scattermapbox": [
           {
            "marker": {
             "colorbar": {
              "outlinewidth": 0,
              "ticks": ""
             }
            },
            "type": "scattermapbox"
           }
          ],
          "scatterpolar": [
           {
            "marker": {
             "colorbar": {
              "outlinewidth": 0,
              "ticks": ""
             }
            },
            "type": "scatterpolar"
           }
          ],
          "scatterpolargl": [
           {
            "marker": {
             "colorbar": {
              "outlinewidth": 0,
              "ticks": ""
             }
            },
            "type": "scatterpolargl"
           }
          ],
          "scatterternary": [
           {
            "marker": {
             "colorbar": {
              "outlinewidth": 0,
              "ticks": ""
             }
            },
            "type": "scatterternary"
           }
          ],
          "surface": [
           {
            "colorbar": {
             "outlinewidth": 0,
             "ticks": ""
            },
            "colorscale": [
             [
              0,
              "#0d0887"
             ],
             [
              0.1111111111111111,
              "#46039f"
             ],
             [
              0.2222222222222222,
              "#7201a8"
             ],
             [
              0.3333333333333333,
              "#9c179e"
             ],
             [
              0.4444444444444444,
              "#bd3786"
             ],
             [
              0.5555555555555556,
              "#d8576b"
             ],
             [
              0.6666666666666666,
              "#ed7953"
             ],
             [
              0.7777777777777778,
              "#fb9f3a"
             ],
             [
              0.8888888888888888,
              "#fdca26"
             ],
             [
              1,
              "#f0f921"
             ]
            ],
            "type": "surface"
           }
          ],
          "table": [
           {
            "cells": {
             "fill": {
              "color": "#EBF0F8"
             },
             "line": {
              "color": "white"
             }
            },
            "header": {
             "fill": {
              "color": "#C8D4E3"
             },
             "line": {
              "color": "white"
             }
            },
            "type": "table"
           }
          ]
         },
         "layout": {
          "annotationdefaults": {
           "arrowcolor": "#2a3f5f",
           "arrowhead": 0,
           "arrowwidth": 1
          },
          "autotypenumbers": "strict",
          "coloraxis": {
           "colorbar": {
            "outlinewidth": 0,
            "ticks": ""
           }
          },
          "colorscale": {
           "diverging": [
            [
             0,
             "#8e0152"
            ],
            [
             0.1,
             "#c51b7d"
            ],
            [
             0.2,
             "#de77ae"
            ],
            [
             0.3,
             "#f1b6da"
            ],
            [
             0.4,
             "#fde0ef"
            ],
            [
             0.5,
             "#f7f7f7"
            ],
            [
             0.6,
             "#e6f5d0"
            ],
            [
             0.7,
             "#b8e186"
            ],
            [
             0.8,
             "#7fbc41"
            ],
            [
             0.9,
             "#4d9221"
            ],
            [
             1,
             "#276419"
            ]
           ],
           "sequential": [
            [
             0,
             "#0d0887"
            ],
            [
             0.1111111111111111,
             "#46039f"
            ],
            [
             0.2222222222222222,
             "#7201a8"
            ],
            [
             0.3333333333333333,
             "#9c179e"
            ],
            [
             0.4444444444444444,
             "#bd3786"
            ],
            [
             0.5555555555555556,
             "#d8576b"
            ],
            [
             0.6666666666666666,
             "#ed7953"
            ],
            [
             0.7777777777777778,
             "#fb9f3a"
            ],
            [
             0.8888888888888888,
             "#fdca26"
            ],
            [
             1,
             "#f0f921"
            ]
           ],
           "sequentialminus": [
            [
             0,
             "#0d0887"
            ],
            [
             0.1111111111111111,
             "#46039f"
            ],
            [
             0.2222222222222222,
             "#7201a8"
            ],
            [
             0.3333333333333333,
             "#9c179e"
            ],
            [
             0.4444444444444444,
             "#bd3786"
            ],
            [
             0.5555555555555556,
             "#d8576b"
            ],
            [
             0.6666666666666666,
             "#ed7953"
            ],
            [
             0.7777777777777778,
             "#fb9f3a"
            ],
            [
             0.8888888888888888,
             "#fdca26"
            ],
            [
             1,
             "#f0f921"
            ]
           ]
          },
          "colorway": [
           "#636efa",
           "#EF553B",
           "#00cc96",
           "#ab63fa",
           "#FFA15A",
           "#19d3f3",
           "#FF6692",
           "#B6E880",
           "#FF97FF",
           "#FECB52"
          ],
          "font": {
           "color": "#2a3f5f"
          },
          "geo": {
           "bgcolor": "white",
           "lakecolor": "white",
           "landcolor": "#E5ECF6",
           "showlakes": true,
           "showland": true,
           "subunitcolor": "white"
          },
          "hoverlabel": {
           "align": "left"
          },
          "hovermode": "closest",
          "mapbox": {
           "style": "light"
          },
          "paper_bgcolor": "white",
          "plot_bgcolor": "#E5ECF6",
          "polar": {
           "angularaxis": {
            "gridcolor": "white",
            "linecolor": "white",
            "ticks": ""
           },
           "bgcolor": "#E5ECF6",
           "radialaxis": {
            "gridcolor": "white",
            "linecolor": "white",
            "ticks": ""
           }
          },
          "scene": {
           "xaxis": {
            "backgroundcolor": "#E5ECF6",
            "gridcolor": "white",
            "gridwidth": 2,
            "linecolor": "white",
            "showbackground": true,
            "ticks": "",
            "zerolinecolor": "white"
           },
           "yaxis": {
            "backgroundcolor": "#E5ECF6",
            "gridcolor": "white",
            "gridwidth": 2,
            "linecolor": "white",
            "showbackground": true,
            "ticks": "",
            "zerolinecolor": "white"
           },
           "zaxis": {
            "backgroundcolor": "#E5ECF6",
            "gridcolor": "white",
            "gridwidth": 2,
            "linecolor": "white",
            "showbackground": true,
            "ticks": "",
            "zerolinecolor": "white"
           }
          },
          "shapedefaults": {
           "line": {
            "color": "#2a3f5f"
           }
          },
          "ternary": {
           "aaxis": {
            "gridcolor": "white",
            "linecolor": "white",
            "ticks": ""
           },
           "baxis": {
            "gridcolor": "white",
            "linecolor": "white",
            "ticks": ""
           },
           "bgcolor": "#E5ECF6",
           "caxis": {
            "gridcolor": "white",
            "linecolor": "white",
            "ticks": ""
           }
          },
          "title": {
           "x": 0.05
          },
          "xaxis": {
           "automargin": true,
           "gridcolor": "white",
           "linecolor": "white",
           "ticks": "",
           "title": {
            "standoff": 15
           },
           "zerolinecolor": "white",
           "zerolinewidth": 2
          },
          "yaxis": {
           "automargin": true,
           "gridcolor": "white",
           "linecolor": "white",
           "ticks": "",
           "title": {
            "standoff": 15
           },
           "zerolinecolor": "white",
           "zerolinewidth": 2
          }
         }
        },
        "title": {
         "text": "Relationship between Weight and Fuel Consumption"
        },
        "xaxis": {
         "anchor": "y",
         "domain": [
          0,
          1
         ],
         "title": {
          "text": "Weight"
         }
        },
        "yaxis": {
         "anchor": "x",
         "domain": [
          0,
          1
         ],
         "title": {
          "text": "Fuel Consumption (l/10km)"
         }
        }
       }
      }
     },
     "metadata": {},
     "output_type": "display_data"
    }
   ],
   "source": [
    "# Plot the relationship between weight and fuel consumption globally\n",
    "fig = px.scatter(cars, x=\"weight\", y=\"l/10km\", trendline=\"ols\", title=\"Relationship between Weight and Fuel Consumption\")\n",
    "fig.update_traces(marker=dict(size=8, opacity=0.8))\n",
    "fig.update_layout(\n",
    "    xaxis_title=\"Weight\",\n",
    "    yaxis_title=\"Fuel Consumption (l/10km)\",\n",
    "    font=dict(\n",
    "        family=\"Arial\",\n",
    "        size=14,\n",
    "        color=\"black\"\n",
    "    ),\n",
    "    height=600\n",
    ")\n",
    "fig.show()"
   ]
  },
  {
   "cell_type": "markdown",
   "metadata": {},
   "source": [
    "At first glance, this seems to be correlating well globally, with no weird clusters or such.  \n",
    "\n",
    "But how about the relation to horse powers? "
   ]
  },
  {
   "cell_type": "code",
   "execution_count": 42,
   "metadata": {},
   "outputs": [
    {
     "data": {
      "application/vnd.plotly.v1+json": {
       "config": {
        "plotlyServerURL": "https://plot.ly"
       },
       "data": [
        {
         "hovertemplate": "horsepower=%{x}<br>l/10km=%{y}<extra></extra>",
         "legendgroup": "",
         "marker": {
          "color": "#636efa",
          "opacity": 0.8,
          "size": 8,
          "symbol": "circle"
         },
         "mode": "markers",
         "name": "",
         "orientation": "v",
         "showlegend": false,
         "type": "scatter",
         "x": [
          130,
          165,
          150,
          150,
          140,
          198,
          220,
          215,
          225,
          190,
          170,
          160,
          150,
          225,
          95,
          95,
          97,
          85,
          88,
          46,
          87,
          90,
          95,
          113,
          90,
          215,
          200,
          210,
          193,
          88,
          90,
          95,
          100,
          105,
          100,
          88,
          100,
          165,
          175,
          153,
          150,
          180,
          170,
          175,
          110,
          72,
          100,
          88,
          86,
          90,
          70,
          76,
          65,
          69,
          60,
          70,
          95,
          80,
          54,
          90,
          86,
          165,
          175,
          150,
          153,
          150,
          208,
          155,
          160,
          190,
          97,
          150,
          130,
          140,
          150,
          112,
          76,
          87,
          69,
          86,
          92,
          97,
          80,
          88,
          175,
          150,
          145,
          137,
          150,
          198,
          150,
          158,
          150,
          215,
          225,
          175,
          105,
          100,
          100,
          88,
          95,
          46,
          150,
          167,
          170,
          180,
          100,
          88,
          72,
          94,
          90,
          85,
          107,
          90,
          145,
          230,
          49,
          75,
          91,
          112,
          150,
          110,
          122,
          180,
          95,
          100,
          100,
          67,
          80,
          65,
          75,
          100,
          110,
          105,
          140,
          150,
          150,
          140,
          150,
          83,
          67,
          78,
          52,
          61,
          75,
          75,
          75,
          97,
          93,
          67,
          95,
          105,
          72,
          72,
          170,
          145,
          150,
          148,
          110,
          105,
          110,
          95,
          110,
          110,
          129,
          75,
          83,
          100,
          78,
          96,
          71,
          97,
          97,
          70,
          90,
          95,
          88,
          98,
          115,
          53,
          86,
          81,
          92,
          79,
          83,
          140,
          150,
          120,
          152,
          100,
          105,
          81,
          90,
          52,
          60,
          70,
          53,
          100,
          78,
          110,
          95,
          71,
          70,
          75,
          72,
          102,
          150,
          88,
          108,
          120,
          180,
          145,
          130,
          150,
          68,
          80,
          58,
          96,
          70,
          145,
          110,
          145,
          130,
          110,
          105,
          100,
          98,
          180,
          170,
          190,
          149,
          78,
          88,
          75,
          89,
          63,
          83,
          67,
          78,
          97,
          110,
          110,
          48,
          66,
          52,
          70,
          60,
          110,
          140,
          139,
          105,
          95,
          85,
          88,
          100,
          90,
          105,
          85,
          110,
          120,
          145,
          165,
          139,
          140,
          68,
          95,
          97,
          75,
          95,
          105,
          85,
          97,
          103,
          125,
          115,
          133,
          71,
          68,
          115,
          85,
          88,
          90,
          110,
          130,
          129,
          138,
          135,
          155,
          142,
          125,
          150,
          71,
          65,
          80,
          80,
          77,
          125,
          71,
          90,
          70,
          70,
          65,
          69,
          90,
          115,
          115,
          90,
          76,
          60,
          70,
          65,
          90,
          88,
          90,
          90,
          78,
          90,
          75,
          92,
          75,
          65,
          105,
          65,
          48,
          48,
          67,
          67,
          67,
          67,
          62,
          132,
          100,
          88,
          72,
          84,
          84,
          92,
          110,
          84,
          58,
          64,
          60,
          67,
          65,
          62,
          68,
          63,
          65,
          65,
          74,
          75,
          75,
          100,
          74,
          80,
          76,
          116,
          120,
          110,
          105,
          88,
          85,
          88,
          88,
          88,
          85,
          84,
          90,
          92,
          74,
          68,
          68,
          63,
          70,
          88,
          75,
          70,
          67,
          67,
          67,
          110,
          85,
          92,
          112,
          96,
          84,
          90,
          86,
          52,
          84,
          79,
          82
         ],
         "xaxis": "x",
         "y": [
          1.30675,
          1.5681,
          1.30675,
          1.47009375,
          1.3836176470588235,
          1.5681,
          1.6801071428571428,
          1.6801071428571428,
          1.6801071428571428,
          1.5681,
          1.5681,
          1.6801071428571428,
          1.5681,
          1.6801071428571428,
          0.9800625,
          1.069159090909091,
          1.30675,
          1.1200714285714286,
          0.8711666666666666,
          0.9046730769230769,
          0.94086,
          0.9800625,
          0.94086,
          0.9046730769230769,
          1.1200714285714286,
          2.35215,
          2.35215,
          2.138318181818182,
          2.6135,
          0.8711666666666666,
          0.8400535714285714,
          0.94086,
          1.2379736842105262,
          1.47009375,
          1.3836176470588235,
          1.2379736842105262,
          1.30675,
          1.6801071428571428,
          1.6801071428571428,
          1.6801071428571428,
          1.6801071428571428,
          1.960125,
          1.8093461538461537,
          1.8093461538461537,
          1.30675,
          1.069159090909091,
          1.2379736842105262,
          1.30675,
          1.0226739130434783,
          0.8400535714285714,
          0.78405,
          0.78405,
          0.758758064516129,
          0.6720428571428572,
          0.8711666666666666,
          0.9046730769230769,
          0.9800625,
          0.94086,
          1.0226739130434783,
          1.176075,
          1.1200714285714286,
          1.8093461538461537,
          1.6801071428571428,
          1.5681,
          1.6801071428571428,
          1.3836176470588235,
          2.138318181818182,
          1.8093461538461537,
          1.960125,
          1.8093461538461537,
          1.2379736842105262,
          1.5681,
          1.8093461538461537,
          1.8093461538461537,
          1.6801071428571428,
          1.30675,
          1.069159090909091,
          1.1200714285714286,
          0.9046730769230769,
          1.069159090909091,
          0.8400535714285714,
          1.0226739130434783,
          0.8400535714285714,
          0.8711666666666666,
          1.8093461538461537,
          1.6801071428571428,
          1.8093461538461537,
          1.6801071428571428,
          1.5681,
          1.960125,
          1.8093461538461537,
          1.8093461538461537,
          1.6801071428571428,
          1.8093461538461537,
          1.960125,
          1.8093461538461537,
          1.30675,
          1.47009375,
          1.30675,
          1.30675,
          1.0226739130434783,
          0.9046730769230769,
          2.138318181818182,
          1.960125,
          1.8093461538461537,
          1.960125,
          1.30675,
          1.176075,
          1.1200714285714286,
          1.069159090909091,
          1.30675,
          1.2379736842105262,
          1.1200714285714286,
          0.9046730769230769,
          1.5681,
          1.47009375,
          0.8110862068965518,
          0.9800625,
          1.176075,
          1.2379736842105262,
          1.5681,
          0.9800625,
          1.176075,
          2.138318181818182,
          1.176075,
          1.2379736842105262,
          1.5681,
          0.758758064516129,
          0.9046730769230769,
          0.735046875,
          0.94086,
          1.47009375,
          1.47009375,
          1.30675,
          1.47009375,
          1.8093461538461537,
          1.6801071428571428,
          1.6801071428571428,
          1.6801071428571428,
          0.8110862068965518,
          0.9046730769230769,
          0.9046730769230769,
          0.758758064516129,
          0.735046875,
          0.8400535714285714,
          0.9800625,
          0.9046730769230769,
          0.9800625,
          0.9046730769230769,
          0.758758064516129,
          1.2379736842105262,
          1.30675,
          1.5681,
          1.5681,
          1.47009375,
          1.5681,
          1.47009375,
          1.6801071428571428,
          1.3836176470588235,
          1.47009375,
          1.5681,
          1.30675,
          1.1200714285714286,
          1.176075,
          1.8093461538461537,
          0.8110862068965518,
          1.0226739130434783,
          1.176075,
          1.0226739130434783,
          0.9800625,
          0.94086,
          0.9800625,
          1.30675,
          0.8110862068965518,
          1.2379736842105262,
          1.0226739130434783,
          1.0226739130434783,
          1.069159090909091,
          0.94086,
          0.7127727272727272,
          0.8400535714285714,
          0.94086,
          0.94086,
          0.9046730769230769,
          0.8711666666666666,
          1.3440857142857143,
          1.47009375,
          1.517516129032258,
          1.6221724137931035,
          1.069159090909091,
          1.069159090909091,
          0.9800625,
          1.0453999999999999,
          0.8110862068965518,
          0.9600612244897959,
          0.8110862068965518,
          0.7127727272727272,
          1.176075,
          1.30675,
          1.2714324324324324,
          1.3440857142857143,
          0.7973389830508475,
          0.735046875,
          0.8400535714285714,
          0.8876037735849056,
          1.176075,
          1.8093461538461537,
          1.2379736842105262,
          1.2379736842105262,
          1.4255454545454544,
          1.4255454545454544,
          1.8093461538461537,
          1.8093461538461537,
          1.8093461538461537,
          0.7467142857142857,
          0.78405,
          0.653375,
          0.9224117647058824,
          0.702134328358209,
          1.3440857142857143,
          1.3836176470588235,
          1.517516129032258,
          1.5681,
          1.3440857142857143,
          1.147390243902439,
          1.2379736842105262,
          1.2714324324324324,
          1.47009375,
          1.517516129032258,
          1.517516129032258,
          1.47009375,
          0.8110862068965518,
          0.9600612244897959,
          0.9046730769230769,
          0.9224117647058824,
          0.7711967213114754,
          0.702134328358209,
          0.78405,
          0.7711967213114754,
          1.069159090909091,
          1.0940232558139535,
          1.0940232558139535,
          0.5457424593967517,
          0.6515650969529085,
          0.7171189024390244,
          0.596992385786802,
          0.6515650969529085,
          1.1819849246231156,
          1.2124484536082476,
          1.164430693069307,
          1.225078125,
          1.147390243902439,
          1.164430693069307,
          0.9371115537848604,
          1.147390243902439,
          1.2124484536082476,
          1.1418203883495144,
          1.130841346153846,
          1.2645967741935482,
          1.2995303867403314,
          1.225078125,
          1.3288983050847458,
          1.2995303867403314,
          1.3440857142857143,
          0.78405,
          0.8553272727272727,
          0.8647610294117647,
          0.7612135922330098,
          1.1147630331753553,
          1.0138577586206896,
          0.988298319327731,
          0.9841631799163181,
          1.158694581280788,
          1.3836176470588235,
          1.0889583333333333,
          1.4519444444444445,
          0.7467142857142857,
          0.7973389830508475,
          1.0940232558139535,
          1.1879545454545455,
          1.0547757847533632,
          1.164430693069307,
          1.1418203883495144,
          1.3836176470588235,
          1.3364488636363636,
          1.4255454545454544,
          1.2923901098901098,
          1.3918047337278108,
          1.517516129032258,
          1.225078125,
          1.2714324324324324,
          0.7373510971786834,
          0.6897800586510263,
          0.6588655462184874,
          0.8584489051094891,
          0.9260433070866142,
          1.0226739130434783,
          0.8647610294117647,
          0.9841631799163181,
          0.6877631578947367,
          0.6817826086956522,
          0.7396698113207547,
          0.630603217158177,
          0.8282218309859155,
          0.8167187499999999,
          0.8776679104477612,
          0.702134328358209,
          0.5667831325301205,
          0.6173622047244094,
          0.7327570093457944,
          0.6322983870967741,
          0.8400535714285714,
          0.8909659090909091,
          0.9679629629629629,
          1.2314921465968585,
          0.6857580174927114,
          0.7893120805369127,
          0.7514856230031949,
          0.6357162162162162,
          0.7304813664596272,
          0.5047532188841202,
          0.8430645161290323,
          0.5765073529411765,
          0.530959367945824,
          0.5419700460829493,
          0.6461950549450549,
          0.78405,
          0.5273878923766816,
          0.6959023668639054,
          0.7893120805369127,
          0.7193119266055045,
          0.9924683544303797,
          0.6720428571428572,
          0.7259722222222222,
          0.8647610294117647,
          0.884266917293233,
          0.9116860465116279,
          1.0009148936170214,
          0.78405,
          0.6015728900255755,
          0.6031153846153846,
          0.6701282051282051,
          0.7282198142414861,
          0.6357162162162162,
          0.6239124668435013,
          0.6897800586510263,
          0.6778530259365994,
          0.6837645348837209,
          0.7866722408026756,
          0.7127727272727272,
          0.697967359050445,
          0.7259722222222222,
          0.7149392097264438,
          0.7443512658227848,
          0.8370640569395017,
          0.7661726384364821,
          0.9260433070866142,
          0.9719628099173554,
          1.0500669642857143,
          0.884266917293233,
          1.164430693069307,
          1.3364488636363636,
          0.8400535714285714,
          0.8711666666666666,
          0.6918088235294118,
          0.758758064516129,
          0.8110862068965518,
          0.8711666666666666,
          0.9800625,
          0.653375,
          0.6357162162162162,
          0.758758064516129,
          0.6189868421052631,
          0.653375,
          0.653375,
          0.653375,
          0.6918088235294118,
          0.6189868421052631,
          0.735046875,
          0.6189868421052631,
          0.94086,
          0.6189868421052631,
          0.9046730769230769,
          1.069159090909091,
          0.735046875,
          0.653375,
          0.8711666666666666,
          0.8711666666666666,
          0.5345795454545454,
          0.735046875,
          0.8400535714285714,
          0.758758064516129
         ],
         "yaxis": "y"
        },
        {
         "hovertemplate": "<b>OLS trendline</b><br>l/10km = 0.00869184 * horsepower + 0.216824<br>R<sup>2</sup>=0.730698<br><br>horsepower=%{x}<br>l/10km=%{y} <b>(trend)</b><extra></extra>",
         "legendgroup": "",
         "marker": {
          "color": "#636efa",
          "opacity": 0.8,
          "size": 8,
          "symbol": "circle"
         },
         "mode": "lines",
         "name": "",
         "showlegend": false,
         "type": "scatter",
         "x": [
          46,
          46,
          48,
          48,
          48,
          49,
          52,
          52,
          52,
          52,
          53,
          53,
          54,
          58,
          58,
          60,
          60,
          60,
          60,
          60,
          61,
          62,
          62,
          63,
          63,
          63,
          64,
          65,
          65,
          65,
          65,
          65,
          65,
          65,
          65,
          65,
          65,
          66,
          67,
          67,
          67,
          67,
          67,
          67,
          67,
          67,
          67,
          67,
          67,
          67,
          68,
          68,
          68,
          68,
          68,
          68,
          69,
          69,
          69,
          70,
          70,
          70,
          70,
          70,
          70,
          70,
          70,
          70,
          70,
          70,
          70,
          71,
          71,
          71,
          71,
          71,
          72,
          72,
          72,
          72,
          72,
          72,
          74,
          74,
          74,
          75,
          75,
          75,
          75,
          75,
          75,
          75,
          75,
          75,
          75,
          75,
          75,
          75,
          75,
          76,
          76,
          76,
          76,
          77,
          78,
          78,
          78,
          78,
          78,
          78,
          79,
          79,
          80,
          80,
          80,
          80,
          80,
          80,
          80,
          81,
          81,
          82,
          83,
          83,
          83,
          83,
          84,
          84,
          84,
          84,
          84,
          84,
          85,
          85,
          85,
          85,
          85,
          85,
          85,
          85,
          85,
          86,
          86,
          86,
          86,
          86,
          87,
          87,
          88,
          88,
          88,
          88,
          88,
          88,
          88,
          88,
          88,
          88,
          88,
          88,
          88,
          88,
          88,
          88,
          88,
          88,
          88,
          89,
          90,
          90,
          90,
          90,
          90,
          90,
          90,
          90,
          90,
          90,
          90,
          90,
          90,
          90,
          90,
          90,
          90,
          90,
          90,
          90,
          91,
          92,
          92,
          92,
          92,
          92,
          92,
          93,
          94,
          95,
          95,
          95,
          95,
          95,
          95,
          95,
          95,
          95,
          95,
          95,
          95,
          95,
          95,
          96,
          96,
          96,
          97,
          97,
          97,
          97,
          97,
          97,
          97,
          97,
          97,
          98,
          98,
          100,
          100,
          100,
          100,
          100,
          100,
          100,
          100,
          100,
          100,
          100,
          100,
          100,
          100,
          100,
          100,
          100,
          102,
          103,
          105,
          105,
          105,
          105,
          105,
          105,
          105,
          105,
          105,
          105,
          105,
          105,
          107,
          108,
          110,
          110,
          110,
          110,
          110,
          110,
          110,
          110,
          110,
          110,
          110,
          110,
          110,
          110,
          110,
          110,
          110,
          110,
          112,
          112,
          112,
          113,
          115,
          115,
          115,
          115,
          115,
          116,
          120,
          120,
          120,
          120,
          122,
          125,
          125,
          125,
          129,
          129,
          130,
          130,
          130,
          130,
          130,
          132,
          133,
          135,
          137,
          138,
          139,
          139,
          140,
          140,
          140,
          140,
          140,
          140,
          140,
          142,
          145,
          145,
          145,
          145,
          145,
          145,
          145,
          148,
          149,
          150,
          150,
          150,
          150,
          150,
          150,
          150,
          150,
          150,
          150,
          150,
          150,
          150,
          150,
          150,
          150,
          150,
          150,
          150,
          150,
          150,
          150,
          152,
          153,
          153,
          155,
          155,
          158,
          160,
          160,
          165,
          165,
          165,
          165,
          167,
          170,
          170,
          170,
          170,
          170,
          175,
          175,
          175,
          175,
          175,
          180,
          180,
          180,
          180,
          180,
          190,
          190,
          190,
          193,
          198,
          198,
          200,
          208,
          210,
          215,
          215,
          215,
          220,
          225,
          225,
          225,
          230
         ],
         "xaxis": "x",
         "y": [
          0.6166489090642016,
          0.6166489090642016,
          0.6340325810404074,
          0.6340325810404074,
          0.6340325810404074,
          0.6427244170285104,
          0.6687999249928192,
          0.6687999249928192,
          0.6687999249928192,
          0.6687999249928192,
          0.6774917609809221,
          0.6774917609809221,
          0.6861835969690251,
          0.7209509409214369,
          0.7209509409214369,
          0.7383346128976427,
          0.7383346128976427,
          0.7383346128976427,
          0.7383346128976427,
          0.7383346128976427,
          0.7470264488857457,
          0.7557182848738485,
          0.7557182848738485,
          0.7644101208619515,
          0.7644101208619515,
          0.7644101208619515,
          0.7731019568500545,
          0.7817937928381574,
          0.7817937928381574,
          0.7817937928381574,
          0.7817937928381574,
          0.7817937928381574,
          0.7817937928381574,
          0.7817937928381574,
          0.7817937928381574,
          0.7817937928381574,
          0.7817937928381574,
          0.7904856288262604,
          0.7991774648143632,
          0.7991774648143632,
          0.7991774648143632,
          0.7991774648143632,
          0.7991774648143632,
          0.7991774648143632,
          0.7991774648143632,
          0.7991774648143632,
          0.7991774648143632,
          0.7991774648143632,
          0.7991774648143632,
          0.7991774648143632,
          0.8078693008024662,
          0.8078693008024662,
          0.8078693008024662,
          0.8078693008024662,
          0.8078693008024662,
          0.8078693008024662,
          0.8165611367905692,
          0.8165611367905692,
          0.8165611367905692,
          0.825252972778672,
          0.825252972778672,
          0.825252972778672,
          0.825252972778672,
          0.825252972778672,
          0.825252972778672,
          0.825252972778672,
          0.825252972778672,
          0.825252972778672,
          0.825252972778672,
          0.825252972778672,
          0.825252972778672,
          0.833944808766775,
          0.833944808766775,
          0.833944808766775,
          0.833944808766775,
          0.833944808766775,
          0.842636644754878,
          0.842636644754878,
          0.842636644754878,
          0.842636644754878,
          0.842636644754878,
          0.842636644754878,
          0.8600203167310839,
          0.8600203167310839,
          0.8600203167310839,
          0.8687121527191868,
          0.8687121527191868,
          0.8687121527191868,
          0.8687121527191868,
          0.8687121527191868,
          0.8687121527191868,
          0.8687121527191868,
          0.8687121527191868,
          0.8687121527191868,
          0.8687121527191868,
          0.8687121527191868,
          0.8687121527191868,
          0.8687121527191868,
          0.8687121527191868,
          0.8774039887072898,
          0.8774039887072898,
          0.8774039887072898,
          0.8774039887072898,
          0.8860958246953927,
          0.8947876606834956,
          0.8947876606834956,
          0.8947876606834956,
          0.8947876606834956,
          0.8947876606834956,
          0.8947876606834956,
          0.9034794966715985,
          0.9034794966715985,
          0.9121713326597015,
          0.9121713326597015,
          0.9121713326597015,
          0.9121713326597015,
          0.9121713326597015,
          0.9121713326597015,
          0.9121713326597015,
          0.9208631686478045,
          0.9208631686478045,
          0.9295550046359075,
          0.9382468406240103,
          0.9382468406240103,
          0.9382468406240103,
          0.9382468406240103,
          0.9469386766121133,
          0.9469386766121133,
          0.9469386766121133,
          0.9469386766121133,
          0.9469386766121133,
          0.9469386766121133,
          0.9556305126002163,
          0.9556305126002163,
          0.9556305126002163,
          0.9556305126002163,
          0.9556305126002163,
          0.9556305126002163,
          0.9556305126002163,
          0.9556305126002163,
          0.9556305126002163,
          0.9643223485883191,
          0.9643223485883191,
          0.9643223485883191,
          0.9643223485883191,
          0.9643223485883191,
          0.9730141845764221,
          0.9730141845764221,
          0.981706020564525,
          0.981706020564525,
          0.981706020564525,
          0.981706020564525,
          0.981706020564525,
          0.981706020564525,
          0.981706020564525,
          0.981706020564525,
          0.981706020564525,
          0.981706020564525,
          0.981706020564525,
          0.981706020564525,
          0.981706020564525,
          0.981706020564525,
          0.981706020564525,
          0.981706020564525,
          0.981706020564525,
          0.981706020564525,
          0.981706020564525,
          0.990397856552628,
          0.999089692540731,
          0.999089692540731,
          0.999089692540731,
          0.999089692540731,
          0.999089692540731,
          0.999089692540731,
          0.999089692540731,
          0.999089692540731,
          0.999089692540731,
          0.999089692540731,
          0.999089692540731,
          0.999089692540731,
          0.999089692540731,
          0.999089692540731,
          0.999089692540731,
          0.999089692540731,
          0.999089692540731,
          0.999089692540731,
          0.999089692540731,
          0.999089692540731,
          1.0077815285288338,
          1.0164733645169368,
          1.0164733645169368,
          1.0164733645169368,
          1.0164733645169368,
          1.0164733645169368,
          1.0164733645169368,
          1.0251652005050398,
          1.0338570364931425,
          1.0425488724812455,
          1.0425488724812455,
          1.0425488724812455,
          1.0425488724812455,
          1.0425488724812455,
          1.0425488724812455,
          1.0425488724812455,
          1.0425488724812455,
          1.0425488724812455,
          1.0425488724812455,
          1.0425488724812455,
          1.0425488724812455,
          1.0425488724812455,
          1.0425488724812455,
          1.0512407084693485,
          1.0512407084693485,
          1.0512407084693485,
          1.0599325444574514,
          1.0599325444574514,
          1.0599325444574514,
          1.0599325444574514,
          1.0599325444574514,
          1.0599325444574514,
          1.0599325444574514,
          1.0599325444574514,
          1.0599325444574514,
          1.0686243804455544,
          1.0686243804455544,
          1.0860080524217604,
          1.0860080524217604,
          1.0860080524217604,
          1.0860080524217604,
          1.0860080524217604,
          1.0860080524217604,
          1.0860080524217604,
          1.0860080524217604,
          1.0860080524217604,
          1.0860080524217604,
          1.0860080524217604,
          1.0860080524217604,
          1.0860080524217604,
          1.0860080524217604,
          1.0860080524217604,
          1.0860080524217604,
          1.0860080524217604,
          1.1033917243979663,
          1.1120835603860693,
          1.1294672323622752,
          1.1294672323622752,
          1.1294672323622752,
          1.1294672323622752,
          1.1294672323622752,
          1.1294672323622752,
          1.1294672323622752,
          1.1294672323622752,
          1.1294672323622752,
          1.1294672323622752,
          1.1294672323622752,
          1.1294672323622752,
          1.146850904338481,
          1.1555427403265839,
          1.1729264123027896,
          1.1729264123027896,
          1.1729264123027896,
          1.1729264123027896,
          1.1729264123027896,
          1.1729264123027896,
          1.1729264123027896,
          1.1729264123027896,
          1.1729264123027896,
          1.1729264123027896,
          1.1729264123027896,
          1.1729264123027896,
          1.1729264123027896,
          1.1729264123027896,
          1.1729264123027896,
          1.1729264123027896,
          1.1729264123027896,
          1.1729264123027896,
          1.1903100842789955,
          1.1903100842789955,
          1.1903100842789955,
          1.1990019202670985,
          1.2163855922433044,
          1.2163855922433044,
          1.2163855922433044,
          1.2163855922433044,
          1.2163855922433044,
          1.2250774282314074,
          1.2598447721838193,
          1.2598447721838193,
          1.2598447721838193,
          1.2598447721838193,
          1.2772284441600252,
          1.3033039521243337,
          1.3033039521243337,
          1.3033039521243337,
          1.3380712960767456,
          1.3380712960767456,
          1.3467631320648485,
          1.3467631320648485,
          1.3467631320648485,
          1.3467631320648485,
          1.3467631320648485,
          1.3641468040410545,
          1.3728386400291575,
          1.3902223120053634,
          1.4076059839815693,
          1.4162978199696723,
          1.4249896559577753,
          1.4249896559577753,
          1.4336814919458778,
          1.4336814919458778,
          1.4336814919458778,
          1.4336814919458778,
          1.4336814919458778,
          1.4336814919458778,
          1.4336814919458778,
          1.4510651639220837,
          1.4771406718863926,
          1.4771406718863926,
          1.4771406718863926,
          1.4771406718863926,
          1.4771406718863926,
          1.4771406718863926,
          1.4771406718863926,
          1.5032161798507016,
          1.5119080158388045,
          1.5205998518269075,
          1.5205998518269075,
          1.5205998518269075,
          1.5205998518269075,
          1.5205998518269075,
          1.5205998518269075,
          1.5205998518269075,
          1.5205998518269075,
          1.5205998518269075,
          1.5205998518269075,
          1.5205998518269075,
          1.5205998518269075,
          1.5205998518269075,
          1.5205998518269075,
          1.5205998518269075,
          1.5205998518269075,
          1.5205998518269075,
          1.5205998518269075,
          1.5205998518269075,
          1.5205998518269075,
          1.5205998518269075,
          1.5205998518269075,
          1.5379835238031134,
          1.5466753597912164,
          1.5466753597912164,
          1.5640590317674223,
          1.5640590317674223,
          1.5901345397317308,
          1.6075182117079367,
          1.6075182117079367,
          1.6509773916484516,
          1.6509773916484516,
          1.6509773916484516,
          1.6509773916484516,
          1.6683610636246575,
          1.6944365715889664,
          1.6944365715889664,
          1.6944365715889664,
          1.6944365715889664,
          1.6944365715889664,
          1.7378957515294808,
          1.7378957515294808,
          1.7378957515294808,
          1.7378957515294808,
          1.7378957515294808,
          1.7813549314699957,
          1.7813549314699957,
          1.7813549314699957,
          1.7813549314699957,
          1.7813549314699957,
          1.868273291351025,
          1.868273291351025,
          1.868273291351025,
          1.8943487993153338,
          1.9378079792558487,
          1.9378079792558487,
          1.9551916512320546,
          2.024726339136878,
          2.042110011113084,
          2.0855691910535987,
          2.0855691910535987,
          2.0855691910535987,
          2.129028370994113,
          2.172487550934628,
          2.172487550934628,
          2.172487550934628,
          2.215946730875143
         ],
         "yaxis": "y"
        }
       ],
       "layout": {
        "font": {
         "color": "black",
         "family": "Arial",
         "size": 14
        },
        "height": 600,
        "legend": {
         "tracegroupgap": 0
        },
        "template": {
         "data": {
          "bar": [
           {
            "error_x": {
             "color": "#2a3f5f"
            },
            "error_y": {
             "color": "#2a3f5f"
            },
            "marker": {
             "line": {
              "color": "#E5ECF6",
              "width": 0.5
             },
             "pattern": {
              "fillmode": "overlay",
              "size": 10,
              "solidity": 0.2
             }
            },
            "type": "bar"
           }
          ],
          "barpolar": [
           {
            "marker": {
             "line": {
              "color": "#E5ECF6",
              "width": 0.5
             },
             "pattern": {
              "fillmode": "overlay",
              "size": 10,
              "solidity": 0.2
             }
            },
            "type": "barpolar"
           }
          ],
          "carpet": [
           {
            "aaxis": {
             "endlinecolor": "#2a3f5f",
             "gridcolor": "white",
             "linecolor": "white",
             "minorgridcolor": "white",
             "startlinecolor": "#2a3f5f"
            },
            "baxis": {
             "endlinecolor": "#2a3f5f",
             "gridcolor": "white",
             "linecolor": "white",
             "minorgridcolor": "white",
             "startlinecolor": "#2a3f5f"
            },
            "type": "carpet"
           }
          ],
          "choropleth": [
           {
            "colorbar": {
             "outlinewidth": 0,
             "ticks": ""
            },
            "type": "choropleth"
           }
          ],
          "contour": [
           {
            "colorbar": {
             "outlinewidth": 0,
             "ticks": ""
            },
            "colorscale": [
             [
              0,
              "#0d0887"
             ],
             [
              0.1111111111111111,
              "#46039f"
             ],
             [
              0.2222222222222222,
              "#7201a8"
             ],
             [
              0.3333333333333333,
              "#9c179e"
             ],
             [
              0.4444444444444444,
              "#bd3786"
             ],
             [
              0.5555555555555556,
              "#d8576b"
             ],
             [
              0.6666666666666666,
              "#ed7953"
             ],
             [
              0.7777777777777778,
              "#fb9f3a"
             ],
             [
              0.8888888888888888,
              "#fdca26"
             ],
             [
              1,
              "#f0f921"
             ]
            ],
            "type": "contour"
           }
          ],
          "contourcarpet": [
           {
            "colorbar": {
             "outlinewidth": 0,
             "ticks": ""
            },
            "type": "contourcarpet"
           }
          ],
          "heatmap": [
           {
            "colorbar": {
             "outlinewidth": 0,
             "ticks": ""
            },
            "colorscale": [
             [
              0,
              "#0d0887"
             ],
             [
              0.1111111111111111,
              "#46039f"
             ],
             [
              0.2222222222222222,
              "#7201a8"
             ],
             [
              0.3333333333333333,
              "#9c179e"
             ],
             [
              0.4444444444444444,
              "#bd3786"
             ],
             [
              0.5555555555555556,
              "#d8576b"
             ],
             [
              0.6666666666666666,
              "#ed7953"
             ],
             [
              0.7777777777777778,
              "#fb9f3a"
             ],
             [
              0.8888888888888888,
              "#fdca26"
             ],
             [
              1,
              "#f0f921"
             ]
            ],
            "type": "heatmap"
           }
          ],
          "heatmapgl": [
           {
            "colorbar": {
             "outlinewidth": 0,
             "ticks": ""
            },
            "colorscale": [
             [
              0,
              "#0d0887"
             ],
             [
              0.1111111111111111,
              "#46039f"
             ],
             [
              0.2222222222222222,
              "#7201a8"
             ],
             [
              0.3333333333333333,
              "#9c179e"
             ],
             [
              0.4444444444444444,
              "#bd3786"
             ],
             [
              0.5555555555555556,
              "#d8576b"
             ],
             [
              0.6666666666666666,
              "#ed7953"
             ],
             [
              0.7777777777777778,
              "#fb9f3a"
             ],
             [
              0.8888888888888888,
              "#fdca26"
             ],
             [
              1,
              "#f0f921"
             ]
            ],
            "type": "heatmapgl"
           }
          ],
          "histogram": [
           {
            "marker": {
             "pattern": {
              "fillmode": "overlay",
              "size": 10,
              "solidity": 0.2
             }
            },
            "type": "histogram"
           }
          ],
          "histogram2d": [
           {
            "colorbar": {
             "outlinewidth": 0,
             "ticks": ""
            },
            "colorscale": [
             [
              0,
              "#0d0887"
             ],
             [
              0.1111111111111111,
              "#46039f"
             ],
             [
              0.2222222222222222,
              "#7201a8"
             ],
             [
              0.3333333333333333,
              "#9c179e"
             ],
             [
              0.4444444444444444,
              "#bd3786"
             ],
             [
              0.5555555555555556,
              "#d8576b"
             ],
             [
              0.6666666666666666,
              "#ed7953"
             ],
             [
              0.7777777777777778,
              "#fb9f3a"
             ],
             [
              0.8888888888888888,
              "#fdca26"
             ],
             [
              1,
              "#f0f921"
             ]
            ],
            "type": "histogram2d"
           }
          ],
          "histogram2dcontour": [
           {
            "colorbar": {
             "outlinewidth": 0,
             "ticks": ""
            },
            "colorscale": [
             [
              0,
              "#0d0887"
             ],
             [
              0.1111111111111111,
              "#46039f"
             ],
             [
              0.2222222222222222,
              "#7201a8"
             ],
             [
              0.3333333333333333,
              "#9c179e"
             ],
             [
              0.4444444444444444,
              "#bd3786"
             ],
             [
              0.5555555555555556,
              "#d8576b"
             ],
             [
              0.6666666666666666,
              "#ed7953"
             ],
             [
              0.7777777777777778,
              "#fb9f3a"
             ],
             [
              0.8888888888888888,
              "#fdca26"
             ],
             [
              1,
              "#f0f921"
             ]
            ],
            "type": "histogram2dcontour"
           }
          ],
          "mesh3d": [
           {
            "colorbar": {
             "outlinewidth": 0,
             "ticks": ""
            },
            "type": "mesh3d"
           }
          ],
          "parcoords": [
           {
            "line": {
             "colorbar": {
              "outlinewidth": 0,
              "ticks": ""
             }
            },
            "type": "parcoords"
           }
          ],
          "pie": [
           {
            "automargin": true,
            "type": "pie"
           }
          ],
          "scatter": [
           {
            "fillpattern": {
             "fillmode": "overlay",
             "size": 10,
             "solidity": 0.2
            },
            "type": "scatter"
           }
          ],
          "scatter3d": [
           {
            "line": {
             "colorbar": {
              "outlinewidth": 0,
              "ticks": ""
             }
            },
            "marker": {
             "colorbar": {
              "outlinewidth": 0,
              "ticks": ""
             }
            },
            "type": "scatter3d"
           }
          ],
          "scattercarpet": [
           {
            "marker": {
             "colorbar": {
              "outlinewidth": 0,
              "ticks": ""
             }
            },
            "type": "scattercarpet"
           }
          ],
          "scattergeo": [
           {
            "marker": {
             "colorbar": {
              "outlinewidth": 0,
              "ticks": ""
             }
            },
            "type": "scattergeo"
           }
          ],
          "scattergl": [
           {
            "marker": {
             "colorbar": {
              "outlinewidth": 0,
              "ticks": ""
             }
            },
            "type": "scattergl"
           }
          ],
          "scattermapbox": [
           {
            "marker": {
             "colorbar": {
              "outlinewidth": 0,
              "ticks": ""
             }
            },
            "type": "scattermapbox"
           }
          ],
          "scatterpolar": [
           {
            "marker": {
             "colorbar": {
              "outlinewidth": 0,
              "ticks": ""
             }
            },
            "type": "scatterpolar"
           }
          ],
          "scatterpolargl": [
           {
            "marker": {
             "colorbar": {
              "outlinewidth": 0,
              "ticks": ""
             }
            },
            "type": "scatterpolargl"
           }
          ],
          "scatterternary": [
           {
            "marker": {
             "colorbar": {
              "outlinewidth": 0,
              "ticks": ""
             }
            },
            "type": "scatterternary"
           }
          ],
          "surface": [
           {
            "colorbar": {
             "outlinewidth": 0,
             "ticks": ""
            },
            "colorscale": [
             [
              0,
              "#0d0887"
             ],
             [
              0.1111111111111111,
              "#46039f"
             ],
             [
              0.2222222222222222,
              "#7201a8"
             ],
             [
              0.3333333333333333,
              "#9c179e"
             ],
             [
              0.4444444444444444,
              "#bd3786"
             ],
             [
              0.5555555555555556,
              "#d8576b"
             ],
             [
              0.6666666666666666,
              "#ed7953"
             ],
             [
              0.7777777777777778,
              "#fb9f3a"
             ],
             [
              0.8888888888888888,
              "#fdca26"
             ],
             [
              1,
              "#f0f921"
             ]
            ],
            "type": "surface"
           }
          ],
          "table": [
           {
            "cells": {
             "fill": {
              "color": "#EBF0F8"
             },
             "line": {
              "color": "white"
             }
            },
            "header": {
             "fill": {
              "color": "#C8D4E3"
             },
             "line": {
              "color": "white"
             }
            },
            "type": "table"
           }
          ]
         },
         "layout": {
          "annotationdefaults": {
           "arrowcolor": "#2a3f5f",
           "arrowhead": 0,
           "arrowwidth": 1
          },
          "autotypenumbers": "strict",
          "coloraxis": {
           "colorbar": {
            "outlinewidth": 0,
            "ticks": ""
           }
          },
          "colorscale": {
           "diverging": [
            [
             0,
             "#8e0152"
            ],
            [
             0.1,
             "#c51b7d"
            ],
            [
             0.2,
             "#de77ae"
            ],
            [
             0.3,
             "#f1b6da"
            ],
            [
             0.4,
             "#fde0ef"
            ],
            [
             0.5,
             "#f7f7f7"
            ],
            [
             0.6,
             "#e6f5d0"
            ],
            [
             0.7,
             "#b8e186"
            ],
            [
             0.8,
             "#7fbc41"
            ],
            [
             0.9,
             "#4d9221"
            ],
            [
             1,
             "#276419"
            ]
           ],
           "sequential": [
            [
             0,
             "#0d0887"
            ],
            [
             0.1111111111111111,
             "#46039f"
            ],
            [
             0.2222222222222222,
             "#7201a8"
            ],
            [
             0.3333333333333333,
             "#9c179e"
            ],
            [
             0.4444444444444444,
             "#bd3786"
            ],
            [
             0.5555555555555556,
             "#d8576b"
            ],
            [
             0.6666666666666666,
             "#ed7953"
            ],
            [
             0.7777777777777778,
             "#fb9f3a"
            ],
            [
             0.8888888888888888,
             "#fdca26"
            ],
            [
             1,
             "#f0f921"
            ]
           ],
           "sequentialminus": [
            [
             0,
             "#0d0887"
            ],
            [
             0.1111111111111111,
             "#46039f"
            ],
            [
             0.2222222222222222,
             "#7201a8"
            ],
            [
             0.3333333333333333,
             "#9c179e"
            ],
            [
             0.4444444444444444,
             "#bd3786"
            ],
            [
             0.5555555555555556,
             "#d8576b"
            ],
            [
             0.6666666666666666,
             "#ed7953"
            ],
            [
             0.7777777777777778,
             "#fb9f3a"
            ],
            [
             0.8888888888888888,
             "#fdca26"
            ],
            [
             1,
             "#f0f921"
            ]
           ]
          },
          "colorway": [
           "#636efa",
           "#EF553B",
           "#00cc96",
           "#ab63fa",
           "#FFA15A",
           "#19d3f3",
           "#FF6692",
           "#B6E880",
           "#FF97FF",
           "#FECB52"
          ],
          "font": {
           "color": "#2a3f5f"
          },
          "geo": {
           "bgcolor": "white",
           "lakecolor": "white",
           "landcolor": "#E5ECF6",
           "showlakes": true,
           "showland": true,
           "subunitcolor": "white"
          },
          "hoverlabel": {
           "align": "left"
          },
          "hovermode": "closest",
          "mapbox": {
           "style": "light"
          },
          "paper_bgcolor": "white",
          "plot_bgcolor": "#E5ECF6",
          "polar": {
           "angularaxis": {
            "gridcolor": "white",
            "linecolor": "white",
            "ticks": ""
           },
           "bgcolor": "#E5ECF6",
           "radialaxis": {
            "gridcolor": "white",
            "linecolor": "white",
            "ticks": ""
           }
          },
          "scene": {
           "xaxis": {
            "backgroundcolor": "#E5ECF6",
            "gridcolor": "white",
            "gridwidth": 2,
            "linecolor": "white",
            "showbackground": true,
            "ticks": "",
            "zerolinecolor": "white"
           },
           "yaxis": {
            "backgroundcolor": "#E5ECF6",
            "gridcolor": "white",
            "gridwidth": 2,
            "linecolor": "white",
            "showbackground": true,
            "ticks": "",
            "zerolinecolor": "white"
           },
           "zaxis": {
            "backgroundcolor": "#E5ECF6",
            "gridcolor": "white",
            "gridwidth": 2,
            "linecolor": "white",
            "showbackground": true,
            "ticks": "",
            "zerolinecolor": "white"
           }
          },
          "shapedefaults": {
           "line": {
            "color": "#2a3f5f"
           }
          },
          "ternary": {
           "aaxis": {
            "gridcolor": "white",
            "linecolor": "white",
            "ticks": ""
           },
           "baxis": {
            "gridcolor": "white",
            "linecolor": "white",
            "ticks": ""
           },
           "bgcolor": "#E5ECF6",
           "caxis": {
            "gridcolor": "white",
            "linecolor": "white",
            "ticks": ""
           }
          },
          "title": {
           "x": 0.05
          },
          "xaxis": {
           "automargin": true,
           "gridcolor": "white",
           "linecolor": "white",
           "ticks": "",
           "title": {
            "standoff": 15
           },
           "zerolinecolor": "white",
           "zerolinewidth": 2
          },
          "yaxis": {
           "automargin": true,
           "gridcolor": "white",
           "linecolor": "white",
           "ticks": "",
           "title": {
            "standoff": 15
           },
           "zerolinecolor": "white",
           "zerolinewidth": 2
          }
         }
        },
        "title": {
         "text": "Relationship between Horse power and Fuel Consumption"
        },
        "xaxis": {
         "anchor": "y",
         "domain": [
          0,
          1
         ],
         "title": {
          "text": "Horse power"
         }
        },
        "yaxis": {
         "anchor": "x",
         "domain": [
          0,
          1
         ],
         "title": {
          "text": "Fuel Consumption (l/10km)"
         }
        }
       }
      }
     },
     "metadata": {},
     "output_type": "display_data"
    }
   ],
   "source": [
    "# Plot the relationship between horse power and fuel consumption \n",
    "fig = px.scatter(cars, x=\"horsepower\", y=\"l/10km\", trendline=\"ols\", title=\"Relationship between Horse power and Fuel Consumption\")\n",
    "fig.update_traces(marker=dict(size=8, opacity=0.8))\n",
    "fig.update_layout(\n",
    "    xaxis_title=\"Horse power\",\n",
    "    yaxis_title=\"Fuel Consumption (l/10km)\",\n",
    "    font=dict(\n",
    "        family=\"Arial\",\n",
    "        size=14,\n",
    "        color=\"black\"\n",
    "    ),\n",
    "    height=600\n",
    ")\n",
    "fig.show()"
   ]
  },
  {
   "cell_type": "markdown",
   "metadata": {},
   "source": [
    "We conclude that both parameters seem to be fairly well correlated to fuel consumption, and no issues have arisen during this visual inspection. Let's try to use both *in combination* for our linear regression."
   ]
  },
  {
   "cell_type": "markdown",
   "metadata": {},
   "source": [
    "Now we train a model using *Scikit Learn* and see if we can use it to make predictions based on the research question.\n",
    "\n",
    "We will split the dataset up in a test set, comprising 20% of the data, and a training set comprising the remainder. We will use Linear Regression, and use both dimensions 'weight' and 'horsepower' as independent variables."
   ]
  },
  {
   "cell_type": "code",
   "execution_count": 45,
   "metadata": {},
   "outputs": [
    {
     "name": "stdout",
     "output_type": "stream",
     "text": [
      "Intercept (β₀): -0.060161465357086996\n",
      "Coefficients (β₁, β₂): [0.000273   0.00356769]\n",
      "Mean Squared Error: 0.030789795256755386\n",
      "Coefficient of determination (R²): 0.8049807099996057\n"
     ]
    }
   ],
   "source": [
    "from sklearn.model_selection import train_test_split\n",
    "from sklearn.linear_model import LinearRegression\n",
    "from sklearn.metrics import mean_squared_error, r2_score\n",
    "\n",
    "# Splitting the data into training and testing sets.\n",
    "X = cars[['weight', 'horsepower']]\n",
    "y = cars['l/10km']\n",
    "\n",
    "X_train, X_test, y_train, y_test = train_test_split(X, y, test_size=0.2, random_state=0)\n",
    "\n",
    "model = LinearRegression()\n",
    "\n",
    "# Train the model\n",
    "model.fit(X_train, y_train)\n",
    "\n",
    "# Make predictions using the testing set\n",
    "y_pred = model.predict(X_test)\n",
    "\n",
    "# Calculate the coefficients, mean squared error, and the coefficient of determination (R^2)\n",
    "coefficients = model.coef_\n",
    "mse = mean_squared_error(y_test, y_pred)\n",
    "r2 = r2_score(y_test, y_pred)\n",
    "intercept = model.intercept_\n",
    "\n",
    "print(f\"Intercept (β₀): {intercept}\")\n",
    "print(f\"Coefficients (β₁, β₂): {coefficients}\")\n",
    "print(f\"Mean Squared Error: {mse}\")\n",
    "print(f\"Coefficient of determination (R²): {r2}\")\n"
   ]
  },
  {
   "cell_type": "markdown",
   "metadata": {},
   "source": [
    "Given the prediction formula for linear regression using multiple independent variables: \n",
    "\n",
    "$y = \\beta_0 + \\beta_1 x_1 + \\beta_2 x_2 + ... + \\beta_n x_n + \\epsilon$\n",
    "\n",
    "We get $β₀=-0.060161, β₁=0.000273, β₂=0.00356769$, and \n",
    "$\\sum_{i=1}^{n} \\epsilon_i^2=MSE=0.030789795$\n",
    "\n",
    "Additionally, $ R²=0.805 $, which means that about 80.5% of the variability in fuel consumption can be explained by the model that includes the car's weight and horsepower as independent variables, which is a relatively high value, suggesting a strong correlation and a good fit of the model to the data. It is also slightly higher than the value from the heatmap for only the weight (0.78), implying a slight benefit by using both factors for the predictions.\n",
    "\n",
    "## Conclusion \n",
    "This fulfills the requirement defined at the outset, with $ 0.805 \\gt 0.8 $, lettings us conclude that we can use the dimensions of weight and horse power to predict the fuel consumption of a car to a sufficient degree of accuracy. "
   ]
  },
  {
   "cell_type": "markdown",
   "metadata": {},
   "source": [
    "## Bonus materials"
   ]
  },
  {
   "cell_type": "markdown",
   "metadata": {},
   "source": [
    "For fun, here's a program that takes weight and horsepowers of a car and spits out the estimated fuel consumption."
   ]
  },
  {
   "cell_type": "code",
   "execution_count": null,
   "metadata": {},
   "outputs": [],
   "source": [
    "# Coefficients obtained from the linear regression model\n",
    "weight_coefficient = coefficients[0]\n",
    "horsepower_coefficient = coefficients[1]\n",
    "\n",
    "# Convert weight from kg to lbs\n",
    "def convert_kgtoibs(weight):\n",
    "    return weight * 2.20462\n",
    "# Convert weight from kg to lbs\n",
    "def convert_ibstokg(weight):\n",
    "    return weight / 2.20462\n",
    "\n",
    "def calculate_fuel_consumption(weight, horsepower):\n",
    "    return intercept + weight * weight_coefficient + horsepower * horsepower_coefficient\n",
    "\n",
    "# Get inputs from the user. Error handling is not implemented, due to this being a simple example.\n",
    "weight = convert_kgtoibs(float(input(\"Enter the weight of the car (kilograms): \")))\n",
    "horsepower = float(input(\"Enter the horsepower of the car: \"))\n",
    "\n",
    "# Calculate fuel consumption\n",
    "fuel_consumption = calculate_fuel_consumption(weight, horsepower)\n",
    "\n",
    "print(f\"Estimated fuel consumption for a car weighing {convert_ibstokg(weight)} kg with {horsepower:} horsepowers: {fuel_consumption:.2} l/10km.\")\n"
   ]
  },
  {
   "cell_type": "markdown",
   "metadata": {},
   "source": [
    "What happens when we perform the test using MPG instead of l/10km?"
   ]
  },
  {
   "cell_type": "code",
   "execution_count": 44,
   "metadata": {},
   "outputs": [
    {
     "name": "stdout",
     "output_type": "stream",
     "text": [
      "Intercept (β₀): 45.96119618245666\n",
      "Coefficients (β₁, β₂): [-0.00602569 -0.04392749]\n",
      "Mean Squared Error: 18.793730732283095\n",
      "Coefficient of determination (R²): 0.697632764364343\n"
     ]
    }
   ],
   "source": [
    "# Splitting the data into training and testing sets. Usually 20% of the data is used for testing apparently.\n",
    "X = cars[['weight', 'horsepower']]\n",
    "y = cars['mpg']\n",
    "\n",
    "X_train, X_test, y_train, y_test = train_test_split(X, y, test_size=0.2, random_state=0)\n",
    "\n",
    "model = LinearRegression()\n",
    "\n",
    "# Train the model\n",
    "model.fit(X_train, y_train)\n",
    "\n",
    "# Make predictions using the testing set\n",
    "y_pred = model.predict(X_test)\n",
    "\n",
    "# Calculate the coefficients, mean squared error, and the coefficient of determination (R^2)\n",
    "coefficients = model.coef_\n",
    "mse = mean_squared_error(y_test, y_pred)\n",
    "r2 = r2_score(y_test, y_pred)\n",
    "intercept = model.intercept_\n",
    "\n",
    "print(f\"Intercept (β₀): {intercept}\")\n",
    "print(f\"Coefficients (β₁, β₂): {coefficients}\")\n",
    "print(f\"Mean Squared Error: {mse}\")\n",
    "print(f\"Coefficient of determination (R²): {r2}\")"
   ]
  },
  {
   "cell_type": "markdown",
   "metadata": {},
   "source": [
    "\n",
    "Interestingly, when performing the test in MPG instead of l/10km, all else equal, R²=69.8%. This in itself if a factor in not putting as much weight (pun intended) to the weight and hp when it comes to fuel consumption in America. This means choosing the unit for a measurement is also something that can be used in manipulative ways, and something to be aware of."
   ]
  },
  {
   "cell_type": "markdown",
   "metadata": {},
   "source": [
    "### Creating an out of sample plot for the prediction"
   ]
  },
  {
   "cell_type": "markdown",
   "metadata": {},
   "source": [
    "Creating an out-of-sample prediction allows us to assess the model's performance on data it has not seen during training, providing a realistic measure of its generalization ability and effectiveness in making accurate predictions in real-world scenarios. This plot was made using a little help from a friend (ChatGPT). It is interactive and rotatable."
   ]
  },
  {
   "cell_type": "code",
   "execution_count": 51,
   "metadata": {},
   "outputs": [
    {
     "data": {
      "application/vnd.plotly.v1+json": {
       "config": {
        "plotlyServerURL": "https://plot.ly"
       },
       "data": [
        {
         "mode": "markers",
         "name": "Actual",
         "type": "scatter3d",
         "x": [
          2125,
          2890,
          4456,
          2125,
          2145,
          3210,
          1968,
          3250,
          3102,
          2279,
          1834,
          4380,
          2740,
          4997,
          4360,
          2210,
          2795,
          4077,
          2265,
          2670,
          3169,
          3632,
          2408,
          2945,
          2144,
          4209,
          2620,
          2720,
          2914,
          3672,
          2807,
          2635,
          2511,
          1963,
          3039,
          2711,
          1773,
          4464,
          4190,
          4354,
          3693,
          1850,
          2542,
          4141,
          1940,
          4335,
          2525,
          4699,
          3880,
          2789,
          2246,
          3563,
          4376,
          2408,
          2188,
          3160,
          3060,
          3353,
          1795,
          2226,
          2833,
          2108,
          1990,
          4341,
          2189,
          3897,
          4312,
          2640,
          2672,
          2110,
          1800,
          2155,
          3725,
          4140,
          2904,
          4129,
          1955,
          3425,
          2045
         ],
         "y": [
          75,
          88,
          160,
          63,
          67,
          90,
          60,
          67,
          95,
          88,
          60,
          180,
          88,
          150,
          155,
          75,
          115,
          150,
          90,
          90,
          129,
          110,
          90,
          110,
          76,
          165,
          92,
          88,
          100,
          150,
          122,
          74,
          76,
          67,
          110,
          90,
          65,
          150,
          150,
          220,
          165,
          67,
          75,
          140,
          78,
          149,
          84,
          150,
          145,
          100,
          75,
          170,
          200,
          72,
          78,
          76,
          88,
          105,
          53,
          86,
          95,
          75,
          71,
          198,
          69,
          105,
          215,
          88,
          87,
          65,
          60,
          68,
          129,
          145,
          95,
          153,
          70,
          145,
          68
         ],
         "z": [
          0.8400535714285714,
          1.0547757847533632,
          1.960125,
          0.6189868421052631,
          0.6959023668639054,
          1.2124484536082476,
          0.6173622047244094,
          0.78405,
          1.176075,
          1.176075,
          0.8711666666666666,
          1.4255454545454544,
          0.9600612244897959,
          2.138318181818182,
          1.3918047337278108,
          0.697967359050445,
          1.0889583333333333,
          1.6801071428571428,
          0.9046730769230769,
          0.8282218309859155,
          1.8093461538461537,
          1.47009375,
          1.176075,
          0.94086,
          0.5667831325301205,
          1.6801071428571428,
          0.9116860465116279,
          0.9371115537848604,
          1.176075,
          1.3836176470588235,
          1.176075,
          0.7443512658227848,
          1.069159090909091,
          0.9046730769230769,
          1.1200714285714286,
          0.7893120805369127,
          0.758758064516129,
          1.8093461538461537,
          1.47009375,
          1.6801071428571428,
          1.5681,
          0.5273878923766816,
          0.7514856230031949,
          1.47009375,
          0.8110862068965518,
          1.47009375,
          0.8110862068965518,
          1.8093461538461537,
          1.3440857142857143,
          1.30675,
          0.9046730769230769,
          1.5681,
          2.35215,
          1.069159090909091,
          0.6857580174927114,
          0.7661726384364821,
          1.164430693069307,
          1.069159090909091,
          0.7127727272727272,
          1.1200714285714286,
          1.069159090909091,
          0.9800625,
          0.7467142857142857,
          1.5681,
          0.9046730769230769,
          1.47009375,
          1.6801071428571428,
          0.8711666666666666,
          0.94086,
          0.5765073529411765,
          0.6515650969529085,
          0.78405,
          1.3364488636363636,
          1.517516129032258,
          1.0226739130434783,
          1.6801071428571428,
          0.9046730769230769,
          1.225078125,
          0.7467142857142857
         ]
        },
        {
         "marker": {
          "size": 5
         },
         "mode": "markers",
         "name": "Predicted",
         "type": "scatter3d",
         "x": [
          2125,
          2890,
          4456,
          2125,
          2145,
          3210,
          1968,
          3250,
          3102,
          2279,
          1834,
          4380,
          2740,
          4997,
          4360,
          2210,
          2795,
          4077,
          2265,
          2670,
          3169,
          3632,
          2408,
          2945,
          2144,
          4209,
          2620,
          2720,
          2914,
          3672,
          2807,
          2635,
          2511,
          1963,
          3039,
          2711,
          1773,
          4464,
          4190,
          4354,
          3693,
          1850,
          2542,
          4141,
          1940,
          4335,
          2525,
          4699,
          3880,
          2789,
          2246,
          3563,
          4376,
          2408,
          2188,
          3160,
          3060,
          3353,
          1795,
          2226,
          2833,
          2108,
          1990,
          4341,
          2189,
          3897,
          4312,
          2640,
          2672,
          2110,
          1800,
          2155,
          3725,
          4140,
          2904,
          4129,
          1955,
          3425,
          2045
         ],
         "y": [
          75,
          88,
          160,
          63,
          67,
          90,
          60,
          67,
          95,
          88,
          60,
          180,
          88,
          150,
          155,
          75,
          115,
          150,
          90,
          90,
          129,
          110,
          90,
          110,
          76,
          165,
          92,
          88,
          100,
          150,
          122,
          74,
          76,
          67,
          110,
          90,
          65,
          150,
          150,
          220,
          165,
          67,
          75,
          140,
          78,
          149,
          84,
          150,
          145,
          100,
          75,
          170,
          200,
          72,
          78,
          76,
          88,
          105,
          53,
          86,
          95,
          75,
          71,
          198,
          69,
          105,
          215,
          88,
          87,
          65,
          60,
          68,
          129,
          145,
          95,
          153,
          70,
          145,
          68
         ],
         "z": [
          0.7875328883464732,
          1.042755231019711,
          1.7271414181545481,
          0.7447206386378642,
          0.7644513207103787,
          1.137249520685462,
          0.6911571086790008,
          1.066112573083251,
          1.1256043243479672,
          0.875954303237064,
          0.654575563142381,
          1.7777474254242462,
          1.0018057397473754,
          1.8391557085862646,
          1.6830953063616665,
          0.8107376000674633,
          1.1131481150582685,
          1.5879988287826063,
          0.8792677256697474,
          0.9898313521050537,
          1.265196471290669,
          1.3238078389793142,
          0.9183062406827074,
          1.136259168952017,
          0.7962875113833531,
          1.6775496932380225,
          0.9833168966323766,
          0.9963458075777307,
          1.0921193993318936,
          1.4774352023473,
          1.1413978866900771,
          0.9231934711966969,
          0.8964772666963342,
          0.7147659379666115,
          1.1619208501493474,
          1.0010242130528253,
          0.6557612074035515,
          1.693648516265232,
          1.6188474455410988,
          1.9133570126324044,
          1.5366834432611878,
          0.6839173212081185,
          0.9013724740835662,
          1.5697937369682955,
          0.7477315782044114,
          1.654864266295306,
          0.9288407190208248,
          1.757802719258558,
          1.5163800595330184,
          1.0579948232716139,
          0.820565477972824,
          1.5190323215370842,
          1.8480091885046654,
          0.8540878661197941,
          0.8154347371080063,
          1.0736520656013062,
          1.0891646544616915,
          1.229803347834183,
          0.6189548830815519,
          0.8543501080360705,
          1.0521682366662453,
          0.7828919460022752,
          0.7364075962985014,
          1.8313189322563521,
          0.7835985464350319,
          1.37831350284852,
          1.8840527176975632,
          0.9745060788991518,
          0.9796742828948659,
          0.7477610644620656,
          0.6452936784539849,
          0.7707489742709184,
          1.416982585606793,
          1.5873591777384002,
          1.0715509958684843,
          1.6128977148508346,
          0.7232850275259057,
          1.3921666026736004,
          0.7407193473378723
         ]
        },
        {
         "marker": {
          "color": "green",
          "size": 3
         },
         "mode": "markers",
         "name": "Extended Predictions",
         "type": "scatter3d",
         "x": [
          1773,
          2205.684210526316,
          2638.3684210526317,
          3071.0526315789475,
          3503.7368421052633,
          3936.4210526315787,
          4369.105263157895,
          4801.78947368421,
          5234.473684210527,
          5667.157894736842,
          6099.8421052631575,
          6532.526315789473,
          6965.210526315789,
          7397.894736842105,
          7830.578947368421,
          8263.263157894737,
          8695.947368421053,
          9128.631578947368,
          9561.315789473683,
          9994,
          1773,
          2205.684210526316,
          2638.3684210526317,
          3071.0526315789475,
          3503.7368421052633,
          3936.4210526315787,
          4369.105263157895,
          4801.78947368421,
          5234.473684210527,
          5667.157894736842,
          6099.8421052631575,
          6532.526315789473,
          6965.210526315789,
          7397.894736842105,
          7830.578947368421,
          8263.263157894737,
          8695.947368421053,
          9128.631578947368,
          9561.315789473683,
          9994,
          1773,
          2205.684210526316,
          2638.3684210526317,
          3071.0526315789475,
          3503.7368421052633,
          3936.4210526315787,
          4369.105263157895,
          4801.78947368421,
          5234.473684210527,
          5667.157894736842,
          6099.8421052631575,
          6532.526315789473,
          6965.210526315789,
          7397.894736842105,
          7830.578947368421,
          8263.263157894737,
          8695.947368421053,
          9128.631578947368,
          9561.315789473683,
          9994,
          1773,
          2205.684210526316,
          2638.3684210526317,
          3071.0526315789475,
          3503.7368421052633,
          3936.4210526315787,
          4369.105263157895,
          4801.78947368421,
          5234.473684210527,
          5667.157894736842,
          6099.8421052631575,
          6532.526315789473,
          6965.210526315789,
          7397.894736842105,
          7830.578947368421,
          8263.263157894737,
          8695.947368421053,
          9128.631578947368,
          9561.315789473683,
          9994,
          1773,
          2205.684210526316,
          2638.3684210526317,
          3071.0526315789475,
          3503.7368421052633,
          3936.4210526315787,
          4369.105263157895,
          4801.78947368421,
          5234.473684210527,
          5667.157894736842,
          6099.8421052631575,
          6532.526315789473,
          6965.210526315789,
          7397.894736842105,
          7830.578947368421,
          8263.263157894737,
          8695.947368421053,
          9128.631578947368,
          9561.315789473683,
          9994,
          1773,
          2205.684210526316,
          2638.3684210526317,
          3071.0526315789475,
          3503.7368421052633,
          3936.4210526315787,
          4369.105263157895,
          4801.78947368421,
          5234.473684210527,
          5667.157894736842,
          6099.8421052631575,
          6532.526315789473,
          6965.210526315789,
          7397.894736842105,
          7830.578947368421,
          8263.263157894737,
          8695.947368421053,
          9128.631578947368,
          9561.315789473683,
          9994,
          1773,
          2205.684210526316,
          2638.3684210526317,
          3071.0526315789475,
          3503.7368421052633,
          3936.4210526315787,
          4369.105263157895,
          4801.78947368421,
          5234.473684210527,
          5667.157894736842,
          6099.8421052631575,
          6532.526315789473,
          6965.210526315789,
          7397.894736842105,
          7830.578947368421,
          8263.263157894737,
          8695.947368421053,
          9128.631578947368,
          9561.315789473683,
          9994,
          1773,
          2205.684210526316,
          2638.3684210526317,
          3071.0526315789475,
          3503.7368421052633,
          3936.4210526315787,
          4369.105263157895,
          4801.78947368421,
          5234.473684210527,
          5667.157894736842,
          6099.8421052631575,
          6532.526315789473,
          6965.210526315789,
          7397.894736842105,
          7830.578947368421,
          8263.263157894737,
          8695.947368421053,
          9128.631578947368,
          9561.315789473683,
          9994,
          1773,
          2205.684210526316,
          2638.3684210526317,
          3071.0526315789475,
          3503.7368421052633,
          3936.4210526315787,
          4369.105263157895,
          4801.78947368421,
          5234.473684210527,
          5667.157894736842,
          6099.8421052631575,
          6532.526315789473,
          6965.210526315789,
          7397.894736842105,
          7830.578947368421,
          8263.263157894737,
          8695.947368421053,
          9128.631578947368,
          9561.315789473683,
          9994,
          1773,
          2205.684210526316,
          2638.3684210526317,
          3071.0526315789475,
          3503.7368421052633,
          3936.4210526315787,
          4369.105263157895,
          4801.78947368421,
          5234.473684210527,
          5667.157894736842,
          6099.8421052631575,
          6532.526315789473,
          6965.210526315789,
          7397.894736842105,
          7830.578947368421,
          8263.263157894737,
          8695.947368421053,
          9128.631578947368,
          9561.315789473683,
          9994,
          1773,
          2205.684210526316,
          2638.3684210526317,
          3071.0526315789475,
          3503.7368421052633,
          3936.4210526315787,
          4369.105263157895,
          4801.78947368421,
          5234.473684210527,
          5667.157894736842,
          6099.8421052631575,
          6532.526315789473,
          6965.210526315789,
          7397.894736842105,
          7830.578947368421,
          8263.263157894737,
          8695.947368421053,
          9128.631578947368,
          9561.315789473683,
          9994,
          1773,
          2205.684210526316,
          2638.3684210526317,
          3071.0526315789475,
          3503.7368421052633,
          3936.4210526315787,
          4369.105263157895,
          4801.78947368421,
          5234.473684210527,
          5667.157894736842,
          6099.8421052631575,
          6532.526315789473,
          6965.210526315789,
          7397.894736842105,
          7830.578947368421,
          8263.263157894737,
          8695.947368421053,
          9128.631578947368,
          9561.315789473683,
          9994,
          1773,
          2205.684210526316,
          2638.3684210526317,
          3071.0526315789475,
          3503.7368421052633,
          3936.4210526315787,
          4369.105263157895,
          4801.78947368421,
          5234.473684210527,
          5667.157894736842,
          6099.8421052631575,
          6532.526315789473,
          6965.210526315789,
          7397.894736842105,
          7830.578947368421,
          8263.263157894737,
          8695.947368421053,
          9128.631578947368,
          9561.315789473683,
          9994,
          1773,
          2205.684210526316,
          2638.3684210526317,
          3071.0526315789475,
          3503.7368421052633,
          3936.4210526315787,
          4369.105263157895,
          4801.78947368421,
          5234.473684210527,
          5667.157894736842,
          6099.8421052631575,
          6532.526315789473,
          6965.210526315789,
          7397.894736842105,
          7830.578947368421,
          8263.263157894737,
          8695.947368421053,
          9128.631578947368,
          9561.315789473683,
          9994,
          1773,
          2205.684210526316,
          2638.3684210526317,
          3071.0526315789475,
          3503.7368421052633,
          3936.4210526315787,
          4369.105263157895,
          4801.78947368421,
          5234.473684210527,
          5667.157894736842,
          6099.8421052631575,
          6532.526315789473,
          6965.210526315789,
          7397.894736842105,
          7830.578947368421,
          8263.263157894737,
          8695.947368421053,
          9128.631578947368,
          9561.315789473683,
          9994,
          1773,
          2205.684210526316,
          2638.3684210526317,
          3071.0526315789475,
          3503.7368421052633,
          3936.4210526315787,
          4369.105263157895,
          4801.78947368421,
          5234.473684210527,
          5667.157894736842,
          6099.8421052631575,
          6532.526315789473,
          6965.210526315789,
          7397.894736842105,
          7830.578947368421,
          8263.263157894737,
          8695.947368421053,
          9128.631578947368,
          9561.315789473683,
          9994,
          1773,
          2205.684210526316,
          2638.3684210526317,
          3071.0526315789475,
          3503.7368421052633,
          3936.4210526315787,
          4369.105263157895,
          4801.78947368421,
          5234.473684210527,
          5667.157894736842,
          6099.8421052631575,
          6532.526315789473,
          6965.210526315789,
          7397.894736842105,
          7830.578947368421,
          8263.263157894737,
          8695.947368421053,
          9128.631578947368,
          9561.315789473683,
          9994,
          1773,
          2205.684210526316,
          2638.3684210526317,
          3071.0526315789475,
          3503.7368421052633,
          3936.4210526315787,
          4369.105263157895,
          4801.78947368421,
          5234.473684210527,
          5667.157894736842,
          6099.8421052631575,
          6532.526315789473,
          6965.210526315789,
          7397.894736842105,
          7830.578947368421,
          8263.263157894737,
          8695.947368421053,
          9128.631578947368,
          9561.315789473683,
          9994,
          1773,
          2205.684210526316,
          2638.3684210526317,
          3071.0526315789475,
          3503.7368421052633,
          3936.4210526315787,
          4369.105263157895,
          4801.78947368421,
          5234.473684210527,
          5667.157894736842,
          6099.8421052631575,
          6532.526315789473,
          6965.210526315789,
          7397.894736842105,
          7830.578947368421,
          8263.263157894737,
          8695.947368421053,
          9128.631578947368,
          9561.315789473683,
          9994,
          1773,
          2205.684210526316,
          2638.3684210526317,
          3071.0526315789475,
          3503.7368421052633,
          3936.4210526315787,
          4369.105263157895,
          4801.78947368421,
          5234.473684210527,
          5667.157894736842,
          6099.8421052631575,
          6532.526315789473,
          6965.210526315789,
          7397.894736842105,
          7830.578947368421,
          8263.263157894737,
          8695.947368421053,
          9128.631578947368,
          9561.315789473683,
          9994
         ],
         "y": [
          53,
          53,
          53,
          53,
          53,
          53,
          53,
          53,
          53,
          53,
          53,
          53,
          53,
          53,
          53,
          53,
          53,
          53,
          53,
          53,
          73.36842105263158,
          73.36842105263158,
          73.36842105263158,
          73.36842105263158,
          73.36842105263158,
          73.36842105263158,
          73.36842105263158,
          73.36842105263158,
          73.36842105263158,
          73.36842105263158,
          73.36842105263158,
          73.36842105263158,
          73.36842105263158,
          73.36842105263158,
          73.36842105263158,
          73.36842105263158,
          73.36842105263158,
          73.36842105263158,
          73.36842105263158,
          73.36842105263158,
          93.73684210526315,
          93.73684210526315,
          93.73684210526315,
          93.73684210526315,
          93.73684210526315,
          93.73684210526315,
          93.73684210526315,
          93.73684210526315,
          93.73684210526315,
          93.73684210526315,
          93.73684210526315,
          93.73684210526315,
          93.73684210526315,
          93.73684210526315,
          93.73684210526315,
          93.73684210526315,
          93.73684210526315,
          93.73684210526315,
          93.73684210526315,
          93.73684210526315,
          114.10526315789474,
          114.10526315789474,
          114.10526315789474,
          114.10526315789474,
          114.10526315789474,
          114.10526315789474,
          114.10526315789474,
          114.10526315789474,
          114.10526315789474,
          114.10526315789474,
          114.10526315789474,
          114.10526315789474,
          114.10526315789474,
          114.10526315789474,
          114.10526315789474,
          114.10526315789474,
          114.10526315789474,
          114.10526315789474,
          114.10526315789474,
          114.10526315789474,
          134.4736842105263,
          134.4736842105263,
          134.4736842105263,
          134.4736842105263,
          134.4736842105263,
          134.4736842105263,
          134.4736842105263,
          134.4736842105263,
          134.4736842105263,
          134.4736842105263,
          134.4736842105263,
          134.4736842105263,
          134.4736842105263,
          134.4736842105263,
          134.4736842105263,
          134.4736842105263,
          134.4736842105263,
          134.4736842105263,
          134.4736842105263,
          134.4736842105263,
          154.8421052631579,
          154.8421052631579,
          154.8421052631579,
          154.8421052631579,
          154.8421052631579,
          154.8421052631579,
          154.8421052631579,
          154.8421052631579,
          154.8421052631579,
          154.8421052631579,
          154.8421052631579,
          154.8421052631579,
          154.8421052631579,
          154.8421052631579,
          154.8421052631579,
          154.8421052631579,
          154.8421052631579,
          154.8421052631579,
          154.8421052631579,
          154.8421052631579,
          175.21052631578948,
          175.21052631578948,
          175.21052631578948,
          175.21052631578948,
          175.21052631578948,
          175.21052631578948,
          175.21052631578948,
          175.21052631578948,
          175.21052631578948,
          175.21052631578948,
          175.21052631578948,
          175.21052631578948,
          175.21052631578948,
          175.21052631578948,
          175.21052631578948,
          175.21052631578948,
          175.21052631578948,
          175.21052631578948,
          175.21052631578948,
          175.21052631578948,
          195.57894736842104,
          195.57894736842104,
          195.57894736842104,
          195.57894736842104,
          195.57894736842104,
          195.57894736842104,
          195.57894736842104,
          195.57894736842104,
          195.57894736842104,
          195.57894736842104,
          195.57894736842104,
          195.57894736842104,
          195.57894736842104,
          195.57894736842104,
          195.57894736842104,
          195.57894736842104,
          195.57894736842104,
          195.57894736842104,
          195.57894736842104,
          195.57894736842104,
          215.94736842105263,
          215.94736842105263,
          215.94736842105263,
          215.94736842105263,
          215.94736842105263,
          215.94736842105263,
          215.94736842105263,
          215.94736842105263,
          215.94736842105263,
          215.94736842105263,
          215.94736842105263,
          215.94736842105263,
          215.94736842105263,
          215.94736842105263,
          215.94736842105263,
          215.94736842105263,
          215.94736842105263,
          215.94736842105263,
          215.94736842105263,
          215.94736842105263,
          236.31578947368422,
          236.31578947368422,
          236.31578947368422,
          236.31578947368422,
          236.31578947368422,
          236.31578947368422,
          236.31578947368422,
          236.31578947368422,
          236.31578947368422,
          236.31578947368422,
          236.31578947368422,
          236.31578947368422,
          236.31578947368422,
          236.31578947368422,
          236.31578947368422,
          236.31578947368422,
          236.31578947368422,
          236.31578947368422,
          236.31578947368422,
          236.31578947368422,
          256.6842105263158,
          256.6842105263158,
          256.6842105263158,
          256.6842105263158,
          256.6842105263158,
          256.6842105263158,
          256.6842105263158,
          256.6842105263158,
          256.6842105263158,
          256.6842105263158,
          256.6842105263158,
          256.6842105263158,
          256.6842105263158,
          256.6842105263158,
          256.6842105263158,
          256.6842105263158,
          256.6842105263158,
          256.6842105263158,
          256.6842105263158,
          256.6842105263158,
          277.0526315789474,
          277.0526315789474,
          277.0526315789474,
          277.0526315789474,
          277.0526315789474,
          277.0526315789474,
          277.0526315789474,
          277.0526315789474,
          277.0526315789474,
          277.0526315789474,
          277.0526315789474,
          277.0526315789474,
          277.0526315789474,
          277.0526315789474,
          277.0526315789474,
          277.0526315789474,
          277.0526315789474,
          277.0526315789474,
          277.0526315789474,
          277.0526315789474,
          297.42105263157896,
          297.42105263157896,
          297.42105263157896,
          297.42105263157896,
          297.42105263157896,
          297.42105263157896,
          297.42105263157896,
          297.42105263157896,
          297.42105263157896,
          297.42105263157896,
          297.42105263157896,
          297.42105263157896,
          297.42105263157896,
          297.42105263157896,
          297.42105263157896,
          297.42105263157896,
          297.42105263157896,
          297.42105263157896,
          297.42105263157896,
          297.42105263157896,
          317.7894736842105,
          317.7894736842105,
          317.7894736842105,
          317.7894736842105,
          317.7894736842105,
          317.7894736842105,
          317.7894736842105,
          317.7894736842105,
          317.7894736842105,
          317.7894736842105,
          317.7894736842105,
          317.7894736842105,
          317.7894736842105,
          317.7894736842105,
          317.7894736842105,
          317.7894736842105,
          317.7894736842105,
          317.7894736842105,
          317.7894736842105,
          317.7894736842105,
          338.1578947368421,
          338.1578947368421,
          338.1578947368421,
          338.1578947368421,
          338.1578947368421,
          338.1578947368421,
          338.1578947368421,
          338.1578947368421,
          338.1578947368421,
          338.1578947368421,
          338.1578947368421,
          338.1578947368421,
          338.1578947368421,
          338.1578947368421,
          338.1578947368421,
          338.1578947368421,
          338.1578947368421,
          338.1578947368421,
          338.1578947368421,
          338.1578947368421,
          358.5263157894737,
          358.5263157894737,
          358.5263157894737,
          358.5263157894737,
          358.5263157894737,
          358.5263157894737,
          358.5263157894737,
          358.5263157894737,
          358.5263157894737,
          358.5263157894737,
          358.5263157894737,
          358.5263157894737,
          358.5263157894737,
          358.5263157894737,
          358.5263157894737,
          358.5263157894737,
          358.5263157894737,
          358.5263157894737,
          358.5263157894737,
          358.5263157894737,
          378.89473684210526,
          378.89473684210526,
          378.89473684210526,
          378.89473684210526,
          378.89473684210526,
          378.89473684210526,
          378.89473684210526,
          378.89473684210526,
          378.89473684210526,
          378.89473684210526,
          378.89473684210526,
          378.89473684210526,
          378.89473684210526,
          378.89473684210526,
          378.89473684210526,
          378.89473684210526,
          378.89473684210526,
          378.89473684210526,
          378.89473684210526,
          378.89473684210526,
          399.2631578947368,
          399.2631578947368,
          399.2631578947368,
          399.2631578947368,
          399.2631578947368,
          399.2631578947368,
          399.2631578947368,
          399.2631578947368,
          399.2631578947368,
          399.2631578947368,
          399.2631578947368,
          399.2631578947368,
          399.2631578947368,
          399.2631578947368,
          399.2631578947368,
          399.2631578947368,
          399.2631578947368,
          399.2631578947368,
          399.2631578947368,
          399.2631578947368,
          419.63157894736844,
          419.63157894736844,
          419.63157894736844,
          419.63157894736844,
          419.63157894736844,
          419.63157894736844,
          419.63157894736844,
          419.63157894736844,
          419.63157894736844,
          419.63157894736844,
          419.63157894736844,
          419.63157894736844,
          419.63157894736844,
          419.63157894736844,
          419.63157894736844,
          419.63157894736844,
          419.63157894736844,
          419.63157894736844,
          419.63157894736844,
          419.63157894736844,
          440,
          440,
          440,
          440,
          440,
          440,
          440,
          440,
          440,
          440,
          440,
          440,
          440,
          440,
          440,
          440,
          440,
          440,
          440,
          440
         ],
         "z": [
          0.6129489576949426,
          0.7310702797124413,
          0.84919160172994,
          0.9673129237474387,
          1.0854342457649373,
          1.2035555677824359,
          1.3216768897999347,
          1.439798211817433,
          1.557919533834932,
          1.6760408558524305,
          1.794162177869929,
          1.9122834998874279,
          2.0304048219049267,
          2.148526143922425,
          2.266647465939924,
          2.3847687879574226,
          2.5028901099749215,
          2.62101143199242,
          2.739132754009918,
          2.8572540760274174,
          0.685617118384555,
          0.8037384404020537,
          0.9218597624195524,
          1.0399810844370512,
          1.1581024064545498,
          1.2762237284720483,
          1.3943450504895472,
          1.5124663725070455,
          1.6305876945245446,
          1.748709016542043,
          1.8668303385595415,
          1.9849516605770403,
          2.103072982594539,
          2.2211943046120375,
          2.3393156266295363,
          2.457436948647035,
          2.575558270664534,
          2.6936795926820323,
          2.8118009146995306,
          2.92992223671703,
          0.7582852790741674,
          0.876406601091666,
          0.9945279231091648,
          1.1126492451266634,
          1.2307705671441622,
          1.3488918891616608,
          1.4670132111791596,
          1.585134533196658,
          1.703255855214157,
          1.8213771772316554,
          1.939498499249154,
          2.0576198212666528,
          2.175741143284151,
          2.29386246530165,
          2.4119837873191488,
          2.5301051093366476,
          2.6482264313541464,
          2.7663477533716447,
          2.884469075389143,
          3.0025903974066424,
          0.8309534397637798,
          0.9490747617812785,
          1.0671960837987773,
          1.1853174058162759,
          1.3034387278337745,
          1.4215600498512733,
          1.539681371868772,
          1.6578026938862704,
          1.7759240159037692,
          1.8940453379212676,
          2.0121666599387664,
          2.1302879819562652,
          2.2484093039737636,
          2.3665306259912624,
          2.484651948008761,
          2.60277327002626,
          2.720894592043759,
          2.839015914061257,
          2.9571372360787556,
          3.075258558096255,
          0.9036216004533921,
          1.021742922470891,
          1.1398642444883895,
          1.257985566505888,
          1.376106888523387,
          1.4942282105408855,
          1.6123495325583843,
          1.7304708545758827,
          1.8485921765933817,
          1.96671349861088,
          2.0848348206283784,
          2.2029561426458777,
          2.321077464663376,
          2.4391987866808744,
          2.5573201086983737,
          2.675441430715872,
          2.7935627527333713,
          2.9116840747508697,
          3.029805396768368,
          3.1479267187858673,
          0.9762897611430046,
          1.0944110831605034,
          1.212532405178002,
          1.3306537271955006,
          1.4487750492129994,
          1.566896371230498,
          1.6850176932479968,
          1.8031390152654951,
          1.9212603372829942,
          2.0393816593004925,
          2.1575029813179913,
          2.2756243033354897,
          2.3937456253529885,
          2.5118669473704873,
          2.6299882693879857,
          2.748109591405485,
          2.8662309134229833,
          2.9843522354404817,
          3.10247355745798,
          3.2205948794754793,
          1.048957921832617,
          1.1670792438501159,
          1.2852005658676144,
          1.403321887885113,
          1.5214432099026118,
          1.6395645319201104,
          1.7576858539376092,
          1.8758071759551076,
          1.9939284979726066,
          2.112049819990105,
          2.2301711420076034,
          2.3482924640251026,
          2.466413786042601,
          2.5845351080600993,
          2.7026564300775986,
          2.820777752095097,
          2.938899074112596,
          3.0570203961300946,
          3.175141718147593,
          3.293263040165092,
          1.1216260825222293,
          1.2397474045397279,
          1.3578687265572267,
          1.4759900485747255,
          1.594111370592224,
          1.7122326926097227,
          1.8303540146272215,
          1.9484753366447198,
          2.0665966586622186,
          2.184717980679717,
          2.302839302697216,
          2.4209606247147146,
          2.539081946732213,
          2.657203268749712,
          2.7753245907672106,
          2.8934459127847094,
          3.0115672348022082,
          3.1296885568197066,
          3.247809878837205,
          3.365931200854704,
          1.1942942432118417,
          1.3124155652293403,
          1.4305368872468391,
          1.548658209264338,
          1.6667795312818365,
          1.7849008532993351,
          1.903022175316834,
          2.0211434973343323,
          2.1392648193518315,
          2.25738614136933,
          2.3755074633868283,
          2.493628785404327,
          2.611750107421826,
          2.7298714294393243,
          2.847992751456823,
          2.966114073474322,
          3.0842353954918207,
          3.202356717509319,
          3.3204780395268174,
          3.4385993615443167,
          1.2669624039014542,
          1.3850837259189528,
          1.5032050479364516,
          1.6213263699539504,
          1.739447691971449,
          1.8575690139889476,
          1.9756903360064464,
          2.0938116580239448,
          2.2119329800414436,
          2.330054302058942,
          2.4481756240764407,
          2.5662969460939395,
          2.684418268111438,
          2.8025395901289367,
          2.9206609121464355,
          3.0387822341639343,
          3.156903556181433,
          3.2750248781989315,
          3.39314620021643,
          3.511267522233929,
          1.3396305645910664,
          1.4577518866085653,
          1.575873208626064,
          1.6939945306435626,
          1.8121158526610612,
          1.93023717467856,
          2.048358496696059,
          2.166479818713557,
          2.284601140731056,
          2.4027224627485544,
          2.520843784766053,
          2.638965106783552,
          2.7570864288010504,
          2.875207750818549,
          2.993329072836048,
          3.111450394853547,
          3.2295717168710456,
          3.347693038888544,
          3.4658143609060423,
          3.5839356829235416,
          1.4122987252806791,
          1.5304200472981777,
          1.6485413693156765,
          1.7666626913331753,
          1.884784013350674,
          2.0029053353681725,
          2.1210266573856713,
          2.2391479794031697,
          2.3572693014206685,
          2.475390623438167,
          2.5935119454556657,
          2.7116332674731645,
          2.829754589490663,
          2.9478759115081616,
          3.0659972335256604,
          3.1841185555431593,
          3.302239877560658,
          3.4203611995781564,
          3.538482521595655,
          3.656603843613154,
          1.4849668859702914,
          1.6030882079877902,
          1.7212095300052888,
          1.8393308520227873,
          1.9574521740402862,
          2.0755734960577845,
          2.1936948180752838,
          2.311816140092782,
          2.429937462110281,
          2.5480587841277793,
          2.666180106145278,
          2.7843014281627765,
          2.9024227501802753,
          3.020544072197774,
          3.1386653942152725,
          3.2567867162327717,
          3.37490803825027,
          3.4930293602677684,
          3.611150682285267,
          3.729272004302766,
          1.5576350466599038,
          1.6757563686774026,
          1.7938776906949012,
          1.9119990127123998,
          2.0301203347298986,
          2.1482416567473974,
          2.266362978764896,
          2.384484300782394,
          2.5026056227998934,
          2.6207269448173918,
          2.73884826683489,
          2.8569695888523894,
          2.9750909108698878,
          3.093212232887386,
          3.2113335549048854,
          3.3294548769223837,
          3.447576198939883,
          3.5656975209573814,
          3.6838188429748797,
          3.801940164992379,
          1.630303207349516,
          1.7484245293670146,
          1.8665458513845135,
          1.9846671734020123,
          2.102788495419511,
          2.2209098174370094,
          2.3390311394545082,
          2.4571524614720066,
          2.5752737834895054,
          2.693395105507004,
          2.8115164275245026,
          2.9296377495420014,
          3.0477590715594998,
          3.1658803935769986,
          3.2840017155944974,
          3.402123037611996,
          3.520244359629495,
          3.6383656816469934,
          3.7564870036644917,
          3.874608325681991,
          1.7029713680391287,
          1.8210926900566275,
          1.9392140120741261,
          2.0573353340916247,
          2.1754566561091235,
          2.2935779781266223,
          2.4116993001441207,
          2.529820622161619,
          2.6479419441791183,
          2.7660632661966167,
          2.884184588214115,
          3.0023059102316143,
          3.1204272322491127,
          3.238548554266611,
          3.3566698762841103,
          3.4747911983016087,
          3.592912520319108,
          3.7110338423366063,
          3.8291551643541046,
          3.947276486371604,
          1.775639528728741,
          1.8937608507462396,
          2.0118821727637384,
          2.130003494781237,
          2.248124816798736,
          2.3662461388162344,
          2.484367460833733,
          2.6024887828512315,
          2.7206101048687303,
          2.8387314268862287,
          2.9568527489037275,
          3.0749740709212263,
          3.1930953929387247,
          3.3112167149562235,
          3.4293380369737223,
          3.547459358991221,
          3.66558068100872,
          3.7837020030262183,
          3.9018233250437167,
          4.019944647061216,
          1.8483076894183532,
          1.966429011435852,
          2.0845503334533504,
          2.202671655470849,
          2.320792977488348,
          2.4389142995058464,
          2.5570356215233456,
          2.675156943540844,
          2.793278265558343,
          2.911399587575841,
          3.02952090959334,
          3.1476422316108383,
          3.265763553628337,
          3.383884875645836,
          3.5020061976633343,
          3.6201275196808336,
          3.738248841698332,
          3.8563701637158303,
          3.9744914857333287,
          4.092612807750828,
          1.920975850107966,
          2.0390971721254645,
          2.1572184941429633,
          2.275339816160462,
          2.393461138177961,
          2.5115824601954593,
          2.629703782212958,
          2.7478251042304564,
          2.8659464262479553,
          2.9840677482654536,
          3.1021890702829524,
          3.2203103923004512,
          3.3384317143179496,
          3.4565530363354484,
          3.5746743583529472,
          3.692795680370446,
          3.810917002387945,
          3.929038324405443,
          4.047159646422942,
          4.165280968440441,
          1.9936440107975781,
          2.111765332815077,
          2.2298866548325753,
          2.348007976850074,
          2.466129298867573,
          2.5842506208850713,
          2.7023719429025705,
          2.820493264920069,
          2.9386145869375677,
          3.056735908955066,
          3.174857230972565,
          3.2929785529900633,
          3.411099875007562,
          3.529221197025061,
          3.6473425190425592,
          3.7654638410600585,
          3.883585163077557,
          4.001706485095055,
          4.119827807112554,
          4.237949129130053
         ]
        }
       ],
       "layout": {
        "height": 800,
        "scene": {
         "xaxis": {
          "title": {
           "text": "Weight"
          }
         },
         "yaxis": {
          "title": {
           "text": "Horsepower"
          }
         },
         "zaxis": {
          "title": {
           "text": "l/10km"
          }
         }
        },
        "template": {
         "data": {
          "bar": [
           {
            "error_x": {
             "color": "#2a3f5f"
            },
            "error_y": {
             "color": "#2a3f5f"
            },
            "marker": {
             "line": {
              "color": "#E5ECF6",
              "width": 0.5
             },
             "pattern": {
              "fillmode": "overlay",
              "size": 10,
              "solidity": 0.2
             }
            },
            "type": "bar"
           }
          ],
          "barpolar": [
           {
            "marker": {
             "line": {
              "color": "#E5ECF6",
              "width": 0.5
             },
             "pattern": {
              "fillmode": "overlay",
              "size": 10,
              "solidity": 0.2
             }
            },
            "type": "barpolar"
           }
          ],
          "carpet": [
           {
            "aaxis": {
             "endlinecolor": "#2a3f5f",
             "gridcolor": "white",
             "linecolor": "white",
             "minorgridcolor": "white",
             "startlinecolor": "#2a3f5f"
            },
            "baxis": {
             "endlinecolor": "#2a3f5f",
             "gridcolor": "white",
             "linecolor": "white",
             "minorgridcolor": "white",
             "startlinecolor": "#2a3f5f"
            },
            "type": "carpet"
           }
          ],
          "choropleth": [
           {
            "colorbar": {
             "outlinewidth": 0,
             "ticks": ""
            },
            "type": "choropleth"
           }
          ],
          "contour": [
           {
            "colorbar": {
             "outlinewidth": 0,
             "ticks": ""
            },
            "colorscale": [
             [
              0,
              "#0d0887"
             ],
             [
              0.1111111111111111,
              "#46039f"
             ],
             [
              0.2222222222222222,
              "#7201a8"
             ],
             [
              0.3333333333333333,
              "#9c179e"
             ],
             [
              0.4444444444444444,
              "#bd3786"
             ],
             [
              0.5555555555555556,
              "#d8576b"
             ],
             [
              0.6666666666666666,
              "#ed7953"
             ],
             [
              0.7777777777777778,
              "#fb9f3a"
             ],
             [
              0.8888888888888888,
              "#fdca26"
             ],
             [
              1,
              "#f0f921"
             ]
            ],
            "type": "contour"
           }
          ],
          "contourcarpet": [
           {
            "colorbar": {
             "outlinewidth": 0,
             "ticks": ""
            },
            "type": "contourcarpet"
           }
          ],
          "heatmap": [
           {
            "colorbar": {
             "outlinewidth": 0,
             "ticks": ""
            },
            "colorscale": [
             [
              0,
              "#0d0887"
             ],
             [
              0.1111111111111111,
              "#46039f"
             ],
             [
              0.2222222222222222,
              "#7201a8"
             ],
             [
              0.3333333333333333,
              "#9c179e"
             ],
             [
              0.4444444444444444,
              "#bd3786"
             ],
             [
              0.5555555555555556,
              "#d8576b"
             ],
             [
              0.6666666666666666,
              "#ed7953"
             ],
             [
              0.7777777777777778,
              "#fb9f3a"
             ],
             [
              0.8888888888888888,
              "#fdca26"
             ],
             [
              1,
              "#f0f921"
             ]
            ],
            "type": "heatmap"
           }
          ],
          "heatmapgl": [
           {
            "colorbar": {
             "outlinewidth": 0,
             "ticks": ""
            },
            "colorscale": [
             [
              0,
              "#0d0887"
             ],
             [
              0.1111111111111111,
              "#46039f"
             ],
             [
              0.2222222222222222,
              "#7201a8"
             ],
             [
              0.3333333333333333,
              "#9c179e"
             ],
             [
              0.4444444444444444,
              "#bd3786"
             ],
             [
              0.5555555555555556,
              "#d8576b"
             ],
             [
              0.6666666666666666,
              "#ed7953"
             ],
             [
              0.7777777777777778,
              "#fb9f3a"
             ],
             [
              0.8888888888888888,
              "#fdca26"
             ],
             [
              1,
              "#f0f921"
             ]
            ],
            "type": "heatmapgl"
           }
          ],
          "histogram": [
           {
            "marker": {
             "pattern": {
              "fillmode": "overlay",
              "size": 10,
              "solidity": 0.2
             }
            },
            "type": "histogram"
           }
          ],
          "histogram2d": [
           {
            "colorbar": {
             "outlinewidth": 0,
             "ticks": ""
            },
            "colorscale": [
             [
              0,
              "#0d0887"
             ],
             [
              0.1111111111111111,
              "#46039f"
             ],
             [
              0.2222222222222222,
              "#7201a8"
             ],
             [
              0.3333333333333333,
              "#9c179e"
             ],
             [
              0.4444444444444444,
              "#bd3786"
             ],
             [
              0.5555555555555556,
              "#d8576b"
             ],
             [
              0.6666666666666666,
              "#ed7953"
             ],
             [
              0.7777777777777778,
              "#fb9f3a"
             ],
             [
              0.8888888888888888,
              "#fdca26"
             ],
             [
              1,
              "#f0f921"
             ]
            ],
            "type": "histogram2d"
           }
          ],
          "histogram2dcontour": [
           {
            "colorbar": {
             "outlinewidth": 0,
             "ticks": ""
            },
            "colorscale": [
             [
              0,
              "#0d0887"
             ],
             [
              0.1111111111111111,
              "#46039f"
             ],
             [
              0.2222222222222222,
              "#7201a8"
             ],
             [
              0.3333333333333333,
              "#9c179e"
             ],
             [
              0.4444444444444444,
              "#bd3786"
             ],
             [
              0.5555555555555556,
              "#d8576b"
             ],
             [
              0.6666666666666666,
              "#ed7953"
             ],
             [
              0.7777777777777778,
              "#fb9f3a"
             ],
             [
              0.8888888888888888,
              "#fdca26"
             ],
             [
              1,
              "#f0f921"
             ]
            ],
            "type": "histogram2dcontour"
           }
          ],
          "mesh3d": [
           {
            "colorbar": {
             "outlinewidth": 0,
             "ticks": ""
            },
            "type": "mesh3d"
           }
          ],
          "parcoords": [
           {
            "line": {
             "colorbar": {
              "outlinewidth": 0,
              "ticks": ""
             }
            },
            "type": "parcoords"
           }
          ],
          "pie": [
           {
            "automargin": true,
            "type": "pie"
           }
          ],
          "scatter": [
           {
            "fillpattern": {
             "fillmode": "overlay",
             "size": 10,
             "solidity": 0.2
            },
            "type": "scatter"
           }
          ],
          "scatter3d": [
           {
            "line": {
             "colorbar": {
              "outlinewidth": 0,
              "ticks": ""
             }
            },
            "marker": {
             "colorbar": {
              "outlinewidth": 0,
              "ticks": ""
             }
            },
            "type": "scatter3d"
           }
          ],
          "scattercarpet": [
           {
            "marker": {
             "colorbar": {
              "outlinewidth": 0,
              "ticks": ""
             }
            },
            "type": "scattercarpet"
           }
          ],
          "scattergeo": [
           {
            "marker": {
             "colorbar": {
              "outlinewidth": 0,
              "ticks": ""
             }
            },
            "type": "scattergeo"
           }
          ],
          "scattergl": [
           {
            "marker": {
             "colorbar": {
              "outlinewidth": 0,
              "ticks": ""
             }
            },
            "type": "scattergl"
           }
          ],
          "scattermapbox": [
           {
            "marker": {
             "colorbar": {
              "outlinewidth": 0,
              "ticks": ""
             }
            },
            "type": "scattermapbox"
           }
          ],
          "scatterpolar": [
           {
            "marker": {
             "colorbar": {
              "outlinewidth": 0,
              "ticks": ""
             }
            },
            "type": "scatterpolar"
           }
          ],
          "scatterpolargl": [
           {
            "marker": {
             "colorbar": {
              "outlinewidth": 0,
              "ticks": ""
             }
            },
            "type": "scatterpolargl"
           }
          ],
          "scatterternary": [
           {
            "marker": {
             "colorbar": {
              "outlinewidth": 0,
              "ticks": ""
             }
            },
            "type": "scatterternary"
           }
          ],
          "surface": [
           {
            "colorbar": {
             "outlinewidth": 0,
             "ticks": ""
            },
            "colorscale": [
             [
              0,
              "#0d0887"
             ],
             [
              0.1111111111111111,
              "#46039f"
             ],
             [
              0.2222222222222222,
              "#7201a8"
             ],
             [
              0.3333333333333333,
              "#9c179e"
             ],
             [
              0.4444444444444444,
              "#bd3786"
             ],
             [
              0.5555555555555556,
              "#d8576b"
             ],
             [
              0.6666666666666666,
              "#ed7953"
             ],
             [
              0.7777777777777778,
              "#fb9f3a"
             ],
             [
              0.8888888888888888,
              "#fdca26"
             ],
             [
              1,
              "#f0f921"
             ]
            ],
            "type": "surface"
           }
          ],
          "table": [
           {
            "cells": {
             "fill": {
              "color": "#EBF0F8"
             },
             "line": {
              "color": "white"
             }
            },
            "header": {
             "fill": {
              "color": "#C8D4E3"
             },
             "line": {
              "color": "white"
             }
            },
            "type": "table"
           }
          ]
         },
         "layout": {
          "annotationdefaults": {
           "arrowcolor": "#2a3f5f",
           "arrowhead": 0,
           "arrowwidth": 1
          },
          "autotypenumbers": "strict",
          "coloraxis": {
           "colorbar": {
            "outlinewidth": 0,
            "ticks": ""
           }
          },
          "colorscale": {
           "diverging": [
            [
             0,
             "#8e0152"
            ],
            [
             0.1,
             "#c51b7d"
            ],
            [
             0.2,
             "#de77ae"
            ],
            [
             0.3,
             "#f1b6da"
            ],
            [
             0.4,
             "#fde0ef"
            ],
            [
             0.5,
             "#f7f7f7"
            ],
            [
             0.6,
             "#e6f5d0"
            ],
            [
             0.7,
             "#b8e186"
            ],
            [
             0.8,
             "#7fbc41"
            ],
            [
             0.9,
             "#4d9221"
            ],
            [
             1,
             "#276419"
            ]
           ],
           "sequential": [
            [
             0,
             "#0d0887"
            ],
            [
             0.1111111111111111,
             "#46039f"
            ],
            [
             0.2222222222222222,
             "#7201a8"
            ],
            [
             0.3333333333333333,
             "#9c179e"
            ],
            [
             0.4444444444444444,
             "#bd3786"
            ],
            [
             0.5555555555555556,
             "#d8576b"
            ],
            [
             0.6666666666666666,
             "#ed7953"
            ],
            [
             0.7777777777777778,
             "#fb9f3a"
            ],
            [
             0.8888888888888888,
             "#fdca26"
            ],
            [
             1,
             "#f0f921"
            ]
           ],
           "sequentialminus": [
            [
             0,
             "#0d0887"
            ],
            [
             0.1111111111111111,
             "#46039f"
            ],
            [
             0.2222222222222222,
             "#7201a8"
            ],
            [
             0.3333333333333333,
             "#9c179e"
            ],
            [
             0.4444444444444444,
             "#bd3786"
            ],
            [
             0.5555555555555556,
             "#d8576b"
            ],
            [
             0.6666666666666666,
             "#ed7953"
            ],
            [
             0.7777777777777778,
             "#fb9f3a"
            ],
            [
             0.8888888888888888,
             "#fdca26"
            ],
            [
             1,
             "#f0f921"
            ]
           ]
          },
          "colorway": [
           "#636efa",
           "#EF553B",
           "#00cc96",
           "#ab63fa",
           "#FFA15A",
           "#19d3f3",
           "#FF6692",
           "#B6E880",
           "#FF97FF",
           "#FECB52"
          ],
          "font": {
           "color": "#2a3f5f"
          },
          "geo": {
           "bgcolor": "white",
           "lakecolor": "white",
           "landcolor": "#E5ECF6",
           "showlakes": true,
           "showland": true,
           "subunitcolor": "white"
          },
          "hoverlabel": {
           "align": "left"
          },
          "hovermode": "closest",
          "mapbox": {
           "style": "light"
          },
          "paper_bgcolor": "white",
          "plot_bgcolor": "#E5ECF6",
          "polar": {
           "angularaxis": {
            "gridcolor": "white",
            "linecolor": "white",
            "ticks": ""
           },
           "bgcolor": "#E5ECF6",
           "radialaxis": {
            "gridcolor": "white",
            "linecolor": "white",
            "ticks": ""
           }
          },
          "scene": {
           "xaxis": {
            "backgroundcolor": "#E5ECF6",
            "gridcolor": "white",
            "gridwidth": 2,
            "linecolor": "white",
            "showbackground": true,
            "ticks": "",
            "zerolinecolor": "white"
           },
           "yaxis": {
            "backgroundcolor": "#E5ECF6",
            "gridcolor": "white",
            "gridwidth": 2,
            "linecolor": "white",
            "showbackground": true,
            "ticks": "",
            "zerolinecolor": "white"
           },
           "zaxis": {
            "backgroundcolor": "#E5ECF6",
            "gridcolor": "white",
            "gridwidth": 2,
            "linecolor": "white",
            "showbackground": true,
            "ticks": "",
            "zerolinecolor": "white"
           }
          },
          "shapedefaults": {
           "line": {
            "color": "#2a3f5f"
           }
          },
          "ternary": {
           "aaxis": {
            "gridcolor": "white",
            "linecolor": "white",
            "ticks": ""
           },
           "baxis": {
            "gridcolor": "white",
            "linecolor": "white",
            "ticks": ""
           },
           "bgcolor": "#E5ECF6",
           "caxis": {
            "gridcolor": "white",
            "linecolor": "white",
            "ticks": ""
           }
          },
          "title": {
           "x": 0.05
          },
          "xaxis": {
           "automargin": true,
           "gridcolor": "white",
           "linecolor": "white",
           "ticks": "",
           "title": {
            "standoff": 15
           },
           "zerolinecolor": "white",
           "zerolinewidth": 2
          },
          "yaxis": {
           "automargin": true,
           "gridcolor": "white",
           "linecolor": "white",
           "ticks": "",
           "title": {
            "standoff": 15
           },
           "zerolinecolor": "white",
           "zerolinewidth": 2
          }
         }
        },
        "title": {
         "text": "Interactive 3D Plot of Actual vs. Predicted Values with Extended Predictions"
        }
       }
      }
     },
     "metadata": {},
     "output_type": "display_data"
    }
   ],
   "source": [
    "# Generate Extended Data for Prediction\n",
    "max_weight = X_test['weight'].max()\n",
    "max_horsepower = X_test['horsepower'].max()\n",
    "\n",
    "# Creating a grid of values for weight and horsepower\n",
    "weight_extended = np.linspace(X_test['weight'].min(), max_weight * 2, 20)\n",
    "horsepower_extended = np.linspace(X_test['horsepower'].min(), max_horsepower * 2, 20)\n",
    "weight_grid, horsepower_grid = np.meshgrid(weight_extended, horsepower_extended)\n",
    "\n",
    "# Create a DataFrame for easy prediction\n",
    "extended_df = pd.DataFrame({\n",
    "    'weight': weight_grid.ravel(),\n",
    "    'horsepower': horsepower_grid.ravel(),\n",
    "})\n",
    "\n",
    "# Predict Using Extended Data\n",
    "extended_predictions = model.predict(extended_df)\n",
    "\n",
    "import plotly.graph_objects as go\n",
    "\n",
    "# Create a 3D scatter plot with Plotly\n",
    "fig = go.Figure()\n",
    "\n",
    "# Actual data\n",
    "fig.add_trace(go.Scatter3d(x=X_test['weight'], y=X_test['horsepower'], z=y_test,\n",
    "                           mode='markers', name='Actual'))\n",
    "\n",
    "# Predicted data (original)\n",
    "fig.add_trace(go.Scatter3d(x=X_test['weight'], y=X_test['horsepower'], z=y_pred,\n",
    "                           mode='markers', name='Predicted', marker=dict(size=5)))\n",
    "\n",
    "# Extended predictions\n",
    "fig.add_trace(go.Scatter3d(x=extended_df['weight'], y=extended_df['horsepower'], z=extended_predictions,\n",
    "                           mode='markers', name='Extended Predictions', marker=dict(size=3, color='green')))\n",
    "\n",
    "fig.update_layout(\n",
    "    scene=dict(\n",
    "        xaxis_title='Weight',\n",
    "        yaxis_title='Horsepower',\n",
    "        zaxis_title='l/10km'\n",
    "    ),\n",
    "    title='Interactive 3D Plot of Actual vs. Predicted Values with Extended Predictions',\n",
    "    height=800\n",
    ")\n",
    "\n",
    "fig.show()\n"
   ]
  },
  {
   "cell_type": "markdown",
   "metadata": {},
   "source": [
    "Granted, it does make less sense to do this than for a single independent variable, where you can easily see the confidence interval, but here we see the plane of predictions based on different values of the two independent variables (weight, horse power) x₁ and x₂, weighted by their corresponding coefficients β₁, β₂."
   ]
  }
 ],
 "metadata": {
  "kernelspec": {
   "display_name": "Python 3",
   "language": "python",
   "name": "python3"
  },
  "language_info": {
   "codemirror_mode": {
    "name": "ipython",
    "version": 3
   },
   "file_extension": ".py",
   "mimetype": "text/x-python",
   "name": "python",
   "nbconvert_exporter": "python",
   "pygments_lexer": "ipython3",
   "version": "3.11.6"
  }
 },
 "nbformat": 4,
 "nbformat_minor": 2
}
